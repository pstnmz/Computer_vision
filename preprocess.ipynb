{
 "cells": [
  {
   "cell_type": "code",
   "execution_count": 1,
   "metadata": {},
   "outputs": [],
   "source": [
    "import cupy as cp\n",
    "from cupyx.scipy.ndimage import zoom\n",
    "import glob\n",
    "import nibabel as nib\n",
    "from nibabel.orientations import axcodes2ornt, ornt_transform, apply_orientation, inv_ornt_aff\n",
    "import ipympl\n",
    "%matplotlib widget\n",
    "import matplotlib.pyplot as plt\n",
    "import numpy as np"
   ]
  },
  {
   "cell_type": "code",
   "execution_count": 2,
   "metadata": {},
   "outputs": [],
   "source": [
    "def resample_mri(img, new_spacing=(1.0, 1.0, 1.0), order=3, reorient=True):\n",
    "    \"\"\"\n",
    "    Resamples a NIfTI MRI image to the desired spacing using spline interpolation and saves the result.\n",
    "    \n",
    "    Parameters:\n",
    "    - input_file (str): Path to the input NIfTI file.\n",
    "    - output_file (str): Path to save the resampled NIfTI file.\n",
    "    - new_spacing (tuple of float): The desired spacing in each dimension (z, y, x). Default is (1.0, 1.0, 1.0).\n",
    "    - order (int): The order of the spline interpolation. Default is 3 for cubic interpolation.\n",
    "    \"\"\"\n",
    "    \n",
    "    # Load the MRI image using nibabel\n",
    "    input_image = img.get_fdata()\n",
    "    original_spacing = img.header.get_zooms()\n",
    "    \n",
    "    # Convert the input image to a CuPy array\n",
    "    input_image_cp = cp.array(input_image)\n",
    "    \n",
    "    # Calculate the zoom factors for each dimension\n",
    "    zoom_factors = tuple(os / ns for os, ns in zip(original_spacing, new_spacing))\n",
    "    \n",
    "    # Perform the resampling using the zoom function\n",
    "    resampled_image_cp = zoom(input_image_cp, zoom_factors, order=order)\n",
    "    \n",
    "    # Convert the resampled image back to a NumPy array\n",
    "    resampled_image = cp.asnumpy(resampled_image_cp)\n",
    "    \n",
    "    if reorient:\n",
    "        # Determine the original orientation\n",
    "        original_ornt = nib.orientations.io_orientation(img.affine)\n",
    "        \n",
    "        # Determine the transformation to RAI\n",
    "        rai_ornt = axcodes2ornt(('R', 'A', 'I'))\n",
    "        transform = ornt_transform(original_ornt, rai_ornt)\n",
    "        \n",
    "        # Apply the transformation to the image data\n",
    "        resampled_image_rai = apply_orientation(resampled_image, transform)\n",
    "        \n",
    "        # Create a new affine matrix for the RAI-oriented image\n",
    "        new_affine = img.affine @ inv_ornt_aff(transform, resampled_image.shape)\n",
    "        \n",
    "        # Save the resampled and reoriented image to a new NIfTI file\n",
    "        new_img = nib.Nifti1Image(resampled_image_rai, new_affine)\n",
    "        return new_img\n",
    "    else:\n",
    "        return nib.Nifti1Image(resampled_image, img.affine)\n",
    "    "
   ]
  },
  {
   "cell_type": "code",
   "execution_count": 3,
   "metadata": {},
   "outputs": [],
   "source": [
    "def z_score_mri_exclude_roi(mri_img, mask_img, output_file):\n",
    "    \"\"\"\n",
    "    Performs z-score normalization on an MRI image, using statistics computed from the image\n",
    "    excluding the region defined by a mask.\n",
    "    \n",
    "    Parameters:\n",
    "    - mri_file (str): Path to the input MRI NIfTI file.\n",
    "    - mask_file (str): Path to the NIfTI file containing the ROI mask.\n",
    "    - output_file (str): Path to save the z-score normalized NIfTI file.\n",
    "    \"\"\"\n",
    "    \n",
    "    mri_data = mri_img.get_fdata()\n",
    "    mask_data = mask_img.get_fdata()\n",
    "    \n",
    "    # Convert the MRI data and mask to CuPy arrays\n",
    "    mri_data_cp = cp.array(mri_data)\n",
    "    mask_data_cp = cp.array(mask_data)\n",
    "    \n",
    "    # Create a mask where the ROI is included (mask is 1 where ROI is included, 0 elsewhere)\n",
    "    roi_mask_cp = mask_data_cp > 0  # ROI mask\n",
    "    \n",
    "    # Create an exclusion mask where the ROI is excluded\n",
    "    exclusion_mask_cp = cp.logical_not(roi_mask_cp)  # Exclude ROI\n",
    "    \n",
    "    # Calculate the mean and standard deviation excluding the ROI\n",
    "    mri_mean = cp.mean(mri_data_cp[exclusion_mask_cp])\n",
    "    mri_std = cp.std(mri_data_cp[exclusion_mask_cp])\n",
    "    \n",
    "    # Perform z-score normalization on the entire MRI data\n",
    "    z_score_normalized_cp = (mri_data_cp - mri_mean) / mri_std\n",
    "    \n",
    "    # Convert the result back to a NumPy array\n",
    "    z_score_normalized = cp.asnumpy(z_score_normalized_cp)\n",
    "    \n",
    "    # Create a new NIfTI image with the normalized data and save it\n",
    "    new_img = nib.Nifti1Image(z_score_normalized, mri_img.affine, mri_img.header)\n",
    "    nib.save(new_img, output_file)"
   ]
  },
  {
   "cell_type": "code",
   "execution_count": 4,
   "metadata": {},
   "outputs": [],
   "source": [
    "path_data = \"/mnt/data/psteinmetz/neotex/to_process/110\"\n",
    "image_path_sub = glob.glob(\n",
    "    f'{path_data}/RawVolume/*substracted*'\n",
    ")\n",
    "\n",
    "mask_bb_path = glob.glob(f'{path_data}/RoiVolume/Bounding_box.nii.gz')\n",
    "mask_path = glob.glob(f'{path_data}/RoiVolume/C1_volume_resampled_NN.nii.gz')\n",
    "\n",
    "image_sub = nib.load(image_path_sub[0])\n",
    "mask_bb = nib.load(mask_bb_path[0])\n",
    "mask = nib.load(mask_path[0])"
   ]
  },
  {
   "cell_type": "code",
   "execution_count": 5,
   "metadata": {},
   "outputs": [
    {
     "data": {
      "text/plain": [
       "(0.7031, 0.7031, 1.0)"
      ]
     },
     "execution_count": 5,
     "metadata": {},
     "output_type": "execute_result"
    }
   ],
   "source": [
    "image_sub.header.get_zooms()"
   ]
  },
  {
   "cell_type": "code",
   "execution_count": 6,
   "metadata": {},
   "outputs": [],
   "source": [
    "interp_im = resample_mri(image_sub)\n",
    "resampled_mask_bb = resample_mri(mask_bb, order=1)"
   ]
  },
  {
   "cell_type": "code",
   "execution_count": 8,
   "metadata": {},
   "outputs": [
    {
     "data": {
      "text/plain": [
       "array([[   1.        ,    0.        ,    0.        , -171.7003479 ],\n",
       "       [   0.        ,    1.        ,    0.        , -223.84634399],\n",
       "       [   0.        ,    0.        ,   -1.        ,   69.57299805],\n",
       "       [   0.        ,    0.        ,    0.        ,    1.        ]])"
      ]
     },
     "execution_count": 8,
     "metadata": {},
     "output_type": "execute_result"
    }
   ],
   "source": [
    "resampled_mask_bb.affine"
   ]
  },
  {
   "cell_type": "code",
   "execution_count": 9,
   "metadata": {},
   "outputs": [],
   "source": [
    "resampled_mask_bb.get_fdata().shape\n",
    "extended_bb = np.zeros((360, 360, 172))\n",
    "\n",
    "extended_bb[:359, :359, :359] = resampled_mask_bb.get_fdata()"
   ]
  },
  {
   "cell_type": "code",
   "execution_count": 10,
   "metadata": {},
   "outputs": [],
   "source": [
    "z_score_mri_exclude_roi(interp_im, nib.Nifti1Image(extended_bb, resampled_mask_bb.affine), path_data + '/test.nii.gz')"
   ]
  },
  {
   "cell_type": "code",
   "execution_count": null,
   "metadata": {},
   "outputs": [],
   "source": [
    "extended_bb.shape"
   ]
  },
  {
   "cell_type": "code",
   "execution_count": null,
   "metadata": {},
   "outputs": [],
   "source": [
    "interp_im.get_fdata().shape"
   ]
  },
  {
   "cell_type": "code",
   "execution_count": null,
   "metadata": {},
   "outputs": [],
   "source": [
    "interp_im.header.get_base_affine()"
   ]
  },
  {
   "cell_type": "code",
   "execution_count": null,
   "metadata": {},
   "outputs": [],
   "source": [
    "resampled_mask_bb.header.get_base_affine()"
   ]
  },
  {
   "cell_type": "code",
   "execution_count": null,
   "metadata": {},
   "outputs": [],
   "source": [
    "nib.save(resampled_mask_bb, path_data + '/test_bb.nii.gz')"
   ]
  },
  {
   "cell_type": "code",
   "execution_count": null,
   "metadata": {},
   "outputs": [],
   "source": [
    "nib.save(interp_im, path_data + '/test.nii.gz')"
   ]
  },
  {
   "cell_type": "code",
   "execution_count": null,
   "metadata": {},
   "outputs": [],
   "source": [
    "im = interp_im.get_fdata()\n",
    "ma = resampled_mask_bb.get_fdata()"
   ]
  },
  {
   "cell_type": "code",
   "execution_count": null,
   "metadata": {},
   "outputs": [],
   "source": [
    "plt.close('all')\n",
    "plt.imshow(im[:, :, 100], interpolation='none', cmap='grey')\n",
    "plt.imshow(ma[:, :, 100], alpha=0.25*(ma[:, :, 100]>0))\n",
    "plt.show()"
   ]
  },
  {
   "cell_type": "code",
   "execution_count": null,
   "metadata": {},
   "outputs": [],
   "source": [
    "plt.close('all')\n",
    "plt.imshow(im[:, 240, :], interpolation='none', cmap='grey')\n",
    "plt.imshow(ma[:, 240, :], alpha=0.25*(ma[:, 240, :]>0))\n",
    "plt.show()"
   ]
  },
  {
   "cell_type": "code",
   "execution_count": null,
   "metadata": {},
   "outputs": [],
   "source": []
  }
 ],
 "metadata": {
  "kernelspec": {
   "display_name": "venv",
   "language": "python",
   "name": "python3"
  },
  "language_info": {
   "codemirror_mode": {
    "name": "ipython",
    "version": 3
   },
   "file_extension": ".py",
   "mimetype": "text/x-python",
   "name": "python",
   "nbconvert_exporter": "python",
   "pygments_lexer": "ipython3",
   "version": "3.10.14"
  }
 },
 "nbformat": 4,
 "nbformat_minor": 2
}
