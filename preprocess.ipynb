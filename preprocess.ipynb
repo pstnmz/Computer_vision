{
 "cells": [
  {
   "cell_type": "code",
   "execution_count": 7,
   "metadata": {},
   "outputs": [],
   "source": [
    "import cupy as cp\n",
    "from cupyx.scipy.ndimage import zoom\n",
    "import glob\n",
    "import nibabel as nib\n",
    "from nibabel.processing import resample_from_to\n",
    "from nibabel.orientations import axcodes2ornt, ornt_transform, apply_orientation, inv_ornt_aff\n",
    "import ipympl\n",
    "%matplotlib widget\n",
    "import matplotlib.pyplot as plt\n",
    "import numpy as np"
   ]
  },
  {
   "cell_type": "code",
   "execution_count": 8,
   "metadata": {},
   "outputs": [],
   "source": [
    "def resample_mri(img, new_spacing=(1.0, 1.0, 1.0), order=3, reorient=True):\n",
    "    \"\"\"\n",
    "    Resamples a NIfTI MRI image to the desired spacing using spline interpolation and saves the result.\n",
    "    \n",
    "    Parameters:\n",
    "    - input_file (str): Path to the input NIfTI file.\n",
    "    - output_file (str): Path to save the resampled NIfTI file.\n",
    "    - new_spacing (tuple of float): The desired spacing in each dimension (z, y, x). Default is (1.0, 1.0, 1.0).\n",
    "    - order (int): The order of the spline interpolation. Default is 3 for cubic interpolation.\n",
    "    \"\"\"\n",
    "    \n",
    "    # Load the MRI image using nibabel\n",
    "    input_image = img.get_fdata()\n",
    "    original_spacing = img.header.get_zooms()\n",
    "    \n",
    "    # Convert the input image to a CuPy array\n",
    "    input_image_cp = cp.array(input_image)\n",
    "    \n",
    "    # Calculate the zoom factors for each dimension\n",
    "    zoom_factors = tuple(os / ns for os, ns in zip(original_spacing, new_spacing))\n",
    "    \n",
    "    # Perform the resampling using the zoom function\n",
    "    resampled_image_cp = zoom(input_image_cp, zoom_factors, order=order)\n",
    "    new_affine = np.copy(img.affine)\n",
    "    scale_factors = np.array(new_spacing) / np.array(original_spacing)\n",
    "    new_affine[:3, :3] *= scale_factors\n",
    "    \n",
    "    # Convert the resampled image back to a NumPy array\n",
    "    resampled_image = cp.asnumpy(resampled_image_cp)\n",
    "    \n",
    "    if reorient:\n",
    "        # Determine the original orientation\n",
    "        original_ornt = nib.orientations.io_orientation(new_affine)\n",
    "        \n",
    "        # Determine the transformation to RAI\n",
    "        rai_ornt = axcodes2ornt(('R', 'A', 'I'))\n",
    "        transform = ornt_transform(original_ornt, rai_ornt)\n",
    "        \n",
    "        # Apply the transformation to the image data\n",
    "        resampled_image_rai = apply_orientation(resampled_image, transform)\n",
    "        \n",
    "        # Create a new affine matrix for the RAI-oriented image\n",
    "        new_affine = new_affine @ inv_ornt_aff(transform, resampled_image.shape)\n",
    "        \n",
    "        # Save the resampled and reoriented image to a new NIfTI file\n",
    "        new_img = nib.Nifti1Image(resampled_image_rai, new_affine)\n",
    "        return new_img\n",
    "    else:\n",
    "        return nib.Nifti1Image(resampled_image, new_affine)\n",
    "    "
   ]
  },
  {
   "cell_type": "code",
   "execution_count": 9,
   "metadata": {},
   "outputs": [],
   "source": [
    "def z_score_mri_exclude_roi(mri_img, mask_img, output_file):\n",
    "    \"\"\"\n",
    "    Performs z-score normalization on an MRI image, using statistics computed from the image\n",
    "    excluding the region defined by a mask.\n",
    "    \n",
    "    Parameters:\n",
    "    - mri_file (str): Path to the input MRI NIfTI file.\n",
    "    - mask_file (str): Path to the NIfTI file containing the ROI mask.\n",
    "    - output_file (str): Path to save the z-score normalized NIfTI file.\n",
    "    \"\"\"\n",
    "    \n",
    "    mri_data = mri_img.get_fdata()\n",
    "    mask_data = mask_img.get_fdata()\n",
    "    \n",
    "    # Convert the MRI data and mask to CuPy arrays\n",
    "    mri_data_cp = cp.array(mri_data)\n",
    "    mask_data_cp = cp.array(mask_data)\n",
    "    \n",
    "    # Create a mask where the ROI is included (mask is 1 where ROI is included, 0 elsewhere)\n",
    "    roi_mask_cp = mask_data_cp > 0  # ROI mask\n",
    "    \n",
    "    # Create an exclusion mask where the ROI is excluded\n",
    "    exclusion_mask_cp = cp.logical_not(roi_mask_cp)  # Exclude ROI\n",
    "    \n",
    "    # Calculate the mean and standard deviation excluding the ROI\n",
    "    mri_mean = cp.mean(mri_data_cp[exclusion_mask_cp])\n",
    "    mri_std = cp.std(mri_data_cp[exclusion_mask_cp])\n",
    "    \n",
    "    # Perform z-score normalization on the entire MRI data\n",
    "    z_score_normalized_cp = (mri_data_cp - mri_mean) / mri_std\n",
    "    \n",
    "    # Convert the result back to a NumPy array\n",
    "    z_score_normalized = cp.asnumpy(z_score_normalized_cp)\n",
    "    \n",
    "    # Create a new NIfTI image with the normalized data and save it\n",
    "    new_img = nib.Nifti1Image(z_score_normalized, mri_img.affine, mri_img.header)\n",
    "    nib.save(new_img, output_file)\n",
    "    \n",
    "    return new_img"
   ]
  },
  {
   "cell_type": "code",
   "execution_count": 10,
   "metadata": {},
   "outputs": [],
   "source": [
    "def match_roi_to_image(roi_img, ref_img):\n",
    "    \"\"\"\n",
    "    Matches an ROI image to a reference image by resampling and aligning the ROI to the reference.\n",
    "\n",
    "    Parameters:\n",
    "    - roi_img (nibabel.Nifti1Image): The ROI NIfTI image to be aligned.\n",
    "    - ref_img (nibabel.Nifti1Image): The reference NIfTI image to match the ROI against.\n",
    "\n",
    "    Returns:\n",
    "    - matched_roi_img (nibabel.Nifti1Image): The resampled and aligned ROI image.\n",
    "    \"\"\"\n",
    "    \n",
    "    # Resample the ROI to match the reference image using nibabel\n",
    "    matched_roi_img = resample_from_to(roi_img, ref_img)\n",
    "\n",
    "    return matched_roi_img"
   ]
  },
  {
   "cell_type": "code",
   "execution_count": 11,
   "metadata": {},
   "outputs": [],
   "source": [
    "path_data = glob.glob(\"/mnt/data/psteinmetz/neotex/to_process/152\")"
   ]
  },
  {
   "cell_type": "code",
   "execution_count": 12,
   "metadata": {},
   "outputs": [
    {
     "name": "stdout",
     "output_type": "stream",
     "text": [
      "/mnt/data/psteinmetz/neotex/to_process/152\n"
     ]
    }
   ],
   "source": [
    "for data in path_data:\n",
    "    print(data)\n",
    "    image_path_sub = glob.glob(\n",
    "        f'{data}/RawVolume/*dyn1_bias_corrected_1_resampled_Bspline_zscore_without_tumour.nii.gz'\n",
    "    )\n",
    "\n",
    "    mask_path = glob.glob(f'{data}/RoiVolume/Bounding_box.nii.gz')\n",
    "    if image_path_sub == []:\n",
    "        print('problem image')\n",
    "        pass\n",
    "    elif mask_path == []:\n",
    "        if glob.glob(f'{data}/RoiVolume/*C1_dyn*') != []:\n",
    "            print('to_check')\n",
    "            mask_path =glob.glob(f'{data}/RoiVolume/*C1_dyn*') \n",
    "            image_sub = nib.load(image_path_sub[0])\n",
    "            mask = nib.load(mask_path[0])\n",
    "            matched_mask = match_roi_to_image(mask, image_sub)\n",
    "\n",
    "            interp_im = resample_mri(image_sub)\n",
    "            resampled_mask = resample_mri(matched_mask, order=1)\n",
    "            final = z_score_mri_exclude_roi(interp_im, resampled_mask, data + '/RawVolume/substracted_resampled_bspline_zscore_without_tumor.nii.gz')\n",
    "            nib.save(resampled_mask, data + '/RoiVolume/New_C1_volume_resampled_NN.nii.gz')\n",
    "            \n",
    "        elif glob.glob(f'{data}/RoiVolume/*C1_' + data.split('/')[-1] + '*') != []:\n",
    "            print('to_check')\n",
    "            mask_path = glob.glob(f'{data}/RoiVolume/*C1_' + data.split('/')[-1] + '*')\n",
    "            \n",
    "            image_sub = nib.load(image_path_sub[0])\n",
    "            mask = nib.load(mask_path[0])\n",
    "            matched_mask = match_roi_to_image(mask, image_sub)\n",
    "\n",
    "            interp_im = resample_mri(image_sub)\n",
    "            resampled_mask = resample_mri(matched_mask, order=1)\n",
    "            final = z_score_mri_exclude_roi(interp_im, resampled_mask, data + '/RawVolume/substracted_resampled_bspline_zscore_without_tumor.nii.gz')\n",
    "            nib.save(resampled_mask, data + '/RoiVolume/New_C1_volume_resampled_NN.nii.gz')\n",
    "        else:\n",
    "            print('problem mask')\n",
    "            pass\n",
    "\n",
    "    else:\n",
    "        image_sub = nib.load(image_path_sub[0])\n",
    "        mask = nib.load(mask_path[0])\n",
    "        matched_mask = match_roi_to_image(mask, image_sub)\n",
    "\n",
    "        interp_im = resample_mri(image_sub)\n",
    "        resampled_mask = resample_mri(matched_mask, order=1)\n",
    "        final = z_score_mri_exclude_roi(interp_im, resampled_mask, data + '/RawVolume/dyn1_resampled_bspline_zscore_without_tumor.nii.gz')\n",
    "        nib.save(resampled_mask, data + '/RoiVolume/New_bb_dyn1_resampled.nii.gz')"
   ]
  },
  {
   "cell_type": "code",
   "execution_count": null,
   "metadata": {},
   "outputs": [],
   "source": [
    "path_data[0].split('/')[-1]"
   ]
  },
  {
   "cell_type": "code",
   "execution_count": null,
   "metadata": {},
   "outputs": [],
   "source": [
    "im = final.get_fdata()\n",
    "ma = resampled_mask.get_fdata()"
   ]
  },
  {
   "cell_type": "code",
   "execution_count": null,
   "metadata": {},
   "outputs": [],
   "source": [
    "plt.close('all')\n",
    "plt.imshow(im[:, :, 100], interpolation='none', cmap='grey')\n",
    "plt.imshow(ma[:, :, 100], alpha=0.25*(ma[:, :, 100]>0))\n",
    "plt.show()"
   ]
  },
  {
   "cell_type": "code",
   "execution_count": null,
   "metadata": {},
   "outputs": [],
   "source": [
    "plt.close('all')\n",
    "plt.imshow(im[:, 240, :], interpolation='none', cmap='grey')\n",
    "plt.imshow(ma[:, 240, :], alpha=0.25*(ma[:, 240, :]>0))\n",
    "plt.show()"
   ]
  },
  {
   "cell_type": "code",
   "execution_count": null,
   "metadata": {},
   "outputs": [],
   "source": []
  }
 ],
 "metadata": {
  "kernelspec": {
   "display_name": "venv",
   "language": "python",
   "name": "python3"
  },
  "language_info": {
   "codemirror_mode": {
    "name": "ipython",
    "version": 3
   },
   "file_extension": ".py",
   "mimetype": "text/x-python",
   "name": "python",
   "nbconvert_exporter": "python",
   "pygments_lexer": "ipython3",
   "version": "3.10.14"
  }
 },
 "nbformat": 4,
 "nbformat_minor": 2
}
