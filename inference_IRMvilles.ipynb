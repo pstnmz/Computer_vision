{
 "cells": [
  {
   "cell_type": "code",
   "execution_count": null,
   "metadata": {},
   "outputs": [],
   "source": [
    "import glob\n",
    "import nibabel as nib\n",
    "from nibabel.orientations import axcodes2ornt, ornt_transform, apply_orientation, ornt2axcodes\n",
    "import ipympl\n",
    "import os\n",
    "%matplotlib widget\n",
    "import matplotlib.pyplot as plt\n",
    "import seaborn as sns\n",
    "import pandas as pd\n",
    "import numpy as np\n",
    "import cupy as cp\n",
    "from lito_radiomics.lito_radiomics.lito_features import shape2D\n",
    "from cupyx.scipy import ndimage\n",
    "from sklearn.calibration import LabelEncoder\n",
    "from radiomics import featureextractor\n",
    "import SimpleITK as sitk\n",
    "from skimage.measure import EllipseModel, find_contours\n",
    "from skimage.draw import ellipse\n",
    "from scipy import spatial\n",
    "import datatable as dt\n",
    "import scipy\n",
    "import pickle"
   ]
  },
  {
   "cell_type": "code",
   "execution_count": null,
   "metadata": {},
   "outputs": [],
   "source": [
    "def compute_dice_ellipse(a, b, eigen_vect, mask_slice):\n",
    "    \n",
    "    angle1 = np.arctan(eigen_vect[1][1]/eigen_vect[1][0])\n",
    "    angle2 = np.arctan(eigen_vect[1][1]/eigen_vect[1][0]) + np.deg2rad(90)\n",
    "\n",
    "    center = ndimage.center_of_mass(cp.asarray(sitk.GetArrayFromImage(mask_slice)))\n",
    "    xy1 = EllipseModel().predict_xy(np.linspace(0, 2 * np.pi, 25), params=(center[1].item(), center[0].item(), a, b, angle1))\n",
    "    xy2 = EllipseModel().predict_xy(np.linspace(0, 2 * np.pi, 25), params=(center[1].item(), center[0].item(), a, b, angle2))\n",
    "    ell1 = ellipse(center[1].item(), center[0].item(), a, b, rotation=angle1)\n",
    "    ell2 = ellipse(center[1].item(), center[0].item(), a, b, rotation=angle2)\n",
    "\n",
    "    contours = find_contours(sitk.GetArrayFromImage(mask_slice), 0.5)\n",
    "    contours = [np.flip(contours[k]) for k in range(len(contours))]\n",
    "\n",
    "    ellipse_estimation = EllipseModel()\n",
    "    if ellipse_estimation.estimate(xy1):\n",
    "        residuals1 = np.mean(np.concatenate([ellipse_estimation.residuals(contours[k]) for k in range(len(contours))]))\n",
    "        \n",
    "    if ellipse_estimation.estimate(xy2):\n",
    "        residuals2 = np.mean(np.concatenate([ellipse_estimation.residuals(contours[k]) for k in range(len(contours))]))\n",
    "        \n",
    "    shape_slice = sitk.GetArrayFromImage(mask_slice).shape\n",
    "    mask_ellipse1 = np.zeros(shape_slice)\n",
    "    mask_ellipse1[[i for (i, j) in zip(ell1[::-1][0], ell1[::-1][1]) if (i<shape_slice[0] and j<shape_slice[1])], [j for (i, j) in zip(ell1[::-1][0], ell1[::-1][1]) if (i<shape_slice[0] and j<shape_slice[1])]] = 1\n",
    "\n",
    "    mask_ellipse2 = np.zeros(shape_slice)\n",
    "    mask_ellipse2[[i for (i, j) in zip(ell2[::-1][0], ell2[::-1][1]) if (i<shape_slice[0] and j<shape_slice[1])], [j for (i, j) in zip(ell2[::-1][0], ell2[::-1][1]) if (i<shape_slice[0] and j<shape_slice[1])]] = 1\n",
    "\n",
    "    dice1=1-spatial.distance.dice(sitk.GetArrayFromImage(mask_slice).ravel(), mask_ellipse1.ravel())\n",
    "    dice2=1-spatial.distance.dice(sitk.GetArrayFromImage(mask_slice).ravel(), mask_ellipse2.ravel())\n",
    "\n",
    "    if dice1 >= dice2:\n",
    "        return residuals1, dice1, xy1, mask_ellipse1, center\n",
    "    else:\n",
    "        return residuals2, dice2, xy2, mask_ellipse2, center"
   ]
  },
  {
   "cell_type": "code",
   "execution_count": null,
   "metadata": {},
   "outputs": [],
   "source": [
    "def check_orientation(ct_image, ct_arr):\n",
    "    \"\"\"\n",
    "    Check the NIfTI orientation, and flip to  'LPS' if needed.\n",
    "    :param ct_image: NIfTI file\n",
    "    :param ct_arr: array file\n",
    "    :return: array after flipping\n",
    "    \"\"\"\n",
    "\n",
    "    original_ornt = nib.orientations.io_orientation(ct_image.affine)\n",
    "    axcodes = ornt2axcodes(original_ornt)\n",
    "    print(axcodes)\n",
    "    # if axcodes == \"('R', 'A', 'I')\":\n",
    "    rai_ornt = axcodes2ornt(('L', 'P', 'S'))\n",
    "    transform = ornt_transform(original_ornt, rai_ornt)\n",
    "    ct_arr = np.rot90(apply_orientation(ct_arr, transform), axes=(0,2), k=1)\n",
    "    # else:\n",
    "    #     print('here')\n",
    "    #     rai_ornt = axcodes2ornt(('R', 'A', 'I'))\n",
    "    #     transform = ornt_transform(original_ornt, rai_ornt)\n",
    "    #     ct_arr = np.rot90(apply_orientation(ct_arr, transform), axes=(0,2), k=1)\n",
    "    return ct_arr"
   ]
  },
  {
   "cell_type": "code",
   "execution_count": null,
   "metadata": {},
   "outputs": [],
   "source": [
    "def display_MIP(a_im, a_ma):\n",
    "    mip_ax=  np.max(np.array(a_im), axis=0)\n",
    "    mip_cor= np.max(np.array(a_im), axis=1)\n",
    "    mip_sag= np.max(np.array(a_im), axis=2)\n",
    "\n",
    "    mip_ax_mask=  np.max(np.array(a_ma), axis=0)\n",
    "    mip_cor_mask= np.max(np.array(a_ma), axis=1)\n",
    "    mip_sag_mask= np.max(np.array(a_ma), axis=2)\n",
    "\n",
    "    plt.close('all')\n",
    "\n",
    "\n",
    "    _, axs = plt.subplots(1, 3, figsize=(10, 8))\n",
    "    for img, ma, ax in zip([mip_ax, mip_sag, mip_cor], [mip_ax_mask, mip_sag_mask, mip_cor_mask], axs):\n",
    "        ax.imshow(img, cmap='grey', vmin=np.min(np.array(a_im)), vmax=np.max(np.array(a_im)))\n",
    "        ax.imshow(ma, alpha=0.25*(ma>0))\n",
    "    plt.show()"
   ]
  },
  {
   "cell_type": "code",
   "execution_count": null,
   "metadata": {},
   "outputs": [],
   "source": [
    "def remove_out_of_box_mask(mask, box):\n",
    "    _, y, z = np.where(~box.mask)\n",
    "    y_min = y.min()\n",
    "    y_max = y.max()\n",
    "    z_min = z.min()\n",
    "    z_max = z.max()\n",
    "    \n",
    "    y_min_iso = int(y_max - (y_max-y_min)/2 - 25)\n",
    "    y_max_iso = int(y_max - (y_max-y_min)/2 + 25)\n",
    "    z_min_iso = int(z_max - (z_max-z_min)/2 - 25)\n",
    "    z_max_iso = int(z_max - (z_max-z_min)/2 + 25)\n",
    "\n",
    "\n",
    "    mask[:, :y_min_iso, :] = mask[:, y_max_iso+1:, :] = mask[:, :, :z_min_iso] = mask[:, :, z_max_iso+1:] = 0\n",
    "    \n",
    "    return mask\n",
    "    "
   ]
  },
  {
   "cell_type": "code",
   "execution_count": null,
   "metadata": {},
   "outputs": [],
   "source": [
    "def resegment_thresholding(image, mask, thresh=0.2):\n",
    "    \n",
    "    max = (image*mask).max()\n",
    "    print(thresh*max)\n",
    "    new_mask20= np.ma.masked_where((image*mask) > thresh*max, mask)\n",
    "\n",
    "    return new_mask20.mask.astype(float)"
   ]
  },
  {
   "cell_type": "code",
   "execution_count": null,
   "metadata": {},
   "outputs": [],
   "source": [
    "def standardize_roi(image, mask, desired_area):\n",
    "\n",
    "    # Calculate the current area of the ROI\n",
    "    current_area = cp.sum(mask)\n",
    "    #print(current_area)\n",
    "    # Calculate the scaling factor\n",
    "    scale_factor = cp.sqrt(desired_area / current_area)\n",
    "    #print(f'mask {str(mask.shape[0])} {str(mask.shape[1])} {str(scale_factor)}')\n",
    "    \n",
    "    return ndimage.zoom(cp.array(image), scale_factor), ndimage.zoom(cp.array(mask), scale_factor, order=0)\n"
   ]
  },
  {
   "cell_type": "code",
   "execution_count": null,
   "metadata": {},
   "outputs": [],
   "source": [
    "def _extracted_from_features_extraction2D_4(arg0, cut, data_spacing):\n",
    "    result = sitk.GetImageFromArray(arg0[int(cut), :, :])\n",
    "    result.SetSpacing(\n",
    "        (\n",
    "            float(data_spacing[0]),\n",
    "            float(data_spacing[1]),\n",
    "            float(data_spacing[2]),\n",
    "        )\n",
    "    )\n",
    "    result = sitk.JoinSeries(result)\n",
    "\n",
    "    return result"
   ]
  },
  {
   "cell_type": "code",
   "execution_count": null,
   "metadata": {},
   "outputs": [],
   "source": [
    "def ellipse_perimeter(a, b):\n",
    "    \"\"\"\n",
    "    Compute the perimeter of an ellipse using Ramanujan's approximation formula.\n",
    "    \n",
    "    Parameters:\n",
    "        a (float): Length of the semi-major axis.\n",
    "        b (float): Length of the semi-minor axis.\n",
    "    \n",
    "    Returns:\n",
    "        float: Perimeter of the ellipse.\n",
    "    \"\"\"\n",
    "    h = ((a - b) / (a + b))**2\n",
    "    perimeter = np.pi * (a + b) * (1 + (3 * h) / (10 + np.sqrt(4 - 3 * h)))\n",
    "    return perimeter"
   ]
  },
  {
   "cell_type": "code",
   "execution_count": null,
   "metadata": {},
   "outputs": [],
   "source": [
    "def fill_holes(mask):\n",
    "    filled_mask = scipy.ndimage.binary_fill_holes(mask[0, :, :]).astype(float)\n",
    "    return filled_mask"
   ]
  },
  {
   "cell_type": "code",
   "execution_count": null,
   "metadata": {},
   "outputs": [],
   "source": [
    "def for_ellipse_creation(features_extractor, image, mask):\n",
    "    results = features_extractor.execute(image, mask)\n",
    "    features_lito = shape2D.LitoRadiomicsShape2D(image, mask)\n",
    "    features_eigenvect = features_lito.getEigenVectorsFeatureValue()\n",
    "    \n",
    "    a = float(results['original_shape2D_MajorAxisLength'])/2  # Semi-major axis\n",
    "    b = float(results['original_shape2D_MinorAxisLength'])/2  # Semi-minor axis\n",
    "    perimeter = ellipse_perimeter(a, b)\n",
    "    real_perimeter = float(results['original_shape2D_Perimeter'])\n",
    "    ellipticity = perimeter/real_perimeter\n",
    "    \n",
    "    return results, features_eigenvect, a, b, ellipticity"
   ]
  },
  {
   "cell_type": "code",
   "execution_count": null,
   "metadata": {},
   "outputs": [],
   "source": [
    "# TODO Rename this here and in `features_extraction2D`\n",
    "def _extracted_from_features_extraction2D_11():\n",
    "    result = featureextractor.RadiomicsFeatureExtractor(force2D=True)\n",
    "    result.disableAllFeatures()\n",
    "    result.enableFeaturesByName(\n",
    "        shape2D=[\n",
    "            \"PerimeterSurfaceRatio\",\n",
    "            \"Sphericity\",\n",
    "            \"MajorAxisLength\",\n",
    "            \"MinorAxisLength\",\n",
    "            \"Perimeter\",\n",
    "            \"MeshSurface\"\n",
    "        ]\n",
    "    )\n",
    "\n",
    "    return result"
   ]
  },
  {
   "cell_type": "code",
   "execution_count": null,
   "metadata": {},
   "outputs": [],
   "source": [
    "def features_extraction2D(a_im, a_ma, cut, filled=True):\n",
    "\n",
    "    data_spacing = [1,1,1]\n",
    "    sitk_img = _extracted_from_features_extraction2D_4(a_im, cut, data_spacing)\n",
    "    sitk_mask = _extracted_from_features_extraction2D_4(a_ma, cut, data_spacing)\n",
    "    sitk_mask = sitk.Cast(sitk_mask, sitk.sitkInt32)\n",
    "\n",
    "    if filled is True:\n",
    "        sitk_mask = sitk.GetImageFromArray(fill_holes(sitk.GetArrayFromImage(sitk_mask)))\n",
    "    resized_image, resized_mask = standardize_roi(sitk.GetArrayFromImage(sitk_img), sitk.GetArrayFromImage(sitk_mask), 1250)\n",
    "    resized_image = sitk.GetImageFromArray(cp.asnumpy(resized_image))\n",
    "    resized_mask = sitk.GetImageFromArray(cp.asnumpy(resized_mask))\n",
    "    features_40_slice = _extracted_from_features_extraction2D_11()\n",
    "    features_40_slice_resized = _extracted_from_features_extraction2D_11()\n",
    "    try:\n",
    "        image = sitk_img[:, :, 0] if filled is True else sitk_img\n",
    "        resized_image = resized_image[:, :, 0] if filled is True else resized_image\n",
    "        results, features_eigenvect, a, b, ellipticity = for_ellipse_creation(features_40_slice, image, sitk_mask)\n",
    "        results_resized, features_eigenvect_resized, a_resized, b_resized, _ = for_ellipse_creation(features_40_slice_resized, resized_image, resized_mask)\n",
    "    \n",
    "        res, di, cont_ellipse, mask_ell, center = compute_dice_ellipse(a, b, features_eigenvect, sitk_mask)\n",
    "        _, di_resized, _, _, _ = compute_dice_ellipse(a_resized, b_resized, features_eigenvect_resized, resized_mask)\n",
    "        \n",
    "        return ellipticity, float(results['original_shape2D_PerimeterSurfaceRatio']), float(results['original_shape2D_Sphericity']), res, di, di_resized, cont_ellipse, mask_ell, center, float(results['original_shape2D_MeshSurface'])\n",
    "\n",
    "    except ValueError:\n",
    "        return None, None, None, None, None, None, None, None, None, None\n",
    "\n",
    "\n"
   ]
  },
  {
   "cell_type": "code",
   "execution_count": null,
   "metadata": {},
   "outputs": [],
   "source": [
    "def plot_slices(im, ma, bb, center_ells, slices_nbs, dices, ells):\n",
    "\n",
    "    n = len(slices_nbs)\n",
    "    n_columns = 8\n",
    "    n_rows = n // n_columns\n",
    "\n",
    "    if n % n_columns != 0:\n",
    "        n_rows += 1\n",
    "    plt.close('all')\n",
    "    _, axs = plt.subplots(n_rows, n_columns, sharex=True, sharey=True, figsize=(20, 15))\n",
    "    axs = axs.flatten()\n",
    "    for i in range(n):\n",
    "        inside_bb = bb[slices_nbs[i], :, :] * im[slices_nbs[i], :, :]\n",
    "        to_display = np.ma.masked_equal(inside_bb, 0)\n",
    "\n",
    "        y, z = np.where(~to_display.mask)\n",
    "        y_min = y.min()\n",
    "        y_max = y.max()\n",
    "        z_min = z.min()\n",
    "        z_max = z.max() \n",
    "\n",
    "        y_min_iso = int(y_max - (y_max-y_min)/2 - 25)\n",
    "        y_max_iso = int(y_max - (y_max-y_min)/2 + 25)\n",
    "        z_min_iso = int(z_max - (z_max-z_min)/2 - 25)\n",
    "        z_max_iso = int(z_max - (z_max-z_min)/2 + 25)\n",
    "        \n",
    "        y_mask, x_mask = np.where(ma[slices_nbs[i], y_min_iso:y_max_iso+1, z_min_iso:z_max_iso+1]==1)\n",
    "        x_min_mask = x_mask.min()\n",
    "        x_max_mask = x_mask.max()\n",
    "        y_min_mask = y_mask.min()\n",
    "        y_max_mask = y_mask.max()\n",
    "        \n",
    "        vmin=np.min(im)\n",
    "        vmax=np.max(im)\n",
    "        #center_ma = [x_min_mask + (x_max_mask-x_min_mask)/2, y_min_mask + (y_max_mask-y_min_mask)/2]\n",
    "        center = ndimage.center_of_mass(cp.asarray(ma[slices_nbs[i], y_min_iso:y_max_iso+1, z_min_iso:z_max_iso+1]))\n",
    "        translated_ell = ells[i] - (np.array([center_ells[i][1].item(), center_ells[i][0].item()]) - np.array([center[1].item(), center[0].item()]))\n",
    "        \n",
    "        axs[i].imshow(im[slices_nbs[i], y_min_iso:y_max_iso+1, z_min_iso:z_max_iso+1], interpolation='none', cmap='grey', vmin=vmin, vmax=vmax)\n",
    "        axs[i].imshow(ma[slices_nbs[i],y_min_iso:y_max_iso+1, z_min_iso:z_max_iso+1], alpha=0.25*(ma[slices_nbs[i],y_min_iso:y_max_iso+1, z_min_iso:z_max_iso+1]>0))\n",
    "        axs[i].plot(translated_ell[:, 0], translated_ell[:, 1])\n",
    "        axs[i].scatter(center[1].get(), center[0].get())\n",
    "        #axs[i].scatter(center_ma[0], center_ma[1])\n",
    "        axs[i].title.set_text(f'{str(dices[i])[:5]}')\n",
    "\n",
    "    for ax in axs:\n",
    "        if not bool(ax.get_images()):\n",
    "            ax.remove()\n",
    "    \n",
    "    _.tight_layout()\n",
    "    plt.show()"
   ]
  },
  {
   "cell_type": "code",
   "execution_count": null,
   "metadata": {},
   "outputs": [],
   "source": [
    "path_data = glob.glob(\"/mnt/data/psteinmetz/neotex/to_process/*\")\n",
    "all_slices = {}\n",
    "with cp.cuda.Device(1):\n",
    "    for data in path_data:\n",
    "        print(data)\n",
    "        image_path_sub = glob.glob(\n",
    "            f'{data}/RawVolume/substracted_resampled_bspline_zscore_without_tumor.nii.gz'\n",
    "        )\n",
    "\n",
    "        mask_path = glob.glob(f'{data}/RoiVolume/New_C1_volume_resampled_NN.nii.gz')\n",
    "        bb_path = glob.glob(f'{data}/RoiVolume/New_bb_resampled_NN.nii.gz')\n",
    "        if image_path_sub == []:\n",
    "            print('problem image')\n",
    "            pass\n",
    "        elif mask_path == [] or bb_path == []:\n",
    "            print('problem mask')\n",
    "            pass\n",
    "        else:\n",
    "            image_sub = nib.load(image_path_sub[0])\n",
    "            mask_bb = nib.load(bb_path[0])\n",
    "            mask = nib.load(mask_path[0])\n",
    "            \n",
    "            image_sub = check_orientation(image_sub, np.array(image_sub.dataobj))\n",
    "            mask_bb = check_orientation(mask_bb, np.array(mask_bb.dataobj))\n",
    "            mask = check_orientation(mask, np.array(mask.dataobj))\n",
    "            \n",
    "            mask[mask >= 0.9] = 1\n",
    "            mask[mask < 0.9] = 0\n",
    "            mask_bb[mask_bb >= 0.9] = 1\n",
    "            mask_bb[mask_bb < 0.9] = 0\n",
    "            \n",
    "            mask = remove_out_of_box_mask(mask, np.ma.masked_equal(mask_bb, 0))\n",
    "            if '108' in data:\n",
    "                mask = resegment_thresholding(image_sub, mask, thresh=0.4)\n",
    "            elif '149' in data:\n",
    "                mask = resegment_thresholding(image_sub, mask, thresh=0.05)\n",
    "            else:\n",
    "                mask = resegment_thresholding(image_sub, mask, thresh=0.1)\n",
    "            image_sub = cp.float32(image_sub)\n",
    "            mask = cp.float32(mask)\n",
    "            mask_bb = cp.float32(mask_bb)\n",
    "            \n",
    "            #display_MIP(image_sub, mask_bb, mask)\n",
    "            \n",
    "            biggest_cut = np.max([np.count_nonzero(mask[k, :, :]) for k in range(mask.shape[0])])\n",
    "            min_mask = np.argwhere(mask==1)[:, 0].min()\n",
    "            max_mask = np.argwhere(mask==1)[:, 0].max()\n",
    "            slices_nb = []\n",
    "            dices = []\n",
    "            ellipses = []\n",
    "            centers = []\n",
    "            \n",
    "\n",
    "            list_slices = [features_extraction2D(image_sub, mask, k) for k in range(min_mask, max_mask+1) if np.count_nonzero(mask[k, :, :]) > 0.05*biggest_cut and features_extraction2D(image_sub, mask, k) is not None]\n",
    "                    \n",
    "            all_slices[data.split('//')[-1]] = pd.DataFrame(\n",
    "                        list_slices[:6] + list_slices[-1],\n",
    "                        columns=[\n",
    "                            'ellipticity',\n",
    "                            'original_shape2D_PerimeterSurfaceRatio',\n",
    "                            'original_shape2D_Sphericity',\n",
    "                            'Residuals',\n",
    "                            'Dice',\n",
    "                            'Dice_resized',\n",
    "                            'original_shape2D_MeshSurface'\n",
    "                        ],\n",
    "                    )\n",
    "                \n",
    "                        \n",
    "            with open('/mnt/data/psteinmetz/neotex/CSV/slices_villes_thresholded10_filled_resized.pickle', 'wb') as handle:\n",
    "                pickle.dump(all_slices, handle, protocol=pickle.HIGHEST_PROTOCOL)"
   ]
  },
  {
   "cell_type": "code",
   "execution_count": null,
   "metadata": {},
   "outputs": [],
   "source": [
    "path_data = glob.glob(\"/mnt/data/psteinmetz/neotex/to_process/*\")\n",
    "for data in path_data:\n",
    "    print(data)\n",
    "    image_path_sub = glob.glob(\n",
    "        f'{data}/RawVolume/substracted_resampled_bspline_zscore_without_tumor.nii.gz'\n",
    "    )\n",
    "\n",
    "    mask_path = glob.glob(f'{data}/RoiVolume/New_C1_volume_resampled_NN.nii.gz')\n",
    "    bb_path = glob.glob(f'{data}/RoiVolume/New_bb_resampled_NN.nii.gz')\n",
    "    if image_path_sub == []:\n",
    "        print('problem image')\n",
    "        pass\n",
    "    elif mask_path == [] or bb_path == []:\n",
    "        print('problem mask')\n",
    "        pass\n",
    "    else:\n",
    "        image_sub = nib.load(image_path_sub[0])\n",
    "        mask_bb = nib.load(bb_path[0])\n",
    "        mask = nib.load(mask_path[0])\n",
    "        \n",
    "        image_sub = check_orientation(image_sub, np.array(image_sub.dataobj))\n",
    "        mask_bb = check_orientation(mask_bb, np.array(mask_bb.dataobj))\n",
    "        mask = check_orientation(mask, np.array(mask.dataobj))\n",
    "        \n",
    "        mask[mask >= 0.9] = 1\n",
    "        mask[mask < 0.9] = 0\n",
    "        mask_bb[mask_bb >= 0.9] = 1\n",
    "        mask_bb[mask_bb < 0.9] = 0\n",
    "        \n",
    "        mask = remove_out_of_box_mask(mask, np.ma.masked_equal(mask_bb, 0))\n",
    "        if '108' in data:\n",
    "            mask = resegment_thresholding(image_sub, mask, thresh=0.4)\n",
    "        elif '149' in data:\n",
    "            mask = resegment_thresholding(image_sub, mask, thresh=0.05)\n",
    "        else:\n",
    "            mask = resegment_thresholding(image_sub, mask, thresh=0.1)\n",
    "        image_sub = cp.float32(image_sub)\n",
    "        mask = cp.float32(mask)\n",
    "        mask_bb = cp.float32(mask_bb)\n",
    "        \n",
    "        #display_MIP(image_sub, mask_bb, mask)\n",
    "        \n",
    "        biggest_cut = np.max([np.count_nonzero(mask[k, :, :]) for k in range(mask.shape[0])])\n",
    "        min_mask = np.argwhere(mask==1)[:, 0].min()\n",
    "        max_mask = np.argwhere(mask==1)[:, 0].max()\n",
    "        slices_nb = []\n",
    "        dices = []\n",
    "        ellipses = []\n",
    "        centers = []\n",
    "        for x in range(min_mask, max_mask+1):\n",
    "            slice_ma_for_db = mask[x, :, :]\n",
    "\n",
    "            if np.count_nonzero(slice_ma_for_db) > 0.05*biggest_cut:\n",
    "                ellipticity, peri_surf_ratio, sphericity, residuals, dice, dice_resized, cont_ellipse, mask_ell, center, mesh_surface = features_extraction2D(image_sub, mask, x)\n",
    "                slices_nb.append(x)\n",
    "                dices.append(dice)\n",
    "                ellipses.append(cont_ellipse)\n",
    "                centers.append(center)\n",
    "        plt.close('all')\n",
    "        plot_slices(image_sub, mask, mask_bb, centers, slices_nb, dices, ellipses)\n",
    "        \n",
    "        "
   ]
  },
  {
   "cell_type": "code",
   "execution_count": null,
   "metadata": {},
   "outputs": [],
   "source": [
    "with open('/mnt/data/psteinmetz/neotex/CSV/slices_villes_thresholded10_filled_resized.pickle', 'rb') as handle:\n",
    "    axial_cuts_data = pickle.load(handle)"
   ]
  },
  {
   "cell_type": "code",
   "execution_count": null,
   "metadata": {},
   "outputs": [],
   "source": [
    "plt.close('all')\n",
    "path_data = \"/mnt/data/ffrouin/NEOTEX/DATA_NIFTI/DataMerged/\"\n",
    "path_to_csv = r'/mnt/data/psteinmetz/neotex/CSV/BOUNDING_BOX.csv'\n",
    "path_to_csv_ville = r'/mnt/data/psteinmetz/neotex/CSV/Bounding_box_ville.csv'\n",
    "\n",
    "data_train = pd.concat((dt.fread(path_to_csv).to_pandas(), dt.fread(path_to_csv_ville).to_pandas()), ignore_index=True).dropna(axis=1)\n",
    "shape_target_train = pd.concat((data_train[['Record_ID']], data_train[['Shape.1']]), axis=1)\n",
    "\n",
    "list_cases = os.listdir(path_data)\n",
    "\n",
    "shape_modified = shape_target_train.replace('Oval', 'Round')\n",
    "big_size_cuts = {k:v[v['original_shape2D_MeshSurface'] >= v['original_shape2D_MeshSurface'].quantile(0.25)] for (k,v) in axial_cuts_data.items()}\n"
   ]
  },
  {
   "cell_type": "code",
   "execution_count": null,
   "metadata": {},
   "outputs": [],
   "source": [
    "new_big_size_cuts = {k.split('/')[-1]:v.assign(Shape=shape_modified['Shape.1'][shape_modified['Record_ID'] == int(k.split('/')[-1])].iloc[0]) for (k,v) in big_size_cuts.items() if int(k.split('/')[-1]) in shape_modified[['Record_ID']].values}"
   ]
  },
  {
   "cell_type": "code",
   "execution_count": null,
   "metadata": {},
   "outputs": [],
   "source": [
    "del new_big_size_cuts['145']"
   ]
  },
  {
   "cell_type": "code",
   "execution_count": null,
   "metadata": {},
   "outputs": [],
   "source": [
    "to_plot = pd.concat(new_big_size_cuts, axis=0)\n",
    "to_plot['original_shape2D_PerimeterSurfaceRatio'] = to_plot['original_shape2D_PerimeterSurfaceRatio'].astype(float)\n",
    "\n",
    "order_list_psratio = to_plot.groupby(level=0)['original_shape2D_PerimeterSurfaceRatio'].median().sort_values().index\n",
    "order_list_sphericity = to_plot.groupby(level=0)['original_shape2D_Sphericity'].median().sort_values().index\n",
    "order_list_ellipticity = to_plot.groupby(level=0)['ellipticity'].median().sort_values().index\n",
    "order_list_dice = to_plot.groupby(level=0)['Dice'].median().sort_values().index\n",
    "order_list_dice_resized = to_plot.groupby(level=0)['Dice_resized'].median().sort_values().index\n",
    "order_list_residuals = to_plot.groupby(level=0)['Residuals'].median().sort_values().index\n",
    "#order_list_haussdorff = to_plot.groupby(level=0)['Haussdorff'].median().sort_values().index\n",
    "\n",
    "to_plot.plot.hist(column='original_shape2D_PerimeterSurfaceRatio', by=\"Shape\", sharex=True, sharey=True, bins=20)"
   ]
  },
  {
   "cell_type": "code",
   "execution_count": null,
   "metadata": {},
   "outputs": [],
   "source": [
    "to_plot.plot.hist(column='original_shape2D_Sphericity', by=\"Shape\", sharex=True, sharey=True, bins=20)"
   ]
  },
  {
   "cell_type": "code",
   "execution_count": null,
   "metadata": {},
   "outputs": [],
   "source": [
    "to_plot.plot.hist(column='ellipticity', by=\"Shape\", sharex=True, sharey=True, bins=20)"
   ]
  },
  {
   "cell_type": "code",
   "execution_count": null,
   "metadata": {},
   "outputs": [],
   "source": [
    "to_plot.plot.hist(column='Dice', by=\"Shape\", sharex=True, sharey=True, bins=20)"
   ]
  },
  {
   "cell_type": "code",
   "execution_count": null,
   "metadata": {},
   "outputs": [],
   "source": [
    "to_plot.plot.hist(column='Dice_resized', by=\"Shape\", sharex=True, sharey=True, bins=20)"
   ]
  },
  {
   "cell_type": "code",
   "execution_count": null,
   "metadata": {},
   "outputs": [],
   "source": [
    "to_plot.plot.hist(column='original_shape2D_MeshSurface', by=\"Shape\", sharex=True, sharey=True, bins=20)"
   ]
  },
  {
   "cell_type": "code",
   "execution_count": null,
   "metadata": {},
   "outputs": [],
   "source": [
    "to_plot.plot.hist(column='Residuals', by=\"Shape\", sharex=True, sharey=True, bins=20)"
   ]
  },
  {
   "cell_type": "code",
   "execution_count": null,
   "metadata": {},
   "outputs": [],
   "source": [
    "le = LabelEncoder()\n",
    "le.fit_transform(to_plot['Shape'])"
   ]
  },
  {
   "cell_type": "code",
   "execution_count": null,
   "metadata": {},
   "outputs": [],
   "source": [
    "le = LabelEncoder()\n",
    "le.fit(to_plot['Shape'])\n",
    "to_plot.plot.scatter(x='original_shape2D_Sphericity', y='original_shape2D_PerimeterSurfaceRatio', c=le.fit_transform(to_plot['Shape']), colormap='viridis', alpha=0.7, s=10)"
   ]
  },
  {
   "cell_type": "code",
   "execution_count": null,
   "metadata": {},
   "outputs": [],
   "source": [
    "le = LabelEncoder()\n",
    "le.fit(to_plot['Shape'])\n",
    "to_plot.plot.scatter(x='ellipticity', y='Dice', c=le.fit_transform(to_plot['Shape']), colormap='viridis', alpha=0.7, s=10)"
   ]
  },
  {
   "cell_type": "code",
   "execution_count": null,
   "metadata": {},
   "outputs": [],
   "source": [
    "to_plot.sort_values(by='Shape', inplace=True)\n",
    "to_plot = to_plot.reindex(order_list_sphericity, level=0)\n",
    "sns.catplot(data=to_plot, x='original_shape2D_Sphericity', y=to_plot.index.get_level_values(0), hue='Shape', kind='box', ci=None, palette=[\"C1\", \"C0\"])"
   ]
  },
  {
   "cell_type": "code",
   "execution_count": null,
   "metadata": {},
   "outputs": [],
   "source": [
    "to_plot = to_plot.reindex(order_list_ellipticity, level=0)\n",
    "sns.catplot(data=to_plot, x='ellipticity', y=to_plot.index.get_level_values(0), hue='Shape', kind='box', ci=None, palette=[\"C1\", \"C0\"])"
   ]
  },
  {
   "cell_type": "code",
   "execution_count": null,
   "metadata": {},
   "outputs": [],
   "source": [
    "to_plot = to_plot.reindex(order_list_psratio, level=0)\n",
    "sns.catplot(data=to_plot, x='original_shape2D_PerimeterSurfaceRatio', y=to_plot.index.get_level_values(0), hue='Shape', kind='box', ci=None, palette=[\"C0\", \"C1\"])"
   ]
  },
  {
   "cell_type": "code",
   "execution_count": null,
   "metadata": {},
   "outputs": [],
   "source": [
    "plt.close('all')\n",
    "to_plot = to_plot.reindex(order_list_dice, level=0)\n",
    "sns.catplot(data=to_plot, x='Dice', y=to_plot.index.get_level_values(0), hue='Shape', kind='box', ci=None, palette=[\"C0\", \"C1\"])"
   ]
  },
  {
   "cell_type": "code",
   "execution_count": null,
   "metadata": {},
   "outputs": [],
   "source": [
    "plt.close('all')\n",
    "to_plot = to_plot.reindex(order_list_dice_resized, level=0)\n",
    "sns.catplot(data=to_plot, x='Dice_resized', y=to_plot.index.get_level_values(0), hue='Shape', kind='box', ci=None, palette=[\"C0\", \"C1\"])"
   ]
  },
  {
   "cell_type": "code",
   "execution_count": null,
   "metadata": {},
   "outputs": [],
   "source": [
    "to_plot = to_plot.reindex(order_list_residuals, level=0)\n",
    "sns.catplot(data=to_plot, x='Residuals', y=to_plot.index.get_level_values(0), hue='Shape', kind='box', ci=None, palette=[\"C1\", \"C0\"])"
   ]
  },
  {
   "cell_type": "code",
   "execution_count": null,
   "metadata": {},
   "outputs": [],
   "source": [
    "plt.close('all')\n",
    "plt.imshow(image_sub[100, :, :], interpolation='none', cmap='grey')\n",
    "plt.imshow(mask[100, :, :], alpha=0.25*(mask[100, :, :]>0))"
   ]
  },
  {
   "cell_type": "code",
   "execution_count": null,
   "metadata": {},
   "outputs": [],
   "source": [
    "y"
   ]
  },
  {
   "cell_type": "code",
   "execution_count": null,
   "metadata": {},
   "outputs": [],
   "source": [
    "mask_path = glob.glob('/mnt/data/psteinmetz/neotex/to_process/113/RoiVolume/New_C1_volume_resampled_NN.nii.gz')\n",
    "mask = nib.load(mask_path[0])\n",
    "#mask = check_orientation(mask, np.array(mask.dataobj))\n",
    "mask = remove_out_of_box_mask(check_orientation(mask, np.array(mask.dataobj)), np.ma.masked_equal(mask_bb, 0))\n",
    "mask[mask >= 0.9] = int(1)\n",
    "mask[mask < 0.9] = int(0)"
   ]
  },
  {
   "cell_type": "code",
   "execution_count": null,
   "metadata": {},
   "outputs": [],
   "source": [
    "mask[101, :, :].sum()"
   ]
  },
  {
   "cell_type": "code",
   "execution_count": null,
   "metadata": {},
   "outputs": [],
   "source": []
  }
 ],
 "metadata": {
  "kernelspec": {
   "display_name": "venv",
   "language": "python",
   "name": "python3"
  },
  "language_info": {
   "codemirror_mode": {
    "name": "ipython",
    "version": 3
   },
   "file_extension": ".py",
   "mimetype": "text/x-python",
   "name": "python",
   "nbconvert_exporter": "python",
   "pygments_lexer": "ipython3",
   "version": "3.10.14"
  }
 },
 "nbformat": 4,
 "nbformat_minor": 2
}
