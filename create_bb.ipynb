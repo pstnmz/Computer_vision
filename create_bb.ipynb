{
 "cells": [
  {
   "cell_type": "code",
   "execution_count": null,
   "metadata": {},
   "outputs": [],
   "source": [
    "import nibabel as nib\n",
    "import numpy as np\n",
    "import glob\n",
    "import matplotlib.pyplot as plt\n",
    "\n",
    "path_tumors = '/mnt/data/psteinmetz/neotex/to_process/Ozgun/*/RoiVolume/VOI.nii.gz'\n",
    "tumor_mask_files = glob.glob(path_tumors)\n",
    "\n",
    "for tumor_mask_file in tumor_mask_files:\n",
    "    # Load the tumor mask nifti file\n",
    "    tumor_mask_nii = nib.load(tumor_mask_file)\n",
    "    tumor_mask_data = tumor_mask_nii.get_fdata()\n",
    "\n",
    "    # Find the bounding box around the tumor\n",
    "    non_zero_coords = np.argwhere(tumor_mask_data > 0) # Find all non-zero points in the mask\n",
    "    min_coords = non_zero_coords.min(axis=0)  # Minimum corner of the bounding box\n",
    "    max_coords = non_zero_coords.max(axis=0)  # Maximum corner of the bounding box\n",
    "    \n",
    "    # Debugging: Print the bounding box coordinates and tumor mask shape\n",
    "    print(f\"Tumor mask shape: {tumor_mask_data.shape}\")\n",
    "    print(f\"Bounding box min coords: {min_coords}\")\n",
    "    print(f\"Bounding box max coords: {max_coords}\")\n",
    "\n",
    "    # Create a new empty mask of the same shape as the original\n",
    "    bounding_box_mask = np.zeros_like(tumor_mask_data)\n",
    "\n",
    "    # Set the bounding box region to 1 (or another value if needed)\n",
    "    bounding_box_mask[min_coords[0]:max_coords[0]+1,\n",
    "                    min_coords[1]:max_coords[1]+1,\n",
    "                    min_coords[2]:max_coords[2]+1] = 1\n",
    "    \n",
    "    # Debugging: Check if the bounding box was applied correctly\n",
    "    bounding_box_voxels = np.argwhere(bounding_box_mask == 1)\n",
    "    print(f\"Number of bounding box voxels: {bounding_box_voxels.shape[0]}\")\n",
    "    print(f\"Unique values in bounding box mask: {np.unique(bounding_box_mask)}\")\n",
    "\n",
    "    # Create a new NIfTI image from the bounding box mask\n",
    "    bounding_box_nii = nib.Nifti1Image(bounding_box_mask, tumor_mask_nii.affine, tumor_mask_nii.header)\n",
    "\n",
    "    # Save the new bounding box mask\n",
    "    bounding_box_file = tumor_mask_file[:-7] + '_bb.nii.gz'\n",
    "    nib.save(bounding_box_nii, bounding_box_file)\n",
    "\n",
    "    print(f\"Bounding box mask saved to: {bounding_box_file}\")\n",
    "\n"
   ]
  },
  {
   "cell_type": "code",
   "execution_count": null,
   "metadata": {},
   "outputs": [],
   "source": []
  }
 ],
 "metadata": {
  "kernelspec": {
   "display_name": "venv",
   "language": "python",
   "name": "python3"
  },
  "language_info": {
   "codemirror_mode": {
    "name": "ipython",
    "version": 3
   },
   "file_extension": ".py",
   "mimetype": "text/x-python",
   "name": "python",
   "nbconvert_exporter": "python",
   "pygments_lexer": "ipython3",
   "version": "3.10.15"
  }
 },
 "nbformat": 4,
 "nbformat_minor": 2
}
