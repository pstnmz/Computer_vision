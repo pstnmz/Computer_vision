{
 "cells": [
  {
   "cell_type": "code",
   "execution_count": 16,
   "metadata": {},
   "outputs": [],
   "source": [
    "import pandas as pd\n",
    "import glob as glob\n",
    "import numpy as np"
   ]
  },
  {
   "cell_type": "code",
   "execution_count": 17,
   "metadata": {},
   "outputs": [],
   "source": [
    "images_path = '/mnt/data/psteinmetz/neotex/data_CNN/images_15062024/'\n",
    "data = pd.concat(\n",
    "    (\n",
    "        pd.DataFrame(glob.glob(f'{images_path}*/*png')),\n",
    "        pd.DataFrame(\n",
    "            [x.split('/')[-1][:-4] for x in glob.glob(f'{images_path}*/*png')]\n",
    "        ),\n",
    "        pd.DataFrame(\n",
    "            [k.split('/')[-2] for k in glob.glob(f'{images_path}*/*png')]\n",
    "        ),\n",
    "    ),\n",
    "    axis=1,\n",
    ")"
   ]
  },
  {
   "cell_type": "code",
   "execution_count": 18,
   "metadata": {},
   "outputs": [
    {
     "data": {
      "text/html": [
       "<div>\n",
       "<style scoped>\n",
       "    .dataframe tbody tr th:only-of-type {\n",
       "        vertical-align: middle;\n",
       "    }\n",
       "\n",
       "    .dataframe tbody tr th {\n",
       "        vertical-align: top;\n",
       "    }\n",
       "\n",
       "    .dataframe thead th {\n",
       "        text-align: right;\n",
       "    }\n",
       "</style>\n",
       "<table border=\"1\" class=\"dataframe\">\n",
       "  <thead>\n",
       "    <tr style=\"text-align: right;\">\n",
       "      <th></th>\n",
       "      <th>0</th>\n",
       "      <th>0</th>\n",
       "      <th>0</th>\n",
       "    </tr>\n",
       "  </thead>\n",
       "  <tbody>\n",
       "    <tr>\n",
       "      <th>0</th>\n",
       "      <td>/mnt/data/psteinmetz/neotex/data_CNN/images_15...</td>\n",
       "      <td>60_10</td>\n",
       "      <td>Ambiguous</td>\n",
       "    </tr>\n",
       "    <tr>\n",
       "      <th>1</th>\n",
       "      <td>/mnt/data/psteinmetz/neotex/data_CNN/images_15...</td>\n",
       "      <td>86_10</td>\n",
       "      <td>Ambiguous</td>\n",
       "    </tr>\n",
       "    <tr>\n",
       "      <th>2</th>\n",
       "      <td>/mnt/data/psteinmetz/neotex/data_CNN/images_15...</td>\n",
       "      <td>5_17</td>\n",
       "      <td>Ambiguous</td>\n",
       "    </tr>\n",
       "    <tr>\n",
       "      <th>3</th>\n",
       "      <td>/mnt/data/psteinmetz/neotex/data_CNN/images_15...</td>\n",
       "      <td>67_38</td>\n",
       "      <td>Ambiguous</td>\n",
       "    </tr>\n",
       "    <tr>\n",
       "      <th>4</th>\n",
       "      <td>/mnt/data/psteinmetz/neotex/data_CNN/images_15...</td>\n",
       "      <td>50_12</td>\n",
       "      <td>Ambiguous</td>\n",
       "    </tr>\n",
       "    <tr>\n",
       "      <th>...</th>\n",
       "      <td>...</td>\n",
       "      <td>...</td>\n",
       "      <td>...</td>\n",
       "    </tr>\n",
       "    <tr>\n",
       "      <th>4307</th>\n",
       "      <td>/mnt/data/psteinmetz/neotex/data_CNN/images_15...</td>\n",
       "      <td>43_9</td>\n",
       "      <td>Round</td>\n",
       "    </tr>\n",
       "    <tr>\n",
       "      <th>4308</th>\n",
       "      <td>/mnt/data/psteinmetz/neotex/data_CNN/images_15...</td>\n",
       "      <td>73_38</td>\n",
       "      <td>Round</td>\n",
       "    </tr>\n",
       "    <tr>\n",
       "      <th>4309</th>\n",
       "      <td>/mnt/data/psteinmetz/neotex/data_CNN/images_15...</td>\n",
       "      <td>82_11</td>\n",
       "      <td>Round</td>\n",
       "    </tr>\n",
       "    <tr>\n",
       "      <th>4310</th>\n",
       "      <td>/mnt/data/psteinmetz/neotex/data_CNN/images_15...</td>\n",
       "      <td>28_40</td>\n",
       "      <td>Round</td>\n",
       "    </tr>\n",
       "    <tr>\n",
       "      <th>4311</th>\n",
       "      <td>/mnt/data/psteinmetz/neotex/data_CNN/images_15...</td>\n",
       "      <td>43_35</td>\n",
       "      <td>Round</td>\n",
       "    </tr>\n",
       "  </tbody>\n",
       "</table>\n",
       "<p>4312 rows × 3 columns</p>\n",
       "</div>"
      ],
      "text/plain": [
       "                                                      0      0          0\n",
       "0     /mnt/data/psteinmetz/neotex/data_CNN/images_15...  60_10  Ambiguous\n",
       "1     /mnt/data/psteinmetz/neotex/data_CNN/images_15...  86_10  Ambiguous\n",
       "2     /mnt/data/psteinmetz/neotex/data_CNN/images_15...   5_17  Ambiguous\n",
       "3     /mnt/data/psteinmetz/neotex/data_CNN/images_15...  67_38  Ambiguous\n",
       "4     /mnt/data/psteinmetz/neotex/data_CNN/images_15...  50_12  Ambiguous\n",
       "...                                                 ...    ...        ...\n",
       "4307  /mnt/data/psteinmetz/neotex/data_CNN/images_15...   43_9      Round\n",
       "4308  /mnt/data/psteinmetz/neotex/data_CNN/images_15...  73_38      Round\n",
       "4309  /mnt/data/psteinmetz/neotex/data_CNN/images_15...  82_11      Round\n",
       "4310  /mnt/data/psteinmetz/neotex/data_CNN/images_15...  28_40      Round\n",
       "4311  /mnt/data/psteinmetz/neotex/data_CNN/images_15...  43_35      Round\n",
       "\n",
       "[4312 rows x 3 columns]"
      ]
     },
     "execution_count": 18,
     "metadata": {},
     "output_type": "execute_result"
    }
   ],
   "source": [
    "data"
   ]
  },
  {
   "cell_type": "code",
   "execution_count": 19,
   "metadata": {},
   "outputs": [],
   "source": [
    "arrays = glob.glob(f'{images_path}*/*npy')"
   ]
  },
  {
   "cell_type": "code",
   "execution_count": 20,
   "metadata": {},
   "outputs": [],
   "source": [
    "def pickle_read(data):\n",
    "    return np.load(data)"
   ]
  },
  {
   "cell_type": "code",
   "execution_count": 21,
   "metadata": {},
   "outputs": [
    {
     "data": {
      "text/plain": [
       "'/mnt/data/psteinmetz/neotex/data_CNN/images_15062024/Arrays/8_11.npy'"
      ]
     },
     "execution_count": 21,
     "metadata": {},
     "output_type": "execute_result"
    }
   ],
   "source": [
    "array"
   ]
  },
  {
   "cell_type": "code",
   "execution_count": 25,
   "metadata": {},
   "outputs": [],
   "source": [
    "i=0\n",
    "for array in arrays:\n",
    "    \n",
    "    arr = pickle_read(array)\n",
    "    i+=1\n",
    "    if i == 1:\n",
    "        break"
   ]
  },
  {
   "cell_type": "code",
   "execution_count": 26,
   "metadata": {},
   "outputs": [
    {
     "data": {
      "text/plain": [
       "(51, 51)"
      ]
     },
     "execution_count": 26,
     "metadata": {},
     "output_type": "execute_result"
    }
   ],
   "source": [
    "arr.shape"
   ]
  },
  {
   "cell_type": "code",
   "execution_count": 27,
   "metadata": {},
   "outputs": [
    {
     "data": {
      "text/plain": [
       "array([[ 0.00509022,  0.6964348 ,  0.7962482 , ..., -0.14484829,\n",
       "         0.5280761 ,  0.11630202],\n",
       "       [-0.1511627 ,  0.47622845,  0.6691067 , ..., -0.5891899 ,\n",
       "         0.07008877,  0.00952909],\n",
       "       [ 0.06171241,  0.5164595 ,  0.34928605, ...,  0.12326601,\n",
       "        -0.28539795, -0.12181648],\n",
       "       ...,\n",
       "       [ 0.30893302,  0.0565336 , -0.21344587, ...,  0.9910506 ,\n",
       "         0.7383308 ,  0.9264459 ],\n",
       "       [ 0.06308869, -0.09668861, -0.21395585, ...,  0.2876634 ,\n",
       "        -0.20087038,  0.0666543 ],\n",
       "       [-0.3604835 , -0.32023054,  0.03405916, ...,  0.05929326,\n",
       "        -0.28269085, -0.07500792]], dtype=float32)"
      ]
     },
     "execution_count": 27,
     "metadata": {},
     "output_type": "execute_result"
    }
   ],
   "source": [
    "arr"
   ]
  },
  {
   "cell_type": "code",
   "execution_count": null,
   "metadata": {},
   "outputs": [],
   "source": []
  }
 ],
 "metadata": {
  "kernelspec": {
   "display_name": "venv",
   "language": "python",
   "name": "python3"
  },
  "language_info": {
   "codemirror_mode": {
    "name": "ipython",
    "version": 3
   },
   "file_extension": ".py",
   "mimetype": "text/x-python",
   "name": "python",
   "nbconvert_exporter": "python",
   "pygments_lexer": "ipython3",
   "version": "3.10.14"
  }
 },
 "nbformat": 4,
 "nbformat_minor": 2
}
