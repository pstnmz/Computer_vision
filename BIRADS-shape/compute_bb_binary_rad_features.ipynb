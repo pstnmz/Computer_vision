{
 "cells": [
  {
   "cell_type": "code",
   "execution_count": 1,
   "metadata": {},
   "outputs": [
    {
     "data": {
      "text/html": [
       "<style type='text/css'>\n",
       ".datatable table.frame { margin-bottom: 0; }\n",
       ".datatable table.frame thead { border-bottom: none; }\n",
       ".datatable table.frame tr.coltypes td {  color: #FFFFFF;  line-height: 6px;  padding: 0 0.5em;}\n",
       ".datatable .bool    { background: #DDDD99; }\n",
       ".datatable .object  { background: #565656; }\n",
       ".datatable .int     { background: #5D9E5D; }\n",
       ".datatable .float   { background: #4040CC; }\n",
       ".datatable .str     { background: #CC4040; }\n",
       ".datatable .time    { background: #40CC40; }\n",
       ".datatable .row_index {  background: var(--jp-border-color3);  border-right: 1px solid var(--jp-border-color0);  color: var(--jp-ui-font-color3);  font-size: 9px;}\n",
       ".datatable .frame tbody td { text-align: left; }\n",
       ".datatable .frame tr.coltypes .row_index {  background: var(--jp-border-color0);}\n",
       ".datatable th:nth-child(2) { padding-left: 12px; }\n",
       ".datatable .hellipsis {  color: var(--jp-cell-editor-border-color);}\n",
       ".datatable .vellipsis {  background: var(--jp-layout-color0);  color: var(--jp-cell-editor-border-color);}\n",
       ".datatable .na {  color: var(--jp-cell-editor-border-color);  font-size: 80%;}\n",
       ".datatable .sp {  opacity: 0.25;}\n",
       ".datatable .footer { font-size: 9px; }\n",
       ".datatable .frame_dimensions {  background: var(--jp-border-color3);  border-top: 1px solid var(--jp-border-color0);  color: var(--jp-ui-font-color3);  display: inline-block;  opacity: 0.6;  padding: 1px 10px 1px 5px;}\n",
       "</style>\n"
      ],
      "text/plain": [
       "<IPython.core.display.HTML object>"
      ]
     },
     "metadata": {},
     "output_type": "display_data"
    }
   ],
   "source": [
    "import numpy as np\n",
    "import pandas as pd\n",
    "import nibabel as nib\n",
    "import glob\n",
    "import datatable as dt\n",
    "import os\n",
    "from radiomics import featureextractor\n",
    "from math import isclose\n",
    "from scipy import ndimage, spatial\n",
    "from sklearn.preprocessing import StandardScaler\n",
    "from sklearn.decomposition import PCA\n",
    "from nibabel.affines import apply_affine\n",
    "import ipympl\n",
    "%matplotlib widget\n",
    "import matplotlib.pyplot as plt"
   ]
  },
  {
   "cell_type": "code",
   "execution_count": 2,
   "metadata": {},
   "outputs": [],
   "source": [
    "def fromspacetovox(inv_affine, where_space):\n",
    "\n",
    "    mask_vox = (np.dot(inv_affine[:3, :3], where_space.T) + inv_affine[:3, 3:4]).T\n",
    "    return mask_vox\n",
    "\n",
    "\n",
    "def fromvoxtospace(affine, where_ones):\n",
    "\n",
    "    mask_space = apply_affine(affine, where_ones)\n",
    "    return mask_space\n",
    "\n",
    "\n",
    "def load_nib_file(path):\n",
    "    mask = nib.load(path)\n",
    "    mask_data = mask.get_fdata()\n",
    "\n",
    "    return mask, mask_data\n",
    "\n",
    "\n",
    "def compute_dice_score(agg, gt):\n",
    "    dice = 1 - spatial.distance.dice(agg.flatten(), gt.flatten())\n",
    "    return dice"
   ]
  },
  {
   "cell_type": "code",
   "execution_count": 3,
   "metadata": {},
   "outputs": [],
   "source": [
    "path_data = \"/mnt/data/ffrouin/NEOTEX/DATA_NIFTI/DataMerged/\"\n",
    "path_data_ville = \"/mnt/data/ffrouin/NEOTEX/DATA_NIFTI/IRM-Ville/\""
   ]
  },
  {
   "cell_type": "code",
   "execution_count": 4,
   "metadata": {},
   "outputs": [],
   "source": [
    "ids = glob.glob(path_data + '*/')\n",
    "ids_ville = glob.glob(path_data_ville + '*/')"
   ]
  },
  {
   "cell_type": "code",
   "execution_count": 5,
   "metadata": {},
   "outputs": [
    {
     "name": "stdout",
     "output_type": "stream",
     "text": [
      "/mnt/data/ffrouin/NEOTEX/DATA_NIFTI/DataMerged/7/\n",
      "['/mnt/data/ffrouin/NEOTEX/DATA_NIFTI/DataMerged/7/RawVolume/7_Shape_study_constant_40.0.nii.gz']\n",
      "['/mnt/data/ffrouin/NEOTEX/DATA_NIFTI/DataMerged/7/RoiVolume/Bounding_box_40.0.nii.gz']\n"
     ]
    },
    {
     "name": "stderr",
     "output_type": "stream",
     "text": [
      "GLCM is symmetrical, therefore Sum Average = 2 * Joint Average, only 1 needs to be calculated\n"
     ]
    },
    {
     "name": "stdout",
     "output_type": "stream",
     "text": [
      "/mnt/data/ffrouin/NEOTEX/DATA_NIFTI/DataMerged/6/\n",
      "['/mnt/data/ffrouin/NEOTEX/DATA_NIFTI/DataMerged/6/RawVolume/6_Shape_study_constant_40.0.nii.gz']\n",
      "['/mnt/data/ffrouin/NEOTEX/DATA_NIFTI/DataMerged/6/RoiVolume/Bounding_box_40.0.nii.gz']\n"
     ]
    },
    {
     "name": "stderr",
     "output_type": "stream",
     "text": [
      "GLCM is symmetrical, therefore Sum Average = 2 * Joint Average, only 1 needs to be calculated\n"
     ]
    },
    {
     "name": "stdout",
     "output_type": "stream",
     "text": [
      "/mnt/data/ffrouin/NEOTEX/DATA_NIFTI/DataMerged/82/\n",
      "['/mnt/data/ffrouin/NEOTEX/DATA_NIFTI/DataMerged/82/RawVolume/82_Shape_study_constant_40.0.nii.gz']\n",
      "['/mnt/data/ffrouin/NEOTEX/DATA_NIFTI/DataMerged/82/RoiVolume/Bounding_box_40.0.nii.gz']\n"
     ]
    },
    {
     "name": "stderr",
     "output_type": "stream",
     "text": [
      "GLCM is symmetrical, therefore Sum Average = 2 * Joint Average, only 1 needs to be calculated\n"
     ]
    },
    {
     "name": "stdout",
     "output_type": "stream",
     "text": [
      "/mnt/data/ffrouin/NEOTEX/DATA_NIFTI/DataMerged/105/\n",
      "['/mnt/data/ffrouin/NEOTEX/DATA_NIFTI/DataMerged/105/RawVolume/105_Shape_study_constant_40.0.nii.gz']\n",
      "['/mnt/data/ffrouin/NEOTEX/DATA_NIFTI/DataMerged/105/RoiVolume/Bounding_box_40.0.nii.gz']\n"
     ]
    },
    {
     "name": "stderr",
     "output_type": "stream",
     "text": [
      "GLCM is symmetrical, therefore Sum Average = 2 * Joint Average, only 1 needs to be calculated\n"
     ]
    },
    {
     "name": "stdout",
     "output_type": "stream",
     "text": [
      "/mnt/data/ffrouin/NEOTEX/DATA_NIFTI/DataMerged/22/\n",
      "['/mnt/data/ffrouin/NEOTEX/DATA_NIFTI/DataMerged/22/RawVolume/22_Shape_study_constant_40.0.nii.gz']\n",
      "['/mnt/data/ffrouin/NEOTEX/DATA_NIFTI/DataMerged/22/RoiVolume/Bounding_box_40.0.nii.gz']\n"
     ]
    },
    {
     "name": "stderr",
     "output_type": "stream",
     "text": [
      "GLCM is symmetrical, therefore Sum Average = 2 * Joint Average, only 1 needs to be calculated\n"
     ]
    },
    {
     "name": "stdout",
     "output_type": "stream",
     "text": [
      "/mnt/data/ffrouin/NEOTEX/DATA_NIFTI/DataMerged/90/\n",
      "['/mnt/data/ffrouin/NEOTEX/DATA_NIFTI/DataMerged/90/RawVolume/90_Shape_study_constant_40.0.nii.gz']\n",
      "['/mnt/data/ffrouin/NEOTEX/DATA_NIFTI/DataMerged/90/RoiVolume/Bounding_box_40.0.nii.gz']\n"
     ]
    },
    {
     "name": "stderr",
     "output_type": "stream",
     "text": [
      "GLCM is symmetrical, therefore Sum Average = 2 * Joint Average, only 1 needs to be calculated\n"
     ]
    },
    {
     "name": "stdout",
     "output_type": "stream",
     "text": [
      "/mnt/data/ffrouin/NEOTEX/DATA_NIFTI/DataMerged/38/\n",
      "['/mnt/data/ffrouin/NEOTEX/DATA_NIFTI/DataMerged/38/RawVolume/38_Shape_study_constant_40.0.nii.gz']\n",
      "['/mnt/data/ffrouin/NEOTEX/DATA_NIFTI/DataMerged/38/RoiVolume/Bounding_box_40.0.nii.gz']\n"
     ]
    },
    {
     "name": "stderr",
     "output_type": "stream",
     "text": [
      "GLCM is symmetrical, therefore Sum Average = 2 * Joint Average, only 1 needs to be calculated\n"
     ]
    },
    {
     "name": "stdout",
     "output_type": "stream",
     "text": [
      "/mnt/data/ffrouin/NEOTEX/DATA_NIFTI/DataMerged/45/\n",
      "['/mnt/data/ffrouin/NEOTEX/DATA_NIFTI/DataMerged/45/RawVolume/45_Shape_study_constant_40.0.nii.gz']\n",
      "['/mnt/data/ffrouin/NEOTEX/DATA_NIFTI/DataMerged/45/RoiVolume/Bounding_box_40.0.nii.gz']\n"
     ]
    },
    {
     "name": "stderr",
     "output_type": "stream",
     "text": [
      "GLCM is symmetrical, therefore Sum Average = 2 * Joint Average, only 1 needs to be calculated\n"
     ]
    },
    {
     "name": "stdout",
     "output_type": "stream",
     "text": [
      "/mnt/data/ffrouin/NEOTEX/DATA_NIFTI/DataMerged/51/\n",
      "['/mnt/data/ffrouin/NEOTEX/DATA_NIFTI/DataMerged/51/RawVolume/51_Shape_study_constant_40.0.nii.gz']\n",
      "['/mnt/data/ffrouin/NEOTEX/DATA_NIFTI/DataMerged/51/RoiVolume/Bounding_box_40.0.nii.gz']\n"
     ]
    },
    {
     "name": "stderr",
     "output_type": "stream",
     "text": [
      "GLCM is symmetrical, therefore Sum Average = 2 * Joint Average, only 1 needs to be calculated\n"
     ]
    },
    {
     "name": "stdout",
     "output_type": "stream",
     "text": [
      "/mnt/data/ffrouin/NEOTEX/DATA_NIFTI/DataMerged/74/\n",
      "['/mnt/data/ffrouin/NEOTEX/DATA_NIFTI/DataMerged/74/RawVolume/74_Shape_study_constant_40.0.nii.gz']\n",
      "['/mnt/data/ffrouin/NEOTEX/DATA_NIFTI/DataMerged/74/RoiVolume/Bounding_box_40.0.nii.gz']\n"
     ]
    },
    {
     "name": "stderr",
     "output_type": "stream",
     "text": [
      "GLCM is symmetrical, therefore Sum Average = 2 * Joint Average, only 1 needs to be calculated\n"
     ]
    },
    {
     "name": "stdout",
     "output_type": "stream",
     "text": [
      "/mnt/data/ffrouin/NEOTEX/DATA_NIFTI/DataMerged/32/\n",
      "['/mnt/data/ffrouin/NEOTEX/DATA_NIFTI/DataMerged/32/RawVolume/32_Shape_study_constant_40.0.nii.gz']\n",
      "['/mnt/data/ffrouin/NEOTEX/DATA_NIFTI/DataMerged/32/RoiVolume/Bounding_box_40.0.nii.gz']\n"
     ]
    },
    {
     "name": "stderr",
     "output_type": "stream",
     "text": [
      "GLCM is symmetrical, therefore Sum Average = 2 * Joint Average, only 1 needs to be calculated\n"
     ]
    },
    {
     "name": "stdout",
     "output_type": "stream",
     "text": [
      "/mnt/data/ffrouin/NEOTEX/DATA_NIFTI/DataMerged/102/\n",
      "['/mnt/data/ffrouin/NEOTEX/DATA_NIFTI/DataMerged/102/RawVolume/102_Shape_study_constant_40.0.nii.gz']\n",
      "['/mnt/data/ffrouin/NEOTEX/DATA_NIFTI/DataMerged/102/RoiVolume/Bounding_box_40.0.nii.gz']\n"
     ]
    },
    {
     "name": "stderr",
     "output_type": "stream",
     "text": [
      "GLCM is symmetrical, therefore Sum Average = 2 * Joint Average, only 1 needs to be calculated\n"
     ]
    },
    {
     "name": "stdout",
     "output_type": "stream",
     "text": [
      "/mnt/data/ffrouin/NEOTEX/DATA_NIFTI/DataMerged/67/\n",
      "['/mnt/data/ffrouin/NEOTEX/DATA_NIFTI/DataMerged/67/RawVolume/67_Shape_study_constant_40.0.nii.gz']\n",
      "['/mnt/data/ffrouin/NEOTEX/DATA_NIFTI/DataMerged/67/RoiVolume/Bounding_box_40.0.nii.gz']\n"
     ]
    },
    {
     "name": "stderr",
     "output_type": "stream",
     "text": [
      "GLCM is symmetrical, therefore Sum Average = 2 * Joint Average, only 1 needs to be calculated\n"
     ]
    },
    {
     "name": "stdout",
     "output_type": "stream",
     "text": [
      "/mnt/data/ffrouin/NEOTEX/DATA_NIFTI/DataMerged/18/\n",
      "['/mnt/data/ffrouin/NEOTEX/DATA_NIFTI/DataMerged/18/RawVolume/18_Shape_study_constant_40.0.nii.gz']\n",
      "['/mnt/data/ffrouin/NEOTEX/DATA_NIFTI/DataMerged/18/RoiVolume/Bounding_box_40.0.nii.gz']\n"
     ]
    },
    {
     "name": "stderr",
     "output_type": "stream",
     "text": [
      "GLCM is symmetrical, therefore Sum Average = 2 * Joint Average, only 1 needs to be calculated\n"
     ]
    },
    {
     "name": "stdout",
     "output_type": "stream",
     "text": [
      "/mnt/data/ffrouin/NEOTEX/DATA_NIFTI/DataMerged/96/\n",
      "['/mnt/data/ffrouin/NEOTEX/DATA_NIFTI/DataMerged/96/RawVolume/96_Shape_study_constant_40.0.nii.gz']\n",
      "['/mnt/data/ffrouin/NEOTEX/DATA_NIFTI/DataMerged/96/RoiVolume/Bounding_box_40.0.nii.gz']\n"
     ]
    },
    {
     "name": "stderr",
     "output_type": "stream",
     "text": [
      "GLCM is symmetrical, therefore Sum Average = 2 * Joint Average, only 1 needs to be calculated\n"
     ]
    },
    {
     "name": "stdout",
     "output_type": "stream",
     "text": [
      "/mnt/data/ffrouin/NEOTEX/DATA_NIFTI/DataMerged/68/\n",
      "['/mnt/data/ffrouin/NEOTEX/DATA_NIFTI/DataMerged/68/RawVolume/68_Shape_study_constant_40.0.nii.gz']\n",
      "['/mnt/data/ffrouin/NEOTEX/DATA_NIFTI/DataMerged/68/RoiVolume/Bounding_box_40.0.nii.gz']\n"
     ]
    },
    {
     "name": "stderr",
     "output_type": "stream",
     "text": [
      "GLCM is symmetrical, therefore Sum Average = 2 * Joint Average, only 1 needs to be calculated\n"
     ]
    },
    {
     "name": "stdout",
     "output_type": "stream",
     "text": [
      "/mnt/data/ffrouin/NEOTEX/DATA_NIFTI/DataMerged/2/\n",
      "['/mnt/data/ffrouin/NEOTEX/DATA_NIFTI/DataMerged/2/RawVolume/2_Shape_study_constant_40.0.nii.gz']\n",
      "['/mnt/data/ffrouin/NEOTEX/DATA_NIFTI/DataMerged/2/RoiVolume/Bounding_box_40.0.nii.gz']\n"
     ]
    },
    {
     "name": "stderr",
     "output_type": "stream",
     "text": [
      "GLCM is symmetrical, therefore Sum Average = 2 * Joint Average, only 1 needs to be calculated\n"
     ]
    },
    {
     "name": "stdout",
     "output_type": "stream",
     "text": [
      "/mnt/data/ffrouin/NEOTEX/DATA_NIFTI/DataMerged/48/\n",
      "['/mnt/data/ffrouin/NEOTEX/DATA_NIFTI/DataMerged/48/RawVolume/48_Shape_study_constant_40.0.nii.gz']\n",
      "['/mnt/data/ffrouin/NEOTEX/DATA_NIFTI/DataMerged/48/RoiVolume/Bounding_box_40.0.nii.gz']\n"
     ]
    },
    {
     "name": "stderr",
     "output_type": "stream",
     "text": [
      "GLCM is symmetrical, therefore Sum Average = 2 * Joint Average, only 1 needs to be calculated\n"
     ]
    },
    {
     "name": "stdout",
     "output_type": "stream",
     "text": [
      "/mnt/data/ffrouin/NEOTEX/DATA_NIFTI/DataMerged/26/\n",
      "['/mnt/data/ffrouin/NEOTEX/DATA_NIFTI/DataMerged/26/RawVolume/26_Shape_study_constant_40.0.nii.gz']\n",
      "['/mnt/data/ffrouin/NEOTEX/DATA_NIFTI/DataMerged/26/RoiVolume/Bounding_box_40.0.nii.gz']\n"
     ]
    },
    {
     "name": "stderr",
     "output_type": "stream",
     "text": [
      "GLCM is symmetrical, therefore Sum Average = 2 * Joint Average, only 1 needs to be calculated\n"
     ]
    },
    {
     "name": "stdout",
     "output_type": "stream",
     "text": [
      "/mnt/data/ffrouin/NEOTEX/DATA_NIFTI/DataMerged/95/\n",
      "['/mnt/data/ffrouin/NEOTEX/DATA_NIFTI/DataMerged/95/RawVolume/95_Shape_study_constant_40.0.nii.gz']\n",
      "['/mnt/data/ffrouin/NEOTEX/DATA_NIFTI/DataMerged/95/RoiVolume/Bounding_box_40.0.nii.gz']\n"
     ]
    },
    {
     "name": "stderr",
     "output_type": "stream",
     "text": [
      "GLCM is symmetrical, therefore Sum Average = 2 * Joint Average, only 1 needs to be calculated\n"
     ]
    },
    {
     "name": "stdout",
     "output_type": "stream",
     "text": [
      "/mnt/data/ffrouin/NEOTEX/DATA_NIFTI/DataMerged/88/\n",
      "['/mnt/data/ffrouin/NEOTEX/DATA_NIFTI/DataMerged/88/RawVolume/88_Shape_study_constant_40.0.nii.gz']\n",
      "['/mnt/data/ffrouin/NEOTEX/DATA_NIFTI/DataMerged/88/RoiVolume/Bounding_box_40.0.nii.gz']\n"
     ]
    },
    {
     "name": "stderr",
     "output_type": "stream",
     "text": [
      "GLCM is symmetrical, therefore Sum Average = 2 * Joint Average, only 1 needs to be calculated\n"
     ]
    },
    {
     "name": "stdout",
     "output_type": "stream",
     "text": [
      "/mnt/data/ffrouin/NEOTEX/DATA_NIFTI/DataMerged/65/\n",
      "['/mnt/data/ffrouin/NEOTEX/DATA_NIFTI/DataMerged/65/RawVolume/65_Shape_study_constant_40.0.nii.gz']\n",
      "['/mnt/data/ffrouin/NEOTEX/DATA_NIFTI/DataMerged/65/RoiVolume/Bounding_box_40.0.nii.gz']\n"
     ]
    },
    {
     "name": "stderr",
     "output_type": "stream",
     "text": [
      "GLCM is symmetrical, therefore Sum Average = 2 * Joint Average, only 1 needs to be calculated\n"
     ]
    },
    {
     "name": "stdout",
     "output_type": "stream",
     "text": [
      "/mnt/data/ffrouin/NEOTEX/DATA_NIFTI/DataMerged/101/\n",
      "['/mnt/data/ffrouin/NEOTEX/DATA_NIFTI/DataMerged/101/RawVolume/101_Shape_study_constant_40.0.nii.gz']\n",
      "['/mnt/data/ffrouin/NEOTEX/DATA_NIFTI/DataMerged/101/RoiVolume/Bounding_box_40.0.nii.gz']\n"
     ]
    },
    {
     "name": "stderr",
     "output_type": "stream",
     "text": [
      "GLCM is symmetrical, therefore Sum Average = 2 * Joint Average, only 1 needs to be calculated\n"
     ]
    },
    {
     "name": "stdout",
     "output_type": "stream",
     "text": [
      "/mnt/data/ffrouin/NEOTEX/DATA_NIFTI/DataMerged/78/\n",
      "['/mnt/data/ffrouin/NEOTEX/DATA_NIFTI/DataMerged/78/RawVolume/78_Shape_study_constant_40.0.nii.gz']\n",
      "['/mnt/data/ffrouin/NEOTEX/DATA_NIFTI/DataMerged/78/RoiVolume/Bounding_box_40.0.nii.gz']\n"
     ]
    },
    {
     "name": "stderr",
     "output_type": "stream",
     "text": [
      "GLCM is symmetrical, therefore Sum Average = 2 * Joint Average, only 1 needs to be calculated\n"
     ]
    },
    {
     "name": "stdout",
     "output_type": "stream",
     "text": [
      "/mnt/data/ffrouin/NEOTEX/DATA_NIFTI/DataMerged/1/\n",
      "['/mnt/data/ffrouin/NEOTEX/DATA_NIFTI/DataMerged/1/RawVolume/1_Shape_study_constant_40.0.nii.gz']\n",
      "['/mnt/data/ffrouin/NEOTEX/DATA_NIFTI/DataMerged/1/RoiVolume/Bounding_box_40.0.nii.gz']\n"
     ]
    },
    {
     "name": "stderr",
     "output_type": "stream",
     "text": [
      "GLCM is symmetrical, therefore Sum Average = 2 * Joint Average, only 1 needs to be calculated\n"
     ]
    },
    {
     "name": "stdout",
     "output_type": "stream",
     "text": [
      "/mnt/data/ffrouin/NEOTEX/DATA_NIFTI/DataMerged/58/\n",
      "['/mnt/data/ffrouin/NEOTEX/DATA_NIFTI/DataMerged/58/RawVolume/58_Shape_study_constant_40.0.nii.gz']\n",
      "['/mnt/data/ffrouin/NEOTEX/DATA_NIFTI/DataMerged/58/RoiVolume/Bounding_box_40.0.nii.gz']\n"
     ]
    },
    {
     "name": "stderr",
     "output_type": "stream",
     "text": [
      "GLCM is symmetrical, therefore Sum Average = 2 * Joint Average, only 1 needs to be calculated\n"
     ]
    },
    {
     "name": "stdout",
     "output_type": "stream",
     "text": [
      "/mnt/data/ffrouin/NEOTEX/DATA_NIFTI/DataMerged/79/\n",
      "['/mnt/data/ffrouin/NEOTEX/DATA_NIFTI/DataMerged/79/RawVolume/79_Shape_study_constant_40.0.nii.gz']\n",
      "['/mnt/data/ffrouin/NEOTEX/DATA_NIFTI/DataMerged/79/RoiVolume/Bounding_box_40.0.nii.gz']\n"
     ]
    },
    {
     "name": "stderr",
     "output_type": "stream",
     "text": [
      "GLCM is symmetrical, therefore Sum Average = 2 * Joint Average, only 1 needs to be calculated\n"
     ]
    },
    {
     "name": "stdout",
     "output_type": "stream",
     "text": [
      "/mnt/data/ffrouin/NEOTEX/DATA_NIFTI/DataMerged/4/\n",
      "['/mnt/data/ffrouin/NEOTEX/DATA_NIFTI/DataMerged/4/RawVolume/4_Shape_study_constant_40.0.nii.gz']\n",
      "['/mnt/data/ffrouin/NEOTEX/DATA_NIFTI/DataMerged/4/RoiVolume/Bounding_box_40.0.nii.gz']\n"
     ]
    },
    {
     "name": "stderr",
     "output_type": "stream",
     "text": [
      "GLCM is symmetrical, therefore Sum Average = 2 * Joint Average, only 1 needs to be calculated\n"
     ]
    },
    {
     "name": "stdout",
     "output_type": "stream",
     "text": [
      "/mnt/data/ffrouin/NEOTEX/DATA_NIFTI/DataMerged/91/\n",
      "['/mnt/data/ffrouin/NEOTEX/DATA_NIFTI/DataMerged/91/RawVolume/91_Shape_study_constant_40.0.nii.gz']\n",
      "['/mnt/data/ffrouin/NEOTEX/DATA_NIFTI/DataMerged/91/RoiVolume/Bounding_box_40.0.nii.gz']\n"
     ]
    },
    {
     "name": "stderr",
     "output_type": "stream",
     "text": [
      "GLCM is symmetrical, therefore Sum Average = 2 * Joint Average, only 1 needs to be calculated\n"
     ]
    },
    {
     "name": "stdout",
     "output_type": "stream",
     "text": [
      "/mnt/data/ffrouin/NEOTEX/DATA_NIFTI/DataMerged/63/\n",
      "['/mnt/data/ffrouin/NEOTEX/DATA_NIFTI/DataMerged/63/RawVolume/63_Shape_study_constant_40.0.nii.gz']\n",
      "['/mnt/data/ffrouin/NEOTEX/DATA_NIFTI/DataMerged/63/RoiVolume/Bounding_box_40.0.nii.gz']\n"
     ]
    },
    {
     "name": "stderr",
     "output_type": "stream",
     "text": [
      "GLCM is symmetrical, therefore Sum Average = 2 * Joint Average, only 1 needs to be calculated\n"
     ]
    },
    {
     "name": "stdout",
     "output_type": "stream",
     "text": [
      "/mnt/data/ffrouin/NEOTEX/DATA_NIFTI/DataMerged/54/\n",
      "['/mnt/data/ffrouin/NEOTEX/DATA_NIFTI/DataMerged/54/RawVolume/54_Shape_study_constant_40.0.nii.gz']\n",
      "['/mnt/data/ffrouin/NEOTEX/DATA_NIFTI/DataMerged/54/RoiVolume/Bounding_box_40.0.nii.gz']\n"
     ]
    },
    {
     "name": "stderr",
     "output_type": "stream",
     "text": [
      "GLCM is symmetrical, therefore Sum Average = 2 * Joint Average, only 1 needs to be calculated\n"
     ]
    },
    {
     "name": "stdout",
     "output_type": "stream",
     "text": [
      "/mnt/data/ffrouin/NEOTEX/DATA_NIFTI/DataMerged/52/\n",
      "['/mnt/data/ffrouin/NEOTEX/DATA_NIFTI/DataMerged/52/RawVolume/52_Shape_study_constant_40.0.nii.gz']\n",
      "['/mnt/data/ffrouin/NEOTEX/DATA_NIFTI/DataMerged/52/RoiVolume/Bounding_box_40.0.nii.gz']\n"
     ]
    },
    {
     "name": "stderr",
     "output_type": "stream",
     "text": [
      "GLCM is symmetrical, therefore Sum Average = 2 * Joint Average, only 1 needs to be calculated\n"
     ]
    },
    {
     "name": "stdout",
     "output_type": "stream",
     "text": [
      "/mnt/data/ffrouin/NEOTEX/DATA_NIFTI/DataMerged/62/\n",
      "['/mnt/data/ffrouin/NEOTEX/DATA_NIFTI/DataMerged/62/RawVolume/62_Shape_study_constant_40.0.nii.gz']\n",
      "['/mnt/data/ffrouin/NEOTEX/DATA_NIFTI/DataMerged/62/RoiVolume/Bounding_box_40.0.nii.gz']\n"
     ]
    },
    {
     "name": "stderr",
     "output_type": "stream",
     "text": [
      "GLCM is symmetrical, therefore Sum Average = 2 * Joint Average, only 1 needs to be calculated\n"
     ]
    },
    {
     "name": "stdout",
     "output_type": "stream",
     "text": [
      "/mnt/data/ffrouin/NEOTEX/DATA_NIFTI/DataMerged/44/\n",
      "['/mnt/data/ffrouin/NEOTEX/DATA_NIFTI/DataMerged/44/RawVolume/44_Shape_study_constant_40.0.nii.gz']\n",
      "['/mnt/data/ffrouin/NEOTEX/DATA_NIFTI/DataMerged/44/RoiVolume/Bounding_box_40.0.nii.gz']\n"
     ]
    },
    {
     "name": "stderr",
     "output_type": "stream",
     "text": [
      "GLCM is symmetrical, therefore Sum Average = 2 * Joint Average, only 1 needs to be calculated\n"
     ]
    },
    {
     "name": "stdout",
     "output_type": "stream",
     "text": [
      "/mnt/data/ffrouin/NEOTEX/DATA_NIFTI/DataMerged/50/\n",
      "['/mnt/data/ffrouin/NEOTEX/DATA_NIFTI/DataMerged/50/RawVolume/50_Shape_study_constant_40.0.nii.gz']\n",
      "['/mnt/data/ffrouin/NEOTEX/DATA_NIFTI/DataMerged/50/RoiVolume/Bounding_box_40.0.nii.gz']\n"
     ]
    },
    {
     "name": "stderr",
     "output_type": "stream",
     "text": [
      "GLCM is symmetrical, therefore Sum Average = 2 * Joint Average, only 1 needs to be calculated\n"
     ]
    },
    {
     "name": "stdout",
     "output_type": "stream",
     "text": [
      "/mnt/data/ffrouin/NEOTEX/DATA_NIFTI/DataMerged/86/\n",
      "['/mnt/data/ffrouin/NEOTEX/DATA_NIFTI/DataMerged/86/RawVolume/86_Shape_study_constant_40.0.nii.gz']\n",
      "['/mnt/data/ffrouin/NEOTEX/DATA_NIFTI/DataMerged/86/RoiVolume/Bounding_box_40.0.nii.gz']\n"
     ]
    },
    {
     "name": "stderr",
     "output_type": "stream",
     "text": [
      "GLCM is symmetrical, therefore Sum Average = 2 * Joint Average, only 1 needs to be calculated\n"
     ]
    },
    {
     "name": "stdout",
     "output_type": "stream",
     "text": [
      "/mnt/data/ffrouin/NEOTEX/DATA_NIFTI/DataMerged/92/\n",
      "['/mnt/data/ffrouin/NEOTEX/DATA_NIFTI/DataMerged/92/RawVolume/92_Shape_study_constant_40.0.nii.gz']\n",
      "['/mnt/data/ffrouin/NEOTEX/DATA_NIFTI/DataMerged/92/RoiVolume/Bounding_box_40.0.nii.gz']\n"
     ]
    },
    {
     "name": "stderr",
     "output_type": "stream",
     "text": [
      "GLCM is symmetrical, therefore Sum Average = 2 * Joint Average, only 1 needs to be calculated\n"
     ]
    },
    {
     "name": "stdout",
     "output_type": "stream",
     "text": [
      "/mnt/data/ffrouin/NEOTEX/DATA_NIFTI/DataMerged/29/\n",
      "['/mnt/data/ffrouin/NEOTEX/DATA_NIFTI/DataMerged/29/RawVolume/29_Shape_study_constant_40.0.nii.gz']\n",
      "['/mnt/data/ffrouin/NEOTEX/DATA_NIFTI/DataMerged/29/RoiVolume/Bounding_box_40.0.nii.gz']\n"
     ]
    },
    {
     "name": "stderr",
     "output_type": "stream",
     "text": [
      "GLCM is symmetrical, therefore Sum Average = 2 * Joint Average, only 1 needs to be calculated\n"
     ]
    },
    {
     "name": "stdout",
     "output_type": "stream",
     "text": [
      "/mnt/data/ffrouin/NEOTEX/DATA_NIFTI/DataMerged/33/\n",
      "['/mnt/data/ffrouin/NEOTEX/DATA_NIFTI/DataMerged/33/RawVolume/33_Shape_study_constant_40.0.nii.gz']\n",
      "['/mnt/data/ffrouin/NEOTEX/DATA_NIFTI/DataMerged/33/RoiVolume/Bounding_box_40.0.nii.gz']\n"
     ]
    },
    {
     "name": "stderr",
     "output_type": "stream",
     "text": [
      "GLCM is symmetrical, therefore Sum Average = 2 * Joint Average, only 1 needs to be calculated\n"
     ]
    },
    {
     "name": "stdout",
     "output_type": "stream",
     "text": [
      "/mnt/data/ffrouin/NEOTEX/DATA_NIFTI/DataMerged/61/\n",
      "['/mnt/data/ffrouin/NEOTEX/DATA_NIFTI/DataMerged/61/RawVolume/61_Shape_study_constant_40.0.nii.gz']\n",
      "['/mnt/data/ffrouin/NEOTEX/DATA_NIFTI/DataMerged/61/RoiVolume/Bounding_box_40.0.nii.gz']\n"
     ]
    },
    {
     "name": "stderr",
     "output_type": "stream",
     "text": [
      "GLCM is symmetrical, therefore Sum Average = 2 * Joint Average, only 1 needs to be calculated\n"
     ]
    },
    {
     "name": "stdout",
     "output_type": "stream",
     "text": [
      "/mnt/data/ffrouin/NEOTEX/DATA_NIFTI/DataMerged/46/\n",
      "['/mnt/data/ffrouin/NEOTEX/DATA_NIFTI/DataMerged/46/RawVolume/46_Shape_study_constant_40.0.nii.gz']\n",
      "['/mnt/data/ffrouin/NEOTEX/DATA_NIFTI/DataMerged/46/RoiVolume/Bounding_box_40.0.nii.gz']\n"
     ]
    },
    {
     "name": "stderr",
     "output_type": "stream",
     "text": [
      "GLCM is symmetrical, therefore Sum Average = 2 * Joint Average, only 1 needs to be calculated\n"
     ]
    },
    {
     "name": "stdout",
     "output_type": "stream",
     "text": [
      "/mnt/data/ffrouin/NEOTEX/DATA_NIFTI/DataMerged/34/\n",
      "['/mnt/data/ffrouin/NEOTEX/DATA_NIFTI/DataMerged/34/RawVolume/34_Shape_study_constant_40.0.nii.gz']\n",
      "['/mnt/data/ffrouin/NEOTEX/DATA_NIFTI/DataMerged/34/RoiVolume/Bounding_box_40.0.nii.gz']\n"
     ]
    },
    {
     "name": "stderr",
     "output_type": "stream",
     "text": [
      "GLCM is symmetrical, therefore Sum Average = 2 * Joint Average, only 1 needs to be calculated\n"
     ]
    },
    {
     "name": "stdout",
     "output_type": "stream",
     "text": [
      "/mnt/data/ffrouin/NEOTEX/DATA_NIFTI/DataMerged/24/\n",
      "['/mnt/data/ffrouin/NEOTEX/DATA_NIFTI/DataMerged/24/RawVolume/24_Shape_study_constant_40.0.nii.gz']\n",
      "['/mnt/data/ffrouin/NEOTEX/DATA_NIFTI/DataMerged/24/RoiVolume/Bounding_box_40.0.nii.gz']\n"
     ]
    },
    {
     "name": "stderr",
     "output_type": "stream",
     "text": [
      "GLCM is symmetrical, therefore Sum Average = 2 * Joint Average, only 1 needs to be calculated\n"
     ]
    },
    {
     "name": "stdout",
     "output_type": "stream",
     "text": [
      "/mnt/data/ffrouin/NEOTEX/DATA_NIFTI/DataMerged/19/\n",
      "['/mnt/data/ffrouin/NEOTEX/DATA_NIFTI/DataMerged/19/RawVolume/19_Shape_study_constant_40.0.nii.gz']\n",
      "['/mnt/data/ffrouin/NEOTEX/DATA_NIFTI/DataMerged/19/RoiVolume/Bounding_box_40.0.nii.gz']\n"
     ]
    },
    {
     "name": "stderr",
     "output_type": "stream",
     "text": [
      "GLCM is symmetrical, therefore Sum Average = 2 * Joint Average, only 1 needs to be calculated\n"
     ]
    },
    {
     "name": "stdout",
     "output_type": "stream",
     "text": [
      "/mnt/data/ffrouin/NEOTEX/DATA_NIFTI/DataMerged/85/\n",
      "['/mnt/data/ffrouin/NEOTEX/DATA_NIFTI/DataMerged/85/RawVolume/85_Shape_study_constant_40.0.nii.gz']\n",
      "['/mnt/data/ffrouin/NEOTEX/DATA_NIFTI/DataMerged/85/RoiVolume/Bounding_box_40.0.nii.gz']\n"
     ]
    },
    {
     "name": "stderr",
     "output_type": "stream",
     "text": [
      "GLCM is symmetrical, therefore Sum Average = 2 * Joint Average, only 1 needs to be calculated\n"
     ]
    },
    {
     "name": "stdout",
     "output_type": "stream",
     "text": [
      "/mnt/data/ffrouin/NEOTEX/DATA_NIFTI/DataMerged/36/\n",
      "['/mnt/data/ffrouin/NEOTEX/DATA_NIFTI/DataMerged/36/RawVolume/36_Shape_study_constant_40.0.nii.gz']\n",
      "['/mnt/data/ffrouin/NEOTEX/DATA_NIFTI/DataMerged/36/RoiVolume/Bounding_box_40.0.nii.gz']\n"
     ]
    },
    {
     "name": "stderr",
     "output_type": "stream",
     "text": [
      "GLCM is symmetrical, therefore Sum Average = 2 * Joint Average, only 1 needs to be calculated\n"
     ]
    },
    {
     "name": "stdout",
     "output_type": "stream",
     "text": [
      "/mnt/data/ffrouin/NEOTEX/DATA_NIFTI/DataMerged/89/\n",
      "['/mnt/data/ffrouin/NEOTEX/DATA_NIFTI/DataMerged/89/RawVolume/89_Shape_study_constant_40.0.nii.gz']\n",
      "['/mnt/data/ffrouin/NEOTEX/DATA_NIFTI/DataMerged/89/RoiVolume/Bounding_box_40.0.nii.gz']\n"
     ]
    },
    {
     "name": "stderr",
     "output_type": "stream",
     "text": [
      "GLCM is symmetrical, therefore Sum Average = 2 * Joint Average, only 1 needs to be calculated\n"
     ]
    },
    {
     "name": "stdout",
     "output_type": "stream",
     "text": [
      "/mnt/data/ffrouin/NEOTEX/DATA_NIFTI/DataMerged/23/\n",
      "['/mnt/data/ffrouin/NEOTEX/DATA_NIFTI/DataMerged/23/RawVolume/23_Shape_study_constant_40.0.nii.gz']\n",
      "['/mnt/data/ffrouin/NEOTEX/DATA_NIFTI/DataMerged/23/RoiVolume/Bounding_box_40.0.nii.gz']\n"
     ]
    },
    {
     "name": "stderr",
     "output_type": "stream",
     "text": [
      "GLCM is symmetrical, therefore Sum Average = 2 * Joint Average, only 1 needs to be calculated\n"
     ]
    },
    {
     "name": "stdout",
     "output_type": "stream",
     "text": [
      "/mnt/data/ffrouin/NEOTEX/DATA_NIFTI/DataMerged/10/\n",
      "['/mnt/data/ffrouin/NEOTEX/DATA_NIFTI/DataMerged/10/RawVolume/10_Shape_study_constant_40.0.nii.gz']\n",
      "['/mnt/data/ffrouin/NEOTEX/DATA_NIFTI/DataMerged/10/RoiVolume/Bounding_box_40.0.nii.gz']\n"
     ]
    },
    {
     "name": "stderr",
     "output_type": "stream",
     "text": [
      "GLCM is symmetrical, therefore Sum Average = 2 * Joint Average, only 1 needs to be calculated\n"
     ]
    },
    {
     "name": "stdout",
     "output_type": "stream",
     "text": [
      "/mnt/data/ffrouin/NEOTEX/DATA_NIFTI/DataMerged/42/\n",
      "['/mnt/data/ffrouin/NEOTEX/DATA_NIFTI/DataMerged/42/RawVolume/42_Shape_study_constant_40.0.nii.gz']\n",
      "['/mnt/data/ffrouin/NEOTEX/DATA_NIFTI/DataMerged/42/RoiVolume/Bounding_box_40.0.nii.gz']\n"
     ]
    },
    {
     "name": "stderr",
     "output_type": "stream",
     "text": [
      "GLCM is symmetrical, therefore Sum Average = 2 * Joint Average, only 1 needs to be calculated\n"
     ]
    },
    {
     "name": "stdout",
     "output_type": "stream",
     "text": [
      "/mnt/data/ffrouin/NEOTEX/DATA_NIFTI/DataMerged/28/\n",
      "['/mnt/data/ffrouin/NEOTEX/DATA_NIFTI/DataMerged/28/RawVolume/28_Shape_study_constant_40.0.nii.gz']\n",
      "['/mnt/data/ffrouin/NEOTEX/DATA_NIFTI/DataMerged/28/RoiVolume/Bounding_box_40.0.nii.gz']\n"
     ]
    },
    {
     "name": "stderr",
     "output_type": "stream",
     "text": [
      "GLCM is symmetrical, therefore Sum Average = 2 * Joint Average, only 1 needs to be calculated\n"
     ]
    },
    {
     "name": "stdout",
     "output_type": "stream",
     "text": [
      "/mnt/data/ffrouin/NEOTEX/DATA_NIFTI/DataMerged/5/\n",
      "['/mnt/data/ffrouin/NEOTEX/DATA_NIFTI/DataMerged/5/RawVolume/5_Shape_study_constant_40.0.nii.gz']\n",
      "['/mnt/data/ffrouin/NEOTEX/DATA_NIFTI/DataMerged/5/RoiVolume/Bounding_box_40.0.nii.gz']\n"
     ]
    },
    {
     "name": "stderr",
     "output_type": "stream",
     "text": [
      "GLCM is symmetrical, therefore Sum Average = 2 * Joint Average, only 1 needs to be calculated\n"
     ]
    },
    {
     "name": "stdout",
     "output_type": "stream",
     "text": [
      "/mnt/data/ffrouin/NEOTEX/DATA_NIFTI/DataMerged/30/\n",
      "['/mnt/data/ffrouin/NEOTEX/DATA_NIFTI/DataMerged/30/RawVolume/30_Shape_study_constant_40.0.nii.gz']\n",
      "['/mnt/data/ffrouin/NEOTEX/DATA_NIFTI/DataMerged/30/RoiVolume/Bounding_box_40.0.nii.gz']\n"
     ]
    },
    {
     "name": "stderr",
     "output_type": "stream",
     "text": [
      "GLCM is symmetrical, therefore Sum Average = 2 * Joint Average, only 1 needs to be calculated\n"
     ]
    },
    {
     "name": "stdout",
     "output_type": "stream",
     "text": [
      "/mnt/data/ffrouin/NEOTEX/DATA_NIFTI/DataMerged/14/\n",
      "['/mnt/data/ffrouin/NEOTEX/DATA_NIFTI/DataMerged/14/RawVolume/14_Shape_study_constant_40.0.nii.gz']\n",
      "['/mnt/data/ffrouin/NEOTEX/DATA_NIFTI/DataMerged/14/RoiVolume/Bounding_box_40.0.nii.gz']\n"
     ]
    },
    {
     "name": "stderr",
     "output_type": "stream",
     "text": [
      "GLCM is symmetrical, therefore Sum Average = 2 * Joint Average, only 1 needs to be calculated\n"
     ]
    },
    {
     "name": "stdout",
     "output_type": "stream",
     "text": [
      "/mnt/data/ffrouin/NEOTEX/DATA_NIFTI/DataMerged/98/\n",
      "['/mnt/data/ffrouin/NEOTEX/DATA_NIFTI/DataMerged/98/RawVolume/98_Shape_study_constant_40.0.nii.gz']\n",
      "['/mnt/data/ffrouin/NEOTEX/DATA_NIFTI/DataMerged/98/RoiVolume/Bounding_box_40.0.nii.gz']\n"
     ]
    },
    {
     "name": "stderr",
     "output_type": "stream",
     "text": [
      "GLCM is symmetrical, therefore Sum Average = 2 * Joint Average, only 1 needs to be calculated\n"
     ]
    },
    {
     "name": "stdout",
     "output_type": "stream",
     "text": [
      "/mnt/data/ffrouin/NEOTEX/DATA_NIFTI/DataMerged/73/\n",
      "['/mnt/data/ffrouin/NEOTEX/DATA_NIFTI/DataMerged/73/RawVolume/73_Shape_study_constant_40.0.nii.gz']\n",
      "['/mnt/data/ffrouin/NEOTEX/DATA_NIFTI/DataMerged/73/RoiVolume/Bounding_box_40.0.nii.gz']\n"
     ]
    },
    {
     "name": "stderr",
     "output_type": "stream",
     "text": [
      "GLCM is symmetrical, therefore Sum Average = 2 * Joint Average, only 1 needs to be calculated\n"
     ]
    },
    {
     "name": "stdout",
     "output_type": "stream",
     "text": [
      "/mnt/data/ffrouin/NEOTEX/DATA_NIFTI/DataMerged/97/\n",
      "['/mnt/data/ffrouin/NEOTEX/DATA_NIFTI/DataMerged/97/RawVolume/97_Shape_study_constant_40.0.nii.gz']\n",
      "['/mnt/data/ffrouin/NEOTEX/DATA_NIFTI/DataMerged/97/RoiVolume/Bounding_box_40.0.nii.gz']\n"
     ]
    },
    {
     "name": "stderr",
     "output_type": "stream",
     "text": [
      "GLCM is symmetrical, therefore Sum Average = 2 * Joint Average, only 1 needs to be calculated\n"
     ]
    },
    {
     "name": "stdout",
     "output_type": "stream",
     "text": [
      "/mnt/data/ffrouin/NEOTEX/DATA_NIFTI/DataMerged/59/\n",
      "['/mnt/data/ffrouin/NEOTEX/DATA_NIFTI/DataMerged/59/RawVolume/59_Shape_study_constant_40.0.nii.gz']\n",
      "['/mnt/data/ffrouin/NEOTEX/DATA_NIFTI/DataMerged/59/RoiVolume/Bounding_box_40.0.nii.gz']\n"
     ]
    },
    {
     "name": "stderr",
     "output_type": "stream",
     "text": [
      "GLCM is symmetrical, therefore Sum Average = 2 * Joint Average, only 1 needs to be calculated\n"
     ]
    },
    {
     "name": "stdout",
     "output_type": "stream",
     "text": [
      "/mnt/data/ffrouin/NEOTEX/DATA_NIFTI/DataMerged/27/\n",
      "['/mnt/data/ffrouin/NEOTEX/DATA_NIFTI/DataMerged/27/RawVolume/27_Shape_study_constant_40.0.nii.gz']\n",
      "['/mnt/data/ffrouin/NEOTEX/DATA_NIFTI/DataMerged/27/RoiVolume/Bounding_box_40.0.nii.gz']\n"
     ]
    },
    {
     "name": "stderr",
     "output_type": "stream",
     "text": [
      "GLCM is symmetrical, therefore Sum Average = 2 * Joint Average, only 1 needs to be calculated\n"
     ]
    },
    {
     "name": "stdout",
     "output_type": "stream",
     "text": [
      "/mnt/data/ffrouin/NEOTEX/DATA_NIFTI/DataMerged/21/\n",
      "['/mnt/data/ffrouin/NEOTEX/DATA_NIFTI/DataMerged/21/RawVolume/21_Shape_study_constant_40.0.nii.gz']\n",
      "['/mnt/data/ffrouin/NEOTEX/DATA_NIFTI/DataMerged/21/RoiVolume/Bounding_box_40.0.nii.gz']\n"
     ]
    },
    {
     "name": "stderr",
     "output_type": "stream",
     "text": [
      "GLCM is symmetrical, therefore Sum Average = 2 * Joint Average, only 1 needs to be calculated\n"
     ]
    },
    {
     "name": "stdout",
     "output_type": "stream",
     "text": [
      "/mnt/data/ffrouin/NEOTEX/DATA_NIFTI/DataMerged/64/\n",
      "['/mnt/data/ffrouin/NEOTEX/DATA_NIFTI/DataMerged/64/RawVolume/64_Shape_study_constant_40.0.nii.gz']\n",
      "['/mnt/data/ffrouin/NEOTEX/DATA_NIFTI/DataMerged/64/RoiVolume/Bounding_box_40.0.nii.gz']\n"
     ]
    },
    {
     "name": "stderr",
     "output_type": "stream",
     "text": [
      "GLCM is symmetrical, therefore Sum Average = 2 * Joint Average, only 1 needs to be calculated\n"
     ]
    },
    {
     "name": "stdout",
     "output_type": "stream",
     "text": [
      "/mnt/data/ffrouin/NEOTEX/DATA_NIFTI/DataMerged/9/\n",
      "['/mnt/data/ffrouin/NEOTEX/DATA_NIFTI/DataMerged/9/RawVolume/9_Shape_study_constant_40.0.nii.gz']\n",
      "['/mnt/data/ffrouin/NEOTEX/DATA_NIFTI/DataMerged/9/RoiVolume/Bounding_box_40.0.nii.gz']\n"
     ]
    },
    {
     "name": "stderr",
     "output_type": "stream",
     "text": [
      "GLCM is symmetrical, therefore Sum Average = 2 * Joint Average, only 1 needs to be calculated\n"
     ]
    },
    {
     "name": "stdout",
     "output_type": "stream",
     "text": [
      "/mnt/data/ffrouin/NEOTEX/DATA_NIFTI/DataMerged/75/\n",
      "['/mnt/data/ffrouin/NEOTEX/DATA_NIFTI/DataMerged/75/RawVolume/75_Shape_study_constant_40.0.nii.gz']\n",
      "['/mnt/data/ffrouin/NEOTEX/DATA_NIFTI/DataMerged/75/RoiVolume/Bounding_box_40.0.nii.gz']\n"
     ]
    },
    {
     "name": "stderr",
     "output_type": "stream",
     "text": [
      "GLCM is symmetrical, therefore Sum Average = 2 * Joint Average, only 1 needs to be calculated\n"
     ]
    },
    {
     "name": "stdout",
     "output_type": "stream",
     "text": [
      "/mnt/data/ffrouin/NEOTEX/DATA_NIFTI/DataMerged/56/\n",
      "['/mnt/data/ffrouin/NEOTEX/DATA_NIFTI/DataMerged/56/RawVolume/56_Shape_study_constant_40.0.nii.gz']\n",
      "['/mnt/data/ffrouin/NEOTEX/DATA_NIFTI/DataMerged/56/RoiVolume/Bounding_box_40.0.nii.gz']\n"
     ]
    },
    {
     "name": "stderr",
     "output_type": "stream",
     "text": [
      "GLCM is symmetrical, therefore Sum Average = 2 * Joint Average, only 1 needs to be calculated\n"
     ]
    },
    {
     "name": "stdout",
     "output_type": "stream",
     "text": [
      "/mnt/data/ffrouin/NEOTEX/DATA_NIFTI/DataMerged/20/\n",
      "['/mnt/data/ffrouin/NEOTEX/DATA_NIFTI/DataMerged/20/RawVolume/20_Shape_study_constant_40.0.nii.gz']\n",
      "['/mnt/data/ffrouin/NEOTEX/DATA_NIFTI/DataMerged/20/RoiVolume/Bounding_box_40.0.nii.gz']\n"
     ]
    },
    {
     "name": "stderr",
     "output_type": "stream",
     "text": [
      "GLCM is symmetrical, therefore Sum Average = 2 * Joint Average, only 1 needs to be calculated\n"
     ]
    },
    {
     "name": "stdout",
     "output_type": "stream",
     "text": [
      "/mnt/data/ffrouin/NEOTEX/DATA_NIFTI/DataMerged/69/\n",
      "['/mnt/data/ffrouin/NEOTEX/DATA_NIFTI/DataMerged/69/RawVolume/69_Shape_study_constant_40.0.nii.gz']\n",
      "['/mnt/data/ffrouin/NEOTEX/DATA_NIFTI/DataMerged/69/RoiVolume/Bounding_box_40.0.nii.gz']\n"
     ]
    },
    {
     "name": "stderr",
     "output_type": "stream",
     "text": [
      "GLCM is symmetrical, therefore Sum Average = 2 * Joint Average, only 1 needs to be calculated\n"
     ]
    },
    {
     "name": "stdout",
     "output_type": "stream",
     "text": [
      "/mnt/data/ffrouin/NEOTEX/DATA_NIFTI/DataMerged/8/\n",
      "['/mnt/data/ffrouin/NEOTEX/DATA_NIFTI/DataMerged/8/RawVolume/8_Shape_study_constant_40.0.nii.gz']\n",
      "['/mnt/data/ffrouin/NEOTEX/DATA_NIFTI/DataMerged/8/RoiVolume/Bounding_box_40.0.nii.gz']\n"
     ]
    },
    {
     "name": "stderr",
     "output_type": "stream",
     "text": [
      "GLCM is symmetrical, therefore Sum Average = 2 * Joint Average, only 1 needs to be calculated\n"
     ]
    },
    {
     "name": "stdout",
     "output_type": "stream",
     "text": [
      "/mnt/data/ffrouin/NEOTEX/DATA_NIFTI/DataMerged/93/\n",
      "['/mnt/data/ffrouin/NEOTEX/DATA_NIFTI/DataMerged/93/RawVolume/93_Shape_study_constant_40.0.nii.gz']\n",
      "['/mnt/data/ffrouin/NEOTEX/DATA_NIFTI/DataMerged/93/RoiVolume/Bounding_box_40.0.nii.gz']\n"
     ]
    },
    {
     "name": "stderr",
     "output_type": "stream",
     "text": [
      "GLCM is symmetrical, therefore Sum Average = 2 * Joint Average, only 1 needs to be calculated\n"
     ]
    },
    {
     "name": "stdout",
     "output_type": "stream",
     "text": [
      "/mnt/data/ffrouin/NEOTEX/DATA_NIFTI/DataMerged/104/\n",
      "['/mnt/data/ffrouin/NEOTEX/DATA_NIFTI/DataMerged/104/RawVolume/104_Shape_study_constant_40.0.nii.gz']\n",
      "['/mnt/data/ffrouin/NEOTEX/DATA_NIFTI/DataMerged/104/RoiVolume/Bounding_box_40.0.nii.gz']\n"
     ]
    },
    {
     "name": "stderr",
     "output_type": "stream",
     "text": [
      "GLCM is symmetrical, therefore Sum Average = 2 * Joint Average, only 1 needs to be calculated\n"
     ]
    },
    {
     "name": "stdout",
     "output_type": "stream",
     "text": [
      "/mnt/data/ffrouin/NEOTEX/DATA_NIFTI/DataMerged/81/\n",
      "['/mnt/data/ffrouin/NEOTEX/DATA_NIFTI/DataMerged/81/RawVolume/81_Shape_study_constant_40.0.nii.gz']\n",
      "['/mnt/data/ffrouin/NEOTEX/DATA_NIFTI/DataMerged/81/RoiVolume/Bounding_box_40.0.nii.gz']\n"
     ]
    },
    {
     "name": "stderr",
     "output_type": "stream",
     "text": [
      "GLCM is symmetrical, therefore Sum Average = 2 * Joint Average, only 1 needs to be calculated\n"
     ]
    },
    {
     "name": "stdout",
     "output_type": "stream",
     "text": [
      "/mnt/data/ffrouin/NEOTEX/DATA_NIFTI/DataMerged/77/\n",
      "['/mnt/data/ffrouin/NEOTEX/DATA_NIFTI/DataMerged/77/RawVolume/77_Shape_study_constant_40.0.nii.gz']\n",
      "['/mnt/data/ffrouin/NEOTEX/DATA_NIFTI/DataMerged/77/RoiVolume/Bounding_box_40.0.nii.gz']\n"
     ]
    },
    {
     "name": "stderr",
     "output_type": "stream",
     "text": [
      "GLCM is symmetrical, therefore Sum Average = 2 * Joint Average, only 1 needs to be calculated\n"
     ]
    },
    {
     "name": "stdout",
     "output_type": "stream",
     "text": [
      "/mnt/data/ffrouin/NEOTEX/DATA_NIFTI/DataMerged/25/\n",
      "['/mnt/data/ffrouin/NEOTEX/DATA_NIFTI/DataMerged/25/RawVolume/25_Shape_study_constant_40.0.nii.gz']\n",
      "['/mnt/data/ffrouin/NEOTEX/DATA_NIFTI/DataMerged/25/RoiVolume/Bounding_box_40.0.nii.gz']\n"
     ]
    },
    {
     "name": "stderr",
     "output_type": "stream",
     "text": [
      "GLCM is symmetrical, therefore Sum Average = 2 * Joint Average, only 1 needs to be calculated\n"
     ]
    },
    {
     "name": "stdout",
     "output_type": "stream",
     "text": [
      "/mnt/data/ffrouin/NEOTEX/DATA_NIFTI/DataMerged/15/\n",
      "['/mnt/data/ffrouin/NEOTEX/DATA_NIFTI/DataMerged/15/RawVolume/15_Shape_study_constant_40.0.nii.gz']\n",
      "['/mnt/data/ffrouin/NEOTEX/DATA_NIFTI/DataMerged/15/RoiVolume/Bounding_box_40.0.nii.gz']\n"
     ]
    },
    {
     "name": "stderr",
     "output_type": "stream",
     "text": [
      "GLCM is symmetrical, therefore Sum Average = 2 * Joint Average, only 1 needs to be calculated\n"
     ]
    },
    {
     "name": "stdout",
     "output_type": "stream",
     "text": [
      "/mnt/data/ffrouin/NEOTEX/DATA_NIFTI/DataMerged/43/\n",
      "['/mnt/data/ffrouin/NEOTEX/DATA_NIFTI/DataMerged/43/RawVolume/43_Shape_study_constant_40.0.nii.gz']\n",
      "['/mnt/data/ffrouin/NEOTEX/DATA_NIFTI/DataMerged/43/RoiVolume/Bounding_box_40.0.nii.gz']\n"
     ]
    },
    {
     "name": "stderr",
     "output_type": "stream",
     "text": [
      "GLCM is symmetrical, therefore Sum Average = 2 * Joint Average, only 1 needs to be calculated\n"
     ]
    },
    {
     "name": "stdout",
     "output_type": "stream",
     "text": [
      "/mnt/data/ffrouin/NEOTEX/DATA_NIFTI/DataMerged/55/\n",
      "['/mnt/data/ffrouin/NEOTEX/DATA_NIFTI/DataMerged/55/RawVolume/55_Shape_study_constant_40.0.nii.gz']\n",
      "['/mnt/data/ffrouin/NEOTEX/DATA_NIFTI/DataMerged/55/RoiVolume/Bounding_box_40.0.nii.gz']\n"
     ]
    },
    {
     "name": "stderr",
     "output_type": "stream",
     "text": [
      "GLCM is symmetrical, therefore Sum Average = 2 * Joint Average, only 1 needs to be calculated\n"
     ]
    },
    {
     "name": "stdout",
     "output_type": "stream",
     "text": [
      "/mnt/data/ffrouin/NEOTEX/DATA_NIFTI/DataMerged/71/\n",
      "['/mnt/data/ffrouin/NEOTEX/DATA_NIFTI/DataMerged/71/RawVolume/71_Shape_study_constant_40.0.nii.gz']\n",
      "['/mnt/data/ffrouin/NEOTEX/DATA_NIFTI/DataMerged/71/RoiVolume/Bounding_box_40.0.nii.gz']\n"
     ]
    },
    {
     "name": "stderr",
     "output_type": "stream",
     "text": [
      "GLCM is symmetrical, therefore Sum Average = 2 * Joint Average, only 1 needs to be calculated\n"
     ]
    },
    {
     "name": "stdout",
     "output_type": "stream",
     "text": [
      "/mnt/data/ffrouin/NEOTEX/DATA_NIFTI/DataMerged/60/\n",
      "['/mnt/data/ffrouin/NEOTEX/DATA_NIFTI/DataMerged/60/RawVolume/60_Shape_study_constant_40.0.nii.gz']\n",
      "['/mnt/data/ffrouin/NEOTEX/DATA_NIFTI/DataMerged/60/RoiVolume/Bounding_box_40.0.nii.gz']\n"
     ]
    },
    {
     "name": "stderr",
     "output_type": "stream",
     "text": [
      "GLCM is symmetrical, therefore Sum Average = 2 * Joint Average, only 1 needs to be calculated\n"
     ]
    },
    {
     "name": "stdout",
     "output_type": "stream",
     "text": [
      "/mnt/data/ffrouin/NEOTEX/DATA_NIFTI/DataMerged/49/\n",
      "['/mnt/data/ffrouin/NEOTEX/DATA_NIFTI/DataMerged/49/RawVolume/49_Shape_study_constant_40.0.nii.gz']\n",
      "['/mnt/data/ffrouin/NEOTEX/DATA_NIFTI/DataMerged/49/RoiVolume/Bounding_box_40.0.nii.gz']\n"
     ]
    },
    {
     "name": "stderr",
     "output_type": "stream",
     "text": [
      "GLCM is symmetrical, therefore Sum Average = 2 * Joint Average, only 1 needs to be calculated\n"
     ]
    },
    {
     "name": "stdout",
     "output_type": "stream",
     "text": [
      "/mnt/data/ffrouin/NEOTEX/DATA_NIFTI/DataMerged/41/\n",
      "['/mnt/data/ffrouin/NEOTEX/DATA_NIFTI/DataMerged/41/RawVolume/41_Shape_study_constant_40.0.nii.gz']\n",
      "['/mnt/data/ffrouin/NEOTEX/DATA_NIFTI/DataMerged/41/RoiVolume/Bounding_box_40.0.nii.gz']\n"
     ]
    },
    {
     "name": "stderr",
     "output_type": "stream",
     "text": [
      "GLCM is symmetrical, therefore Sum Average = 2 * Joint Average, only 1 needs to be calculated\n"
     ]
    },
    {
     "name": "stdout",
     "output_type": "stream",
     "text": [
      "/mnt/data/ffrouin/NEOTEX/DATA_NIFTI/DataMerged/72/\n",
      "['/mnt/data/ffrouin/NEOTEX/DATA_NIFTI/DataMerged/72/RawVolume/72_Shape_study_constant_40.0.nii.gz']\n",
      "['/mnt/data/ffrouin/NEOTEX/DATA_NIFTI/DataMerged/72/RoiVolume/Bounding_box_40.0.nii.gz']\n"
     ]
    },
    {
     "name": "stderr",
     "output_type": "stream",
     "text": [
      "GLCM is symmetrical, therefore Sum Average = 2 * Joint Average, only 1 needs to be calculated\n"
     ]
    },
    {
     "name": "stdout",
     "output_type": "stream",
     "text": [
      "/mnt/data/ffrouin/NEOTEX/DATA_NIFTI/DataMerged/84/\n",
      "['/mnt/data/ffrouin/NEOTEX/DATA_NIFTI/DataMerged/84/RawVolume/84_Shape_study_constant_40.0.nii.gz']\n",
      "['/mnt/data/ffrouin/NEOTEX/DATA_NIFTI/DataMerged/84/RoiVolume/Bounding_box_40.0.nii.gz']\n"
     ]
    },
    {
     "name": "stderr",
     "output_type": "stream",
     "text": [
      "GLCM is symmetrical, therefore Sum Average = 2 * Joint Average, only 1 needs to be calculated\n"
     ]
    },
    {
     "name": "stdout",
     "output_type": "stream",
     "text": [
      "/mnt/data/ffrouin/NEOTEX/DATA_NIFTI/DataMerged/37/\n",
      "['/mnt/data/ffrouin/NEOTEX/DATA_NIFTI/DataMerged/37/RawVolume/37_Shape_study_constant_40.0.nii.gz']\n",
      "['/mnt/data/ffrouin/NEOTEX/DATA_NIFTI/DataMerged/37/RoiVolume/Bounding_box_40.0.nii.gz']\n"
     ]
    },
    {
     "name": "stderr",
     "output_type": "stream",
     "text": [
      "GLCM is symmetrical, therefore Sum Average = 2 * Joint Average, only 1 needs to be calculated\n"
     ]
    },
    {
     "name": "stdout",
     "output_type": "stream",
     "text": [
      "/mnt/data/ffrouin/NEOTEX/DATA_NIFTI/DataMerged/31/\n",
      "['/mnt/data/ffrouin/NEOTEX/DATA_NIFTI/DataMerged/31/RawVolume/31_Shape_study_constant_40.0.nii.gz']\n",
      "['/mnt/data/ffrouin/NEOTEX/DATA_NIFTI/DataMerged/31/RoiVolume/Bounding_box_40.0.nii.gz']\n"
     ]
    },
    {
     "name": "stderr",
     "output_type": "stream",
     "text": [
      "GLCM is symmetrical, therefore Sum Average = 2 * Joint Average, only 1 needs to be calculated\n"
     ]
    },
    {
     "name": "stdout",
     "output_type": "stream",
     "text": [
      "/mnt/data/ffrouin/NEOTEX/DATA_NIFTI/DataMerged/12/\n",
      "['/mnt/data/ffrouin/NEOTEX/DATA_NIFTI/DataMerged/12/RawVolume/12_Shape_study_constant_40.0.nii.gz']\n",
      "['/mnt/data/ffrouin/NEOTEX/DATA_NIFTI/DataMerged/12/RoiVolume/Bounding_box_40.0.nii.gz']\n"
     ]
    },
    {
     "name": "stderr",
     "output_type": "stream",
     "text": [
      "GLCM is symmetrical, therefore Sum Average = 2 * Joint Average, only 1 needs to be calculated\n"
     ]
    },
    {
     "name": "stdout",
     "output_type": "stream",
     "text": [
      "/mnt/data/ffrouin/NEOTEX/DATA_NIFTI/DataMerged/40/\n",
      "['/mnt/data/ffrouin/NEOTEX/DATA_NIFTI/DataMerged/40/RawVolume/40_Shape_study_constant_40.0.nii.gz']\n",
      "['/mnt/data/ffrouin/NEOTEX/DATA_NIFTI/DataMerged/40/RoiVolume/Bounding_box_40.0.nii.gz']\n"
     ]
    },
    {
     "name": "stderr",
     "output_type": "stream",
     "text": [
      "GLCM is symmetrical, therefore Sum Average = 2 * Joint Average, only 1 needs to be calculated\n"
     ]
    },
    {
     "name": "stdout",
     "output_type": "stream",
     "text": [
      "/mnt/data/ffrouin/NEOTEX/DATA_NIFTI/DataMerged/83/\n",
      "['/mnt/data/ffrouin/NEOTEX/DATA_NIFTI/DataMerged/83/RawVolume/83_Shape_study_constant_40.0.nii.gz']\n",
      "['/mnt/data/ffrouin/NEOTEX/DATA_NIFTI/DataMerged/83/RoiVolume/Bounding_box_40.0.nii.gz']\n"
     ]
    },
    {
     "name": "stderr",
     "output_type": "stream",
     "text": [
      "GLCM is symmetrical, therefore Sum Average = 2 * Joint Average, only 1 needs to be calculated\n"
     ]
    },
    {
     "name": "stdout",
     "output_type": "stream",
     "text": [
      "/mnt/data/ffrouin/NEOTEX/DATA_NIFTI/DataMerged/76/\n",
      "['/mnt/data/ffrouin/NEOTEX/DATA_NIFTI/DataMerged/76/RawVolume/76_Shape_study_constant_40.0.nii.gz']\n",
      "['/mnt/data/ffrouin/NEOTEX/DATA_NIFTI/DataMerged/76/RoiVolume/Bounding_box_40.0.nii.gz']\n"
     ]
    },
    {
     "name": "stderr",
     "output_type": "stream",
     "text": [
      "GLCM is symmetrical, therefore Sum Average = 2 * Joint Average, only 1 needs to be calculated\n"
     ]
    },
    {
     "name": "stdout",
     "output_type": "stream",
     "text": [
      "/mnt/data/ffrouin/NEOTEX/DATA_NIFTI/DataMerged/70/\n",
      "['/mnt/data/ffrouin/NEOTEX/DATA_NIFTI/DataMerged/70/RawVolume/70_Shape_study_constant_40.0.nii.gz']\n",
      "['/mnt/data/ffrouin/NEOTEX/DATA_NIFTI/DataMerged/70/RoiVolume/Bounding_box_40.0.nii.gz']\n"
     ]
    },
    {
     "name": "stderr",
     "output_type": "stream",
     "text": [
      "GLCM is symmetrical, therefore Sum Average = 2 * Joint Average, only 1 needs to be calculated\n"
     ]
    },
    {
     "name": "stdout",
     "output_type": "stream",
     "text": [
      "/mnt/data/ffrouin/NEOTEX/DATA_NIFTI/DataMerged/66/\n",
      "['/mnt/data/ffrouin/NEOTEX/DATA_NIFTI/DataMerged/66/RawVolume/66_Shape_study_constant_40.0.nii.gz']\n",
      "['/mnt/data/ffrouin/NEOTEX/DATA_NIFTI/DataMerged/66/RoiVolume/Bounding_box_40.0.nii.gz']\n"
     ]
    },
    {
     "name": "stderr",
     "output_type": "stream",
     "text": [
      "GLCM is symmetrical, therefore Sum Average = 2 * Joint Average, only 1 needs to be calculated\n"
     ]
    },
    {
     "name": "stdout",
     "output_type": "stream",
     "text": [
      "/mnt/data/ffrouin/NEOTEX/DATA_NIFTI/DataMerged/16/\n",
      "['/mnt/data/ffrouin/NEOTEX/DATA_NIFTI/DataMerged/16/RawVolume/16_Shape_study_constant_40.0.nii.gz']\n",
      "['/mnt/data/ffrouin/NEOTEX/DATA_NIFTI/DataMerged/16/RoiVolume/Bounding_box_40.0.nii.gz']\n"
     ]
    },
    {
     "name": "stderr",
     "output_type": "stream",
     "text": [
      "GLCM is symmetrical, therefore Sum Average = 2 * Joint Average, only 1 needs to be calculated\n"
     ]
    },
    {
     "name": "stdout",
     "output_type": "stream",
     "text": [
      "/mnt/data/ffrouin/NEOTEX/DATA_NIFTI/DataMerged/57/\n",
      "['/mnt/data/ffrouin/NEOTEX/DATA_NIFTI/DataMerged/57/RawVolume/57_Shape_study_constant_40.0.nii.gz']\n",
      "['/mnt/data/ffrouin/NEOTEX/DATA_NIFTI/DataMerged/57/RoiVolume/Bounding_box_40.0.nii.gz']\n"
     ]
    },
    {
     "name": "stderr",
     "output_type": "stream",
     "text": [
      "GLCM is symmetrical, therefore Sum Average = 2 * Joint Average, only 1 needs to be calculated\n"
     ]
    },
    {
     "name": "stdout",
     "output_type": "stream",
     "text": [
      "/mnt/data/ffrouin/NEOTEX/DATA_NIFTI/DataMerged/17/\n",
      "['/mnt/data/ffrouin/NEOTEX/DATA_NIFTI/DataMerged/17/RawVolume/17_Shape_study_constant_40.0.nii.gz']\n",
      "['/mnt/data/ffrouin/NEOTEX/DATA_NIFTI/DataMerged/17/RoiVolume/Bounding_box_40.0.nii.gz']\n"
     ]
    },
    {
     "name": "stderr",
     "output_type": "stream",
     "text": [
      "GLCM is symmetrical, therefore Sum Average = 2 * Joint Average, only 1 needs to be calculated\n"
     ]
    },
    {
     "name": "stdout",
     "output_type": "stream",
     "text": [
      "/mnt/data/ffrouin/NEOTEX/DATA_NIFTI/DataMerged/80/\n",
      "['/mnt/data/ffrouin/NEOTEX/DATA_NIFTI/DataMerged/80/RawVolume/80_Shape_study_constant_40.0.nii.gz']\n",
      "['/mnt/data/ffrouin/NEOTEX/DATA_NIFTI/DataMerged/80/RoiVolume/Bounding_box_40.0.nii.gz']\n"
     ]
    },
    {
     "name": "stderr",
     "output_type": "stream",
     "text": [
      "GLCM is symmetrical, therefore Sum Average = 2 * Joint Average, only 1 needs to be calculated\n"
     ]
    },
    {
     "name": "stdout",
     "output_type": "stream",
     "text": [
      "/mnt/data/ffrouin/NEOTEX/DATA_NIFTI/DataMerged/103/\n",
      "['/mnt/data/ffrouin/NEOTEX/DATA_NIFTI/DataMerged/103/RawVolume/103_Shape_study_constant_40.0.nii.gz']\n",
      "['/mnt/data/ffrouin/NEOTEX/DATA_NIFTI/DataMerged/103/RoiVolume/Bounding_box_40.0.nii.gz']\n"
     ]
    },
    {
     "name": "stderr",
     "output_type": "stream",
     "text": [
      "GLCM is symmetrical, therefore Sum Average = 2 * Joint Average, only 1 needs to be calculated\n"
     ]
    },
    {
     "name": "stdout",
     "output_type": "stream",
     "text": [
      "/mnt/data/ffrouin/NEOTEX/DATA_NIFTI/DataMerged/35/\n",
      "['/mnt/data/ffrouin/NEOTEX/DATA_NIFTI/DataMerged/35/RawVolume/35_Shape_study_constant_40.0.nii.gz']\n",
      "['/mnt/data/ffrouin/NEOTEX/DATA_NIFTI/DataMerged/35/RoiVolume/Bounding_box_40.0.nii.gz']\n"
     ]
    },
    {
     "name": "stderr",
     "output_type": "stream",
     "text": [
      "GLCM is symmetrical, therefore Sum Average = 2 * Joint Average, only 1 needs to be calculated\n"
     ]
    },
    {
     "name": "stdout",
     "output_type": "stream",
     "text": [
      "/mnt/data/ffrouin/NEOTEX/DATA_NIFTI/DataMerged/13/\n",
      "['/mnt/data/ffrouin/NEOTEX/DATA_NIFTI/DataMerged/13/RawVolume/13_Shape_study_constant_40.0.nii.gz']\n",
      "['/mnt/data/ffrouin/NEOTEX/DATA_NIFTI/DataMerged/13/RoiVolume/Bounding_box_40.0.nii.gz']\n"
     ]
    },
    {
     "name": "stderr",
     "output_type": "stream",
     "text": [
      "GLCM is symmetrical, therefore Sum Average = 2 * Joint Average, only 1 needs to be calculated\n"
     ]
    },
    {
     "name": "stdout",
     "output_type": "stream",
     "text": [
      "/mnt/data/ffrouin/NEOTEX/DATA_NIFTI/DataMerged/47/\n",
      "['/mnt/data/ffrouin/NEOTEX/DATA_NIFTI/DataMerged/47/RawVolume/47_Shape_study_constant_40.0.nii.gz']\n",
      "['/mnt/data/ffrouin/NEOTEX/DATA_NIFTI/DataMerged/47/RoiVolume/Bounding_box_40.0.nii.gz']\n"
     ]
    },
    {
     "name": "stderr",
     "output_type": "stream",
     "text": [
      "GLCM is symmetrical, therefore Sum Average = 2 * Joint Average, only 1 needs to be calculated\n"
     ]
    },
    {
     "name": "stdout",
     "output_type": "stream",
     "text": [
      "/mnt/data/ffrouin/NEOTEX/DATA_NIFTI/DataMerged/94/\n",
      "['/mnt/data/ffrouin/NEOTEX/DATA_NIFTI/DataMerged/94/RawVolume/94_Shape_study_constant_40.0.nii.gz']\n",
      "['/mnt/data/ffrouin/NEOTEX/DATA_NIFTI/DataMerged/94/RoiVolume/Bounding_box_40.0.nii.gz']\n"
     ]
    },
    {
     "name": "stderr",
     "output_type": "stream",
     "text": [
      "GLCM is symmetrical, therefore Sum Average = 2 * Joint Average, only 1 needs to be calculated\n"
     ]
    },
    {
     "name": "stdout",
     "output_type": "stream",
     "text": [
      "/mnt/data/ffrouin/NEOTEX/DATA_NIFTI/DataMerged/99/\n",
      "['/mnt/data/ffrouin/NEOTEX/DATA_NIFTI/DataMerged/99/RawVolume/99_Shape_study_constant_40.0.nii.gz']\n",
      "['/mnt/data/ffrouin/NEOTEX/DATA_NIFTI/DataMerged/99/RoiVolume/Bounding_box_40.0.nii.gz']\n"
     ]
    },
    {
     "name": "stderr",
     "output_type": "stream",
     "text": [
      "GLCM is symmetrical, therefore Sum Average = 2 * Joint Average, only 1 needs to be calculated\n"
     ]
    },
    {
     "name": "stdout",
     "output_type": "stream",
     "text": [
      "/mnt/data/ffrouin/NEOTEX/DATA_NIFTI/DataMerged/87/\n",
      "['/mnt/data/ffrouin/NEOTEX/DATA_NIFTI/DataMerged/87/RawVolume/87_Shape_study_constant_40.0.nii.gz']\n",
      "['/mnt/data/ffrouin/NEOTEX/DATA_NIFTI/DataMerged/87/RoiVolume/Bounding_box_40.0.nii.gz']\n"
     ]
    },
    {
     "name": "stderr",
     "output_type": "stream",
     "text": [
      "GLCM is symmetrical, therefore Sum Average = 2 * Joint Average, only 1 needs to be calculated\n"
     ]
    },
    {
     "name": "stdout",
     "output_type": "stream",
     "text": [
      "/mnt/data/ffrouin/NEOTEX/DATA_NIFTI/DataMerged/100/\n",
      "['/mnt/data/ffrouin/NEOTEX/DATA_NIFTI/DataMerged/100/RawVolume/100_Shape_study_constant_40.0.nii.gz']\n",
      "['/mnt/data/ffrouin/NEOTEX/DATA_NIFTI/DataMerged/100/RoiVolume/Bounding_box_40.0.nii.gz']\n"
     ]
    },
    {
     "name": "stderr",
     "output_type": "stream",
     "text": [
      "GLCM is symmetrical, therefore Sum Average = 2 * Joint Average, only 1 needs to be calculated\n"
     ]
    },
    {
     "name": "stdout",
     "output_type": "stream",
     "text": [
      "/mnt/data/ffrouin/NEOTEX/DATA_NIFTI/DataMerged/53/\n",
      "['/mnt/data/ffrouin/NEOTEX/DATA_NIFTI/DataMerged/53/RawVolume/53_Shape_study_constant_40.0.nii.gz']\n",
      "['/mnt/data/ffrouin/NEOTEX/DATA_NIFTI/DataMerged/53/RoiVolume/Bounding_box_40.0.nii.gz']\n"
     ]
    },
    {
     "name": "stderr",
     "output_type": "stream",
     "text": [
      "GLCM is symmetrical, therefore Sum Average = 2 * Joint Average, only 1 needs to be calculated\n"
     ]
    },
    {
     "name": "stdout",
     "output_type": "stream",
     "text": [
      "/mnt/data/ffrouin/NEOTEX/DATA_NIFTI/DataMerged/39/\n",
      "['/mnt/data/ffrouin/NEOTEX/DATA_NIFTI/DataMerged/39/RawVolume/39_Shape_study_constant_40.0.nii.gz']\n",
      "['/mnt/data/ffrouin/NEOTEX/DATA_NIFTI/DataMerged/39/RoiVolume/Bounding_box_40.0.nii.gz']\n"
     ]
    },
    {
     "name": "stderr",
     "output_type": "stream",
     "text": [
      "GLCM is symmetrical, therefore Sum Average = 2 * Joint Average, only 1 needs to be calculated\n"
     ]
    },
    {
     "name": "stdout",
     "output_type": "stream",
     "text": [
      "[]\n",
      "[]\n",
      "[]\n",
      "[]\n",
      "['/mnt/data/ffrouin/NEOTEX/DATA_NIFTI/IRM-Ville/129/RawVolume/129_Shape_study_constant_40.0.nii.gz']\n",
      "['/mnt/data/ffrouin/NEOTEX/DATA_NIFTI/IRM-Ville/129/RoiVolume/Bounding_box_40.0.nii.gz']\n",
      "/mnt/data/ffrouin/NEOTEX/DATA_NIFTI/IRM-Ville/129/\n"
     ]
    },
    {
     "name": "stderr",
     "output_type": "stream",
     "text": [
      "GLCM is symmetrical, therefore Sum Average = 2 * Joint Average, only 1 needs to be calculated\n"
     ]
    },
    {
     "name": "stdout",
     "output_type": "stream",
     "text": [
      "[]\n",
      "[]\n",
      "['/mnt/data/ffrouin/NEOTEX/DATA_NIFTI/IRM-Ville/142/RawVolume/142_Shape_study_constant_40.0.nii.gz']\n",
      "['/mnt/data/ffrouin/NEOTEX/DATA_NIFTI/IRM-Ville/142/RoiVolume/Bounding_box_40.0.nii.gz']\n",
      "/mnt/data/ffrouin/NEOTEX/DATA_NIFTI/IRM-Ville/142/\n"
     ]
    },
    {
     "name": "stderr",
     "output_type": "stream",
     "text": [
      "GLCM is symmetrical, therefore Sum Average = 2 * Joint Average, only 1 needs to be calculated\n"
     ]
    },
    {
     "name": "stdout",
     "output_type": "stream",
     "text": [
      "[]\n",
      "[]\n",
      "['/mnt/data/ffrouin/NEOTEX/DATA_NIFTI/IRM-Ville/152/RawVolume/152_Shape_study_constant_40.0.nii.gz']\n",
      "['/mnt/data/ffrouin/NEOTEX/DATA_NIFTI/IRM-Ville/152/RoiVolume/Bounding_box_40.0.nii.gz']\n",
      "/mnt/data/ffrouin/NEOTEX/DATA_NIFTI/IRM-Ville/152/\n"
     ]
    },
    {
     "name": "stderr",
     "output_type": "stream",
     "text": [
      "GLCM is symmetrical, therefore Sum Average = 2 * Joint Average, only 1 needs to be calculated\n"
     ]
    },
    {
     "name": "stdout",
     "output_type": "stream",
     "text": [
      "[]\n",
      "[]\n",
      "['/mnt/data/ffrouin/NEOTEX/DATA_NIFTI/IRM-Ville/123/RawVolume/123_Shape_study_constant_40.0.nii.gz']\n",
      "['/mnt/data/ffrouin/NEOTEX/DATA_NIFTI/IRM-Ville/123/RoiVolume/Bounding_box_40.0.nii.gz']\n",
      "/mnt/data/ffrouin/NEOTEX/DATA_NIFTI/IRM-Ville/123/\n"
     ]
    },
    {
     "name": "stderr",
     "output_type": "stream",
     "text": [
      "GLCM is symmetrical, therefore Sum Average = 2 * Joint Average, only 1 needs to be calculated\n"
     ]
    },
    {
     "name": "stdout",
     "output_type": "stream",
     "text": [
      "['/mnt/data/ffrouin/NEOTEX/DATA_NIFTI/IRM-Ville/140/RawVolume/140_Shape_study_constant_40.0.nii.gz']\n",
      "['/mnt/data/ffrouin/NEOTEX/DATA_NIFTI/IRM-Ville/140/RoiVolume/Bounding_box_40.0.nii.gz']\n",
      "/mnt/data/ffrouin/NEOTEX/DATA_NIFTI/IRM-Ville/140/\n"
     ]
    },
    {
     "name": "stderr",
     "output_type": "stream",
     "text": [
      "GLCM is symmetrical, therefore Sum Average = 2 * Joint Average, only 1 needs to be calculated\n"
     ]
    },
    {
     "name": "stdout",
     "output_type": "stream",
     "text": [
      "['/mnt/data/ffrouin/NEOTEX/DATA_NIFTI/IRM-Ville/109/RawVolume/109_Shape_study_constant_40.0.nii.gz']\n",
      "['/mnt/data/ffrouin/NEOTEX/DATA_NIFTI/IRM-Ville/109/RoiVolume/Bounding_box_40.0.nii.gz']\n",
      "/mnt/data/ffrouin/NEOTEX/DATA_NIFTI/IRM-Ville/109/\n"
     ]
    },
    {
     "name": "stderr",
     "output_type": "stream",
     "text": [
      "GLCM is symmetrical, therefore Sum Average = 2 * Joint Average, only 1 needs to be calculated\n"
     ]
    },
    {
     "name": "stdout",
     "output_type": "stream",
     "text": [
      "['/mnt/data/ffrouin/NEOTEX/DATA_NIFTI/IRM-Ville/150/RawVolume/150_Shape_study_constant_40.0.nii.gz']\n",
      "['/mnt/data/ffrouin/NEOTEX/DATA_NIFTI/IRM-Ville/150/RoiVolume/Bounding_box_40.0.nii.gz']\n",
      "/mnt/data/ffrouin/NEOTEX/DATA_NIFTI/IRM-Ville/150/\n"
     ]
    },
    {
     "name": "stderr",
     "output_type": "stream",
     "text": [
      "GLCM is symmetrical, therefore Sum Average = 2 * Joint Average, only 1 needs to be calculated\n"
     ]
    },
    {
     "name": "stdout",
     "output_type": "stream",
     "text": [
      "['/mnt/data/ffrouin/NEOTEX/DATA_NIFTI/IRM-Ville/118/RawVolume/118_Shape_study_constant_40.0.nii.gz']\n",
      "['/mnt/data/ffrouin/NEOTEX/DATA_NIFTI/IRM-Ville/118/RoiVolume/Bounding_box_40.0.nii.gz']\n",
      "/mnt/data/ffrouin/NEOTEX/DATA_NIFTI/IRM-Ville/118/\n"
     ]
    },
    {
     "name": "stderr",
     "output_type": "stream",
     "text": [
      "GLCM is symmetrical, therefore Sum Average = 2 * Joint Average, only 1 needs to be calculated\n"
     ]
    },
    {
     "name": "stdout",
     "output_type": "stream",
     "text": [
      "[]\n",
      "[]\n",
      "['/mnt/data/ffrouin/NEOTEX/DATA_NIFTI/IRM-Ville/108/RawVolume/108_Shape_study_constant_40.0.nii.gz']\n",
      "['/mnt/data/ffrouin/NEOTEX/DATA_NIFTI/IRM-Ville/108/RoiVolume/Bounding_box_40.0.nii.gz']\n",
      "/mnt/data/ffrouin/NEOTEX/DATA_NIFTI/IRM-Ville/108/\n"
     ]
    },
    {
     "name": "stderr",
     "output_type": "stream",
     "text": [
      "GLCM is symmetrical, therefore Sum Average = 2 * Joint Average, only 1 needs to be calculated\n"
     ]
    },
    {
     "name": "stdout",
     "output_type": "stream",
     "text": [
      "['/mnt/data/ffrouin/NEOTEX/DATA_NIFTI/IRM-Ville/151/RawVolume/151_Shape_study_constant_40.0.nii.gz']\n",
      "['/mnt/data/ffrouin/NEOTEX/DATA_NIFTI/IRM-Ville/151/RoiVolume/Bounding_box_40.0.nii.gz']\n",
      "/mnt/data/ffrouin/NEOTEX/DATA_NIFTI/IRM-Ville/151/\n"
     ]
    },
    {
     "name": "stderr",
     "output_type": "stream",
     "text": [
      "GLCM is symmetrical, therefore Sum Average = 2 * Joint Average, only 1 needs to be calculated\n"
     ]
    },
    {
     "name": "stdout",
     "output_type": "stream",
     "text": [
      "[]\n",
      "[]\n",
      "['/mnt/data/ffrouin/NEOTEX/DATA_NIFTI/IRM-Ville/111/RawVolume/111_Shape_study_constant_40.0.nii.gz']\n",
      "['/mnt/data/ffrouin/NEOTEX/DATA_NIFTI/IRM-Ville/111/RoiVolume/Bounding_box_40.0.nii.gz']\n",
      "/mnt/data/ffrouin/NEOTEX/DATA_NIFTI/IRM-Ville/111/\n"
     ]
    },
    {
     "name": "stderr",
     "output_type": "stream",
     "text": [
      "GLCM is symmetrical, therefore Sum Average = 2 * Joint Average, only 1 needs to be calculated\n"
     ]
    },
    {
     "name": "stdout",
     "output_type": "stream",
     "text": [
      "['/mnt/data/ffrouin/NEOTEX/DATA_NIFTI/IRM-Ville/144/RawVolume/144_Shape_study_constant_40.0.nii.gz']\n",
      "['/mnt/data/ffrouin/NEOTEX/DATA_NIFTI/IRM-Ville/144/RoiVolume/Bounding_box_40.0.nii.gz']\n",
      "/mnt/data/ffrouin/NEOTEX/DATA_NIFTI/IRM-Ville/144/\n"
     ]
    },
    {
     "name": "stderr",
     "output_type": "stream",
     "text": [
      "GLCM is symmetrical, therefore Sum Average = 2 * Joint Average, only 1 needs to be calculated\n"
     ]
    },
    {
     "name": "stdout",
     "output_type": "stream",
     "text": [
      "['/mnt/data/ffrouin/NEOTEX/DATA_NIFTI/IRM-Ville/128/RawVolume/128_Shape_study_constant_40.0.nii.gz']\n",
      "['/mnt/data/ffrouin/NEOTEX/DATA_NIFTI/IRM-Ville/128/RoiVolume/Bounding_box_40.0.nii.gz']\n",
      "/mnt/data/ffrouin/NEOTEX/DATA_NIFTI/IRM-Ville/128/\n"
     ]
    },
    {
     "name": "stderr",
     "output_type": "stream",
     "text": [
      "GLCM is symmetrical, therefore Sum Average = 2 * Joint Average, only 1 needs to be calculated\n"
     ]
    },
    {
     "name": "stdout",
     "output_type": "stream",
     "text": [
      "['/mnt/data/ffrouin/NEOTEX/DATA_NIFTI/IRM-Ville/149/RawVolume/149_Shape_study_constant_40.0.nii.gz']\n",
      "['/mnt/data/ffrouin/NEOTEX/DATA_NIFTI/IRM-Ville/149/RoiVolume/Bounding_box_40.0.nii.gz']\n",
      "/mnt/data/ffrouin/NEOTEX/DATA_NIFTI/IRM-Ville/149/\n"
     ]
    },
    {
     "name": "stderr",
     "output_type": "stream",
     "text": [
      "GLCM is symmetrical, therefore Sum Average = 2 * Joint Average, only 1 needs to be calculated\n"
     ]
    },
    {
     "name": "stdout",
     "output_type": "stream",
     "text": [
      "['/mnt/data/ffrouin/NEOTEX/DATA_NIFTI/IRM-Ville/146/RawVolume/146_Shape_study_constant_40.0.nii.gz']\n",
      "['/mnt/data/ffrouin/NEOTEX/DATA_NIFTI/IRM-Ville/146/RoiVolume/Bounding_box_40.0.nii.gz']\n",
      "/mnt/data/ffrouin/NEOTEX/DATA_NIFTI/IRM-Ville/146/\n"
     ]
    },
    {
     "name": "stderr",
     "output_type": "stream",
     "text": [
      "GLCM is symmetrical, therefore Sum Average = 2 * Joint Average, only 1 needs to be calculated\n"
     ]
    },
    {
     "name": "stdout",
     "output_type": "stream",
     "text": [
      "['/mnt/data/ffrouin/NEOTEX/DATA_NIFTI/IRM-Ville/124/RawVolume/124_Shape_study_constant_40.0.nii.gz']\n",
      "['/mnt/data/ffrouin/NEOTEX/DATA_NIFTI/IRM-Ville/124/RoiVolume/Bounding_box_40.0.nii.gz']\n",
      "/mnt/data/ffrouin/NEOTEX/DATA_NIFTI/IRM-Ville/124/\n"
     ]
    },
    {
     "name": "stderr",
     "output_type": "stream",
     "text": [
      "GLCM is symmetrical, therefore Sum Average = 2 * Joint Average, only 1 needs to be calculated\n"
     ]
    },
    {
     "name": "stdout",
     "output_type": "stream",
     "text": [
      "['/mnt/data/ffrouin/NEOTEX/DATA_NIFTI/IRM-Ville/145/RawVolume/145_Shape_study_constant_40.0.nii.gz']\n",
      "['/mnt/data/ffrouin/NEOTEX/DATA_NIFTI/IRM-Ville/145/RoiVolume/Bounding_box_40.0.nii.gz']\n",
      "/mnt/data/ffrouin/NEOTEX/DATA_NIFTI/IRM-Ville/145/\n"
     ]
    },
    {
     "name": "stderr",
     "output_type": "stream",
     "text": [
      "GLCM is symmetrical, therefore Sum Average = 2 * Joint Average, only 1 needs to be calculated\n"
     ]
    },
    {
     "name": "stdout",
     "output_type": "stream",
     "text": [
      "[]\n",
      "[]\n",
      "[]\n",
      "[]\n",
      "['/mnt/data/ffrouin/NEOTEX/DATA_NIFTI/IRM-Ville/141/RawVolume/141_Shape_study_constant_40.0.nii.gz']\n",
      "['/mnt/data/ffrouin/NEOTEX/DATA_NIFTI/IRM-Ville/141/RoiVolume/Bounding_box_40.0.nii.gz']\n",
      "/mnt/data/ffrouin/NEOTEX/DATA_NIFTI/IRM-Ville/141/\n"
     ]
    },
    {
     "name": "stderr",
     "output_type": "stream",
     "text": [
      "GLCM is symmetrical, therefore Sum Average = 2 * Joint Average, only 1 needs to be calculated\n"
     ]
    },
    {
     "name": "stdout",
     "output_type": "stream",
     "text": [
      "['/mnt/data/ffrouin/NEOTEX/DATA_NIFTI/IRM-Ville/130/RawVolume/130_Shape_study_constant_40.0.nii.gz']\n",
      "['/mnt/data/ffrouin/NEOTEX/DATA_NIFTI/IRM-Ville/130/RoiVolume/Bounding_box_40.0.nii.gz']\n",
      "/mnt/data/ffrouin/NEOTEX/DATA_NIFTI/IRM-Ville/130/\n"
     ]
    },
    {
     "name": "stderr",
     "output_type": "stream",
     "text": [
      "GLCM is symmetrical, therefore Sum Average = 2 * Joint Average, only 1 needs to be calculated\n"
     ]
    },
    {
     "name": "stdout",
     "output_type": "stream",
     "text": [
      "[]\n",
      "[]\n",
      "['/mnt/data/ffrouin/NEOTEX/DATA_NIFTI/IRM-Ville/147/RawVolume/147_Shape_study_constant_40.0.nii.gz']\n",
      "['/mnt/data/ffrouin/NEOTEX/DATA_NIFTI/IRM-Ville/147/RoiVolume/Bounding_box_40.0.nii.gz']\n",
      "/mnt/data/ffrouin/NEOTEX/DATA_NIFTI/IRM-Ville/147/\n"
     ]
    },
    {
     "name": "stderr",
     "output_type": "stream",
     "text": [
      "GLCM is symmetrical, therefore Sum Average = 2 * Joint Average, only 1 needs to be calculated\n"
     ]
    },
    {
     "name": "stdout",
     "output_type": "stream",
     "text": [
      "['/mnt/data/ffrouin/NEOTEX/DATA_NIFTI/IRM-Ville/143/RawVolume/143_Shape_study_constant_40.0.nii.gz']\n",
      "['/mnt/data/ffrouin/NEOTEX/DATA_NIFTI/IRM-Ville/143/RoiVolume/Bounding_box_40.0.nii.gz']\n",
      "/mnt/data/ffrouin/NEOTEX/DATA_NIFTI/IRM-Ville/143/\n"
     ]
    },
    {
     "name": "stderr",
     "output_type": "stream",
     "text": [
      "GLCM is symmetrical, therefore Sum Average = 2 * Joint Average, only 1 needs to be calculated\n"
     ]
    },
    {
     "name": "stdout",
     "output_type": "stream",
     "text": [
      "['/mnt/data/ffrouin/NEOTEX/DATA_NIFTI/IRM-Ville/127/RawVolume/127_Shape_study_constant_40.0.nii.gz']\n",
      "['/mnt/data/ffrouin/NEOTEX/DATA_NIFTI/IRM-Ville/127/RoiVolume/Bounding_box_40.0.nii.gz']\n",
      "/mnt/data/ffrouin/NEOTEX/DATA_NIFTI/IRM-Ville/127/\n"
     ]
    },
    {
     "name": "stderr",
     "output_type": "stream",
     "text": [
      "GLCM is symmetrical, therefore Sum Average = 2 * Joint Average, only 1 needs to be calculated\n"
     ]
    },
    {
     "name": "stdout",
     "output_type": "stream",
     "text": [
      "['/mnt/data/ffrouin/NEOTEX/DATA_NIFTI/IRM-Ville/110/RawVolume/110_Shape_study_constant_40.0.nii.gz']\n",
      "['/mnt/data/ffrouin/NEOTEX/DATA_NIFTI/IRM-Ville/110/RoiVolume/Bounding_box_40.0.nii.gz']\n",
      "/mnt/data/ffrouin/NEOTEX/DATA_NIFTI/IRM-Ville/110/\n"
     ]
    },
    {
     "name": "stderr",
     "output_type": "stream",
     "text": [
      "GLCM is symmetrical, therefore Sum Average = 2 * Joint Average, only 1 needs to be calculated\n"
     ]
    },
    {
     "name": "stdout",
     "output_type": "stream",
     "text": [
      "[]\n",
      "[]\n",
      "['/mnt/data/ffrouin/NEOTEX/DATA_NIFTI/IRM-Ville/148/RawVolume/148_Shape_study_constant_40.0.nii.gz']\n",
      "['/mnt/data/ffrouin/NEOTEX/DATA_NIFTI/IRM-Ville/148/RoiVolume/Bounding_box_40.0.nii.gz']\n",
      "/mnt/data/ffrouin/NEOTEX/DATA_NIFTI/IRM-Ville/148/\n"
     ]
    },
    {
     "name": "stderr",
     "output_type": "stream",
     "text": [
      "GLCM is symmetrical, therefore Sum Average = 2 * Joint Average, only 1 needs to be calculated\n"
     ]
    },
    {
     "name": "stdout",
     "output_type": "stream",
     "text": [
      "['/mnt/data/ffrouin/NEOTEX/DATA_NIFTI/IRM-Ville/113/RawVolume/113_Shape_study_constant_40.0.nii.gz']\n",
      "['/mnt/data/ffrouin/NEOTEX/DATA_NIFTI/IRM-Ville/113/RoiVolume/Bounding_box_40.0.nii.gz']\n",
      "/mnt/data/ffrouin/NEOTEX/DATA_NIFTI/IRM-Ville/113/\n"
     ]
    },
    {
     "name": "stderr",
     "output_type": "stream",
     "text": [
      "GLCM is symmetrical, therefore Sum Average = 2 * Joint Average, only 1 needs to be calculated\n"
     ]
    },
    {
     "name": "stdout",
     "output_type": "stream",
     "text": [
      "['/mnt/data/ffrouin/NEOTEX/DATA_NIFTI/IRM-Ville/137/RawVolume/137_Shape_study_constant_40.0.nii.gz']\n",
      "['/mnt/data/ffrouin/NEOTEX/DATA_NIFTI/IRM-Ville/137/RoiVolume/Bounding_box_40.0.nii.gz']\n",
      "/mnt/data/ffrouin/NEOTEX/DATA_NIFTI/IRM-Ville/137/\n"
     ]
    },
    {
     "name": "stderr",
     "output_type": "stream",
     "text": [
      "GLCM is symmetrical, therefore Sum Average = 2 * Joint Average, only 1 needs to be calculated\n"
     ]
    },
    {
     "name": "stdout",
     "output_type": "stream",
     "text": [
      "['/mnt/data/ffrouin/NEOTEX/DATA_NIFTI/IRM-Ville/125/RawVolume/125_Shape_study_constant_40.0.nii.gz']\n",
      "['/mnt/data/ffrouin/NEOTEX/DATA_NIFTI/IRM-Ville/125/RoiVolume/Bounding_box_40.0.nii.gz']\n",
      "/mnt/data/ffrouin/NEOTEX/DATA_NIFTI/IRM-Ville/125/\n"
     ]
    },
    {
     "name": "stderr",
     "output_type": "stream",
     "text": [
      "GLCM is symmetrical, therefore Sum Average = 2 * Joint Average, only 1 needs to be calculated\n"
     ]
    },
    {
     "name": "stdout",
     "output_type": "stream",
     "text": [
      "[]\n",
      "[]\n",
      "[]\n",
      "[]\n",
      "['/mnt/data/ffrouin/NEOTEX/DATA_NIFTI/IRM-Ville/106/RawVolume/106_Shape_study_constant_40.0.nii.gz']\n",
      "['/mnt/data/ffrouin/NEOTEX/DATA_NIFTI/IRM-Ville/106/RoiVolume/Bounding_box_40.0.nii.gz']\n",
      "/mnt/data/ffrouin/NEOTEX/DATA_NIFTI/IRM-Ville/106/\n"
     ]
    },
    {
     "name": "stderr",
     "output_type": "stream",
     "text": [
      "GLCM is symmetrical, therefore Sum Average = 2 * Joint Average, only 1 needs to be calculated\n"
     ]
    },
    {
     "name": "stdout",
     "output_type": "stream",
     "text": [
      "['/mnt/data/ffrouin/NEOTEX/DATA_NIFTI/IRM-Ville/107/RawVolume/107_Shape_study_constant_40.0.nii.gz']\n",
      "['/mnt/data/ffrouin/NEOTEX/DATA_NIFTI/IRM-Ville/107/RoiVolume/Bounding_box_40.0.nii.gz']\n",
      "/mnt/data/ffrouin/NEOTEX/DATA_NIFTI/IRM-Ville/107/\n"
     ]
    },
    {
     "name": "stderr",
     "output_type": "stream",
     "text": [
      "GLCM is symmetrical, therefore Sum Average = 2 * Joint Average, only 1 needs to be calculated\n"
     ]
    },
    {
     "name": "stdout",
     "output_type": "stream",
     "text": [
      "['/mnt/data/ffrouin/NEOTEX/DATA_NIFTI/IRM-Ville/112/RawVolume/112_Shape_study_constant_40.0.nii.gz']\n",
      "['/mnt/data/ffrouin/NEOTEX/DATA_NIFTI/IRM-Ville/112/RoiVolume/Bounding_box_40.0.nii.gz']\n",
      "/mnt/data/ffrouin/NEOTEX/DATA_NIFTI/IRM-Ville/112/\n"
     ]
    },
    {
     "name": "stderr",
     "output_type": "stream",
     "text": [
      "GLCM is symmetrical, therefore Sum Average = 2 * Joint Average, only 1 needs to be calculated\n"
     ]
    },
    {
     "name": "stdout",
     "output_type": "stream",
     "text": [
      "[]\n",
      "[]\n",
      "['/mnt/data/ffrouin/NEOTEX/DATA_NIFTI/IRM-Ville/114/RawVolume/114_Shape_study_constant_40.0.nii.gz']\n",
      "['/mnt/data/ffrouin/NEOTEX/DATA_NIFTI/IRM-Ville/114/RoiVolume/Bounding_box_40.0.nii.gz']\n",
      "/mnt/data/ffrouin/NEOTEX/DATA_NIFTI/IRM-Ville/114/\n"
     ]
    },
    {
     "name": "stderr",
     "output_type": "stream",
     "text": [
      "GLCM is symmetrical, therefore Sum Average = 2 * Joint Average, only 1 needs to be calculated\n"
     ]
    },
    {
     "name": "stdout",
     "output_type": "stream",
     "text": [
      "['/mnt/data/ffrouin/NEOTEX/DATA_NIFTI/IRM-Ville/121/RawVolume/121_Shape_study_constant_40.0.nii.gz']\n",
      "['/mnt/data/ffrouin/NEOTEX/DATA_NIFTI/IRM-Ville/121/RoiVolume/Bounding_box_40.0.nii.gz']\n",
      "/mnt/data/ffrouin/NEOTEX/DATA_NIFTI/IRM-Ville/121/\n"
     ]
    },
    {
     "name": "stderr",
     "output_type": "stream",
     "text": [
      "GLCM is symmetrical, therefore Sum Average = 2 * Joint Average, only 1 needs to be calculated\n"
     ]
    },
    {
     "name": "stdout",
     "output_type": "stream",
     "text": [
      "['/mnt/data/ffrouin/NEOTEX/DATA_NIFTI/IRM-Ville/139/RawVolume/139_Shape_study_constant_40.0.nii.gz']\n",
      "['/mnt/data/ffrouin/NEOTEX/DATA_NIFTI/IRM-Ville/139/RoiVolume/Bounding_box_40.0.nii.gz']\n",
      "/mnt/data/ffrouin/NEOTEX/DATA_NIFTI/IRM-Ville/139/\n"
     ]
    },
    {
     "name": "stderr",
     "output_type": "stream",
     "text": [
      "GLCM is symmetrical, therefore Sum Average = 2 * Joint Average, only 1 needs to be calculated\n"
     ]
    },
    {
     "name": "stdout",
     "output_type": "stream",
     "text": [
      "[]\n",
      "[]\n",
      "['/mnt/data/ffrouin/NEOTEX/DATA_NIFTI/IRM-Ville/11/RawVolume/11_Shape_study_constant_40.0.nii.gz']\n",
      "['/mnt/data/ffrouin/NEOTEX/DATA_NIFTI/IRM-Ville/11/RoiVolume/Bounding_box_40.0.nii.gz']\n",
      "/mnt/data/ffrouin/NEOTEX/DATA_NIFTI/IRM-Ville/11/\n"
     ]
    },
    {
     "name": "stderr",
     "output_type": "stream",
     "text": [
      "GLCM is symmetrical, therefore Sum Average = 2 * Joint Average, only 1 needs to be calculated\n"
     ]
    },
    {
     "name": "stdout",
     "output_type": "stream",
     "text": [
      "['/mnt/data/ffrouin/NEOTEX/DATA_NIFTI/IRM-Ville/126/RawVolume/126_Shape_study_constant_40.0.nii.gz']\n",
      "['/mnt/data/ffrouin/NEOTEX/DATA_NIFTI/IRM-Ville/126/RoiVolume/Bounding_box_40.0.nii.gz']\n",
      "/mnt/data/ffrouin/NEOTEX/DATA_NIFTI/IRM-Ville/126/\n"
     ]
    },
    {
     "name": "stderr",
     "output_type": "stream",
     "text": [
      "GLCM is symmetrical, therefore Sum Average = 2 * Joint Average, only 1 needs to be calculated\n"
     ]
    }
   ],
   "source": [
    "radiomics = {}\n",
    "for case in ids:\n",
    "        num = case.split('/')[-2]\n",
    "        print(case)\n",
    "        bin_mask = glob.glob(case + 'RawVolume/*Shape_study_constant.nii.gz')\n",
    "        bb = glob.glob(case + 'RoiVolume/Bounding_box.nii.gz')\n",
    "\n",
    "        bin_mask_40 = glob.glob(case + 'RawVolume/*Shape_study_constant_40*.nii.gz')\n",
    "        bb_40 = glob.glob(case + 'RoiVolume/Bounding_box_40*.nii.gz')\n",
    "\n",
    "        print(bin_mask_40)\n",
    "        print(bb_40)\n",
    "\n",
    "        features_40 = featureextractor.RadiomicsFeatureExtractor()\n",
    "        results_40 = features_40.execute(bin_mask_40[0], bb_40[0])\n",
    "        radiomics.update({num: results_40})\n",
    "        \n",
    "for case in ids_ville:\n",
    "        num = case.split('/')[-2]\n",
    "        bin_mask = glob.glob(case + 'RawVolume/*Shape_study_constant.nii.gz')\n",
    "        bb = glob.glob(case + 'RoiVolume/Bounding_box.nii.gz')\n",
    "\n",
    "        bin_mask_40 = glob.glob(case + 'RawVolume/*Shape_study_constant_40*.nii.gz')\n",
    "        bb_40 = glob.glob(case + 'RoiVolume/Bounding_box_40*.nii.gz')\n",
    "\n",
    "        print(bin_mask_40)\n",
    "        print(bb_40)\n",
    "\n",
    "        if bin_mask != [] or bb != []:\n",
    "                print(case)\n",
    "                features_40 = featureextractor.RadiomicsFeatureExtractor()\n",
    "                results_40 = features_40.execute(bin_mask_40[0], bb_40[0])\n",
    "                radiomics.update({num: results_40})"
   ]
  },
  {
   "cell_type": "code",
   "execution_count": 6,
   "metadata": {},
   "outputs": [],
   "source": [
    "empty_keys = [k for k, v in radiomics.items() if v == []]"
   ]
  },
  {
   "cell_type": "code",
   "execution_count": 7,
   "metadata": {},
   "outputs": [],
   "source": [
    "df = pd.DataFrame.from_dict(radiomics)"
   ]
  },
  {
   "cell_type": "code",
   "execution_count": 8,
   "metadata": {},
   "outputs": [
    {
     "data": {
      "text/html": [
       "<div>\n",
       "<style scoped>\n",
       "    .dataframe tbody tr th:only-of-type {\n",
       "        vertical-align: middle;\n",
       "    }\n",
       "\n",
       "    .dataframe tbody tr th {\n",
       "        vertical-align: top;\n",
       "    }\n",
       "\n",
       "    .dataframe thead th {\n",
       "        text-align: right;\n",
       "    }\n",
       "</style>\n",
       "<table border=\"1\" class=\"dataframe\">\n",
       "  <thead>\n",
       "    <tr style=\"text-align: right;\">\n",
       "      <th></th>\n",
       "      <th>diagnostics_Versions_PyRadiomics</th>\n",
       "      <th>diagnostics_Versions_Numpy</th>\n",
       "      <th>diagnostics_Versions_SimpleITK</th>\n",
       "      <th>diagnostics_Versions_PyWavelet</th>\n",
       "      <th>diagnostics_Versions_Python</th>\n",
       "      <th>diagnostics_Configuration_Settings</th>\n",
       "      <th>diagnostics_Configuration_EnabledImageTypes</th>\n",
       "      <th>diagnostics_Image-original_Hash</th>\n",
       "      <th>diagnostics_Image-original_Dimensionality</th>\n",
       "      <th>diagnostics_Image-original_Spacing</th>\n",
       "      <th>...</th>\n",
       "      <th>original_glszm_SmallAreaHighGrayLevelEmphasis</th>\n",
       "      <th>original_glszm_SmallAreaLowGrayLevelEmphasis</th>\n",
       "      <th>original_glszm_ZoneEntropy</th>\n",
       "      <th>original_glszm_ZonePercentage</th>\n",
       "      <th>original_glszm_ZoneVariance</th>\n",
       "      <th>original_ngtdm_Busyness</th>\n",
       "      <th>original_ngtdm_Coarseness</th>\n",
       "      <th>original_ngtdm_Complexity</th>\n",
       "      <th>original_ngtdm_Contrast</th>\n",
       "      <th>original_ngtdm_Strength</th>\n",
       "    </tr>\n",
       "  </thead>\n",
       "  <tbody>\n",
       "    <tr>\n",
       "      <th>7</th>\n",
       "      <td>v3.1.0</td>\n",
       "      <td>1.24.4</td>\n",
       "      <td>2.3.0</td>\n",
       "      <td>1.3.0</td>\n",
       "      <td>3.8.10</td>\n",
       "      <td>{'minimumROIDimensions': 2, 'minimumROISize': ...</td>\n",
       "      <td>{'Original': {}}</td>\n",
       "      <td>fb4a81fdb3992ad84c30a8b375698703865cedca</td>\n",
       "      <td>3D</td>\n",
       "      <td>(1.0, 1.0, 1.0)</td>\n",
       "      <td>...</td>\n",
       "      <td>2.3962656595960855e-08</td>\n",
       "      <td>2.3962656595960855e-08</td>\n",
       "      <td>-3.203426503814917e-16</td>\n",
       "      <td>0.00015479876160990713</td>\n",
       "      <td>0.0</td>\n",
       "      <td>0.0</td>\n",
       "      <td>1000000.0</td>\n",
       "      <td>0.0</td>\n",
       "      <td>0.0</td>\n",
       "      <td>0.0</td>\n",
       "    </tr>\n",
       "    <tr>\n",
       "      <th>6</th>\n",
       "      <td>v3.1.0</td>\n",
       "      <td>1.24.4</td>\n",
       "      <td>2.3.0</td>\n",
       "      <td>1.3.0</td>\n",
       "      <td>3.8.10</td>\n",
       "      <td>{'minimumROIDimensions': 2, 'minimumROISize': ...</td>\n",
       "      <td>{'Original': {}}</td>\n",
       "      <td>9f5caa4b6c371e2481499536a42293ea38566e01</td>\n",
       "      <td>3D</td>\n",
       "      <td>(1.0, 1.0, 1.0)</td>\n",
       "      <td>...</td>\n",
       "      <td>3.689175239719656e-09</td>\n",
       "      <td>3.689175239719656e-09</td>\n",
       "      <td>-3.203426503814917e-16</td>\n",
       "      <td>6.073858114674441e-05</td>\n",
       "      <td>0.0</td>\n",
       "      <td>0.0</td>\n",
       "      <td>1000000.0</td>\n",
       "      <td>0.0</td>\n",
       "      <td>0.0</td>\n",
       "      <td>0.0</td>\n",
       "    </tr>\n",
       "    <tr>\n",
       "      <th>82</th>\n",
       "      <td>v3.1.0</td>\n",
       "      <td>1.24.4</td>\n",
       "      <td>2.3.0</td>\n",
       "      <td>1.3.0</td>\n",
       "      <td>3.8.10</td>\n",
       "      <td>{'minimumROIDimensions': 2, 'minimumROISize': ...</td>\n",
       "      <td>{'Original': {}}</td>\n",
       "      <td>c1074b61b54bb1dbf078ef1f4cbed12eb9171021</td>\n",
       "      <td>3D</td>\n",
       "      <td>(1.0, 1.0, 1.0)</td>\n",
       "      <td>...</td>\n",
       "      <td>1.5018262206843523e-08</td>\n",
       "      <td>1.5018262206843523e-08</td>\n",
       "      <td>-3.203426503814917e-16</td>\n",
       "      <td>0.00012254901960784314</td>\n",
       "      <td>0.0</td>\n",
       "      <td>0.0</td>\n",
       "      <td>1000000.0</td>\n",
       "      <td>0.0</td>\n",
       "      <td>0.0</td>\n",
       "      <td>0.0</td>\n",
       "    </tr>\n",
       "    <tr>\n",
       "      <th>105</th>\n",
       "      <td>v3.1.0</td>\n",
       "      <td>1.24.4</td>\n",
       "      <td>2.3.0</td>\n",
       "      <td>1.3.0</td>\n",
       "      <td>3.8.10</td>\n",
       "      <td>{'minimumROIDimensions': 2, 'minimumROISize': ...</td>\n",
       "      <td>{'Original': {}}</td>\n",
       "      <td>010594e39186a59c22edbdc466ce3490712a382f</td>\n",
       "      <td>3D</td>\n",
       "      <td>(1.0, 1.0, 1.0)</td>\n",
       "      <td>...</td>\n",
       "      <td>7.372991462937051e-10</td>\n",
       "      <td>7.372991462937051e-10</td>\n",
       "      <td>-3.203426503814917e-16</td>\n",
       "      <td>2.7153252959704574e-05</td>\n",
       "      <td>0.0</td>\n",
       "      <td>0.0</td>\n",
       "      <td>1000000.0</td>\n",
       "      <td>0.0</td>\n",
       "      <td>0.0</td>\n",
       "      <td>0.0</td>\n",
       "    </tr>\n",
       "    <tr>\n",
       "      <th>22</th>\n",
       "      <td>v3.1.0</td>\n",
       "      <td>1.24.4</td>\n",
       "      <td>2.3.0</td>\n",
       "      <td>1.3.0</td>\n",
       "      <td>3.8.10</td>\n",
       "      <td>{'minimumROIDimensions': 2, 'minimumROISize': ...</td>\n",
       "      <td>{'Original': {}}</td>\n",
       "      <td>3f97719a461adbeb675972120c286c5c14f8ccb0</td>\n",
       "      <td>3D</td>\n",
       "      <td>(1.0, 1.0, 1.0)</td>\n",
       "      <td>...</td>\n",
       "      <td>3.439136014197634e-11</td>\n",
       "      <td>3.439136014197634e-11</td>\n",
       "      <td>-3.203426503814917e-16</td>\n",
       "      <td>5.864414731409805e-06</td>\n",
       "      <td>0.0</td>\n",
       "      <td>0.0</td>\n",
       "      <td>1000000.0</td>\n",
       "      <td>0.0</td>\n",
       "      <td>0.0</td>\n",
       "      <td>0.0</td>\n",
       "    </tr>\n",
       "    <tr>\n",
       "      <th>...</th>\n",
       "      <td>...</td>\n",
       "      <td>...</td>\n",
       "      <td>...</td>\n",
       "      <td>...</td>\n",
       "      <td>...</td>\n",
       "      <td>...</td>\n",
       "      <td>...</td>\n",
       "      <td>...</td>\n",
       "      <td>...</td>\n",
       "      <td>...</td>\n",
       "      <td>...</td>\n",
       "      <td>...</td>\n",
       "      <td>...</td>\n",
       "      <td>...</td>\n",
       "      <td>...</td>\n",
       "      <td>...</td>\n",
       "      <td>...</td>\n",
       "      <td>...</td>\n",
       "      <td>...</td>\n",
       "      <td>...</td>\n",
       "      <td>...</td>\n",
       "    </tr>\n",
       "    <tr>\n",
       "      <th>114</th>\n",
       "      <td>v3.1.0</td>\n",
       "      <td>1.24.4</td>\n",
       "      <td>2.3.0</td>\n",
       "      <td>1.3.0</td>\n",
       "      <td>3.8.10</td>\n",
       "      <td>{'minimumROIDimensions': 2, 'minimumROISize': ...</td>\n",
       "      <td>{'Original': {}}</td>\n",
       "      <td>db8cccb7996ada1f93cbf5f538e71b91a99a9f2a</td>\n",
       "      <td>3D</td>\n",
       "      <td>(1.0, 1.0, 1.0)</td>\n",
       "      <td>...</td>\n",
       "      <td>4.626005847948639e-12</td>\n",
       "      <td>4.626005847948639e-12</td>\n",
       "      <td>-3.203426503814917e-16</td>\n",
       "      <td>2.1508151589452404e-06</td>\n",
       "      <td>0.0</td>\n",
       "      <td>0.0</td>\n",
       "      <td>1000000.0</td>\n",
       "      <td>0.0</td>\n",
       "      <td>0.0</td>\n",
       "      <td>0.0</td>\n",
       "    </tr>\n",
       "    <tr>\n",
       "      <th>121</th>\n",
       "      <td>v3.1.0</td>\n",
       "      <td>1.24.4</td>\n",
       "      <td>2.3.0</td>\n",
       "      <td>1.3.0</td>\n",
       "      <td>3.8.10</td>\n",
       "      <td>{'minimumROIDimensions': 2, 'minimumROISize': ...</td>\n",
       "      <td>{'Original': {}}</td>\n",
       "      <td>c9cfd3ea91e653f7e0ff7610519db445d9f4edb5</td>\n",
       "      <td>3D</td>\n",
       "      <td>(1.0, 1.0, 1.0)</td>\n",
       "      <td>...</td>\n",
       "      <td>1.1361946416131293e-09</td>\n",
       "      <td>1.1361946416131293e-09</td>\n",
       "      <td>-3.203426503814917e-16</td>\n",
       "      <td>3.370748643273671e-05</td>\n",
       "      <td>0.0</td>\n",
       "      <td>0.0</td>\n",
       "      <td>1000000.0</td>\n",
       "      <td>0.0</td>\n",
       "      <td>0.0</td>\n",
       "      <td>0.0</td>\n",
       "    </tr>\n",
       "    <tr>\n",
       "      <th>139</th>\n",
       "      <td>v3.1.0</td>\n",
       "      <td>1.24.4</td>\n",
       "      <td>2.3.0</td>\n",
       "      <td>1.3.0</td>\n",
       "      <td>3.8.10</td>\n",
       "      <td>{'minimumROIDimensions': 2, 'minimumROISize': ...</td>\n",
       "      <td>{'Original': {}}</td>\n",
       "      <td>d5647997b9ca22220d6a7cd550cb3a5e7d8da915</td>\n",
       "      <td>3D</td>\n",
       "      <td>(1.0, 1.0, 1.0)</td>\n",
       "      <td>...</td>\n",
       "      <td>2.1950700062262724e-09</td>\n",
       "      <td>2.1950700062262724e-09</td>\n",
       "      <td>-3.203426503814917e-16</td>\n",
       "      <td>4.685157421289355e-05</td>\n",
       "      <td>0.0</td>\n",
       "      <td>0.0</td>\n",
       "      <td>1000000.0</td>\n",
       "      <td>0.0</td>\n",
       "      <td>0.0</td>\n",
       "      <td>0.0</td>\n",
       "    </tr>\n",
       "    <tr>\n",
       "      <th>11</th>\n",
       "      <td>v3.1.0</td>\n",
       "      <td>1.24.4</td>\n",
       "      <td>2.3.0</td>\n",
       "      <td>1.3.0</td>\n",
       "      <td>3.8.10</td>\n",
       "      <td>{'minimumROIDimensions': 2, 'minimumROISize': ...</td>\n",
       "      <td>{'Original': {}}</td>\n",
       "      <td>520d8172188f1317ebc078f0d312c1b0f70994bb</td>\n",
       "      <td>3D</td>\n",
       "      <td>(1.0, 1.0, 1.0)</td>\n",
       "      <td>...</td>\n",
       "      <td>2.1128741237053181e-10</td>\n",
       "      <td>2.1128741237053181e-10</td>\n",
       "      <td>-3.203426503814917e-16</td>\n",
       "      <td>1.4535728821443106e-05</td>\n",
       "      <td>0.0</td>\n",
       "      <td>0.0</td>\n",
       "      <td>1000000.0</td>\n",
       "      <td>0.0</td>\n",
       "      <td>0.0</td>\n",
       "      <td>0.0</td>\n",
       "    </tr>\n",
       "    <tr>\n",
       "      <th>126</th>\n",
       "      <td>v3.1.0</td>\n",
       "      <td>1.24.4</td>\n",
       "      <td>2.3.0</td>\n",
       "      <td>1.3.0</td>\n",
       "      <td>3.8.10</td>\n",
       "      <td>{'minimumROIDimensions': 2, 'minimumROISize': ...</td>\n",
       "      <td>{'Original': {}}</td>\n",
       "      <td>25520185ee849a692be7feda43d91e4b04a1829b</td>\n",
       "      <td>3D</td>\n",
       "      <td>(1.0, 1.0, 1.0)</td>\n",
       "      <td>...</td>\n",
       "      <td>7.307761670717544e-10</td>\n",
       "      <td>7.307761670717544e-10</td>\n",
       "      <td>-3.203426503814917e-16</td>\n",
       "      <td>2.703287197231834e-05</td>\n",
       "      <td>0.0</td>\n",
       "      <td>0.0</td>\n",
       "      <td>1000000.0</td>\n",
       "      <td>0.0</td>\n",
       "      <td>0.0</td>\n",
       "      <td>0.0</td>\n",
       "    </tr>\n",
       "  </tbody>\n",
       "</table>\n",
       "<p>138 rows × 129 columns</p>\n",
       "</div>"
      ],
      "text/plain": [
       "    diagnostics_Versions_PyRadiomics diagnostics_Versions_Numpy  \\\n",
       "7                             v3.1.0                     1.24.4   \n",
       "6                             v3.1.0                     1.24.4   \n",
       "82                            v3.1.0                     1.24.4   \n",
       "105                           v3.1.0                     1.24.4   \n",
       "22                            v3.1.0                     1.24.4   \n",
       "..                               ...                        ...   \n",
       "114                           v3.1.0                     1.24.4   \n",
       "121                           v3.1.0                     1.24.4   \n",
       "139                           v3.1.0                     1.24.4   \n",
       "11                            v3.1.0                     1.24.4   \n",
       "126                           v3.1.0                     1.24.4   \n",
       "\n",
       "    diagnostics_Versions_SimpleITK diagnostics_Versions_PyWavelet  \\\n",
       "7                            2.3.0                          1.3.0   \n",
       "6                            2.3.0                          1.3.0   \n",
       "82                           2.3.0                          1.3.0   \n",
       "105                          2.3.0                          1.3.0   \n",
       "22                           2.3.0                          1.3.0   \n",
       "..                             ...                            ...   \n",
       "114                          2.3.0                          1.3.0   \n",
       "121                          2.3.0                          1.3.0   \n",
       "139                          2.3.0                          1.3.0   \n",
       "11                           2.3.0                          1.3.0   \n",
       "126                          2.3.0                          1.3.0   \n",
       "\n",
       "    diagnostics_Versions_Python  \\\n",
       "7                        3.8.10   \n",
       "6                        3.8.10   \n",
       "82                       3.8.10   \n",
       "105                      3.8.10   \n",
       "22                       3.8.10   \n",
       "..                          ...   \n",
       "114                      3.8.10   \n",
       "121                      3.8.10   \n",
       "139                      3.8.10   \n",
       "11                       3.8.10   \n",
       "126                      3.8.10   \n",
       "\n",
       "                    diagnostics_Configuration_Settings  \\\n",
       "7    {'minimumROIDimensions': 2, 'minimumROISize': ...   \n",
       "6    {'minimumROIDimensions': 2, 'minimumROISize': ...   \n",
       "82   {'minimumROIDimensions': 2, 'minimumROISize': ...   \n",
       "105  {'minimumROIDimensions': 2, 'minimumROISize': ...   \n",
       "22   {'minimumROIDimensions': 2, 'minimumROISize': ...   \n",
       "..                                                 ...   \n",
       "114  {'minimumROIDimensions': 2, 'minimumROISize': ...   \n",
       "121  {'minimumROIDimensions': 2, 'minimumROISize': ...   \n",
       "139  {'minimumROIDimensions': 2, 'minimumROISize': ...   \n",
       "11   {'minimumROIDimensions': 2, 'minimumROISize': ...   \n",
       "126  {'minimumROIDimensions': 2, 'minimumROISize': ...   \n",
       "\n",
       "    diagnostics_Configuration_EnabledImageTypes  \\\n",
       "7                              {'Original': {}}   \n",
       "6                              {'Original': {}}   \n",
       "82                             {'Original': {}}   \n",
       "105                            {'Original': {}}   \n",
       "22                             {'Original': {}}   \n",
       "..                                          ...   \n",
       "114                            {'Original': {}}   \n",
       "121                            {'Original': {}}   \n",
       "139                            {'Original': {}}   \n",
       "11                             {'Original': {}}   \n",
       "126                            {'Original': {}}   \n",
       "\n",
       "              diagnostics_Image-original_Hash  \\\n",
       "7    fb4a81fdb3992ad84c30a8b375698703865cedca   \n",
       "6    9f5caa4b6c371e2481499536a42293ea38566e01   \n",
       "82   c1074b61b54bb1dbf078ef1f4cbed12eb9171021   \n",
       "105  010594e39186a59c22edbdc466ce3490712a382f   \n",
       "22   3f97719a461adbeb675972120c286c5c14f8ccb0   \n",
       "..                                        ...   \n",
       "114  db8cccb7996ada1f93cbf5f538e71b91a99a9f2a   \n",
       "121  c9cfd3ea91e653f7e0ff7610519db445d9f4edb5   \n",
       "139  d5647997b9ca22220d6a7cd550cb3a5e7d8da915   \n",
       "11   520d8172188f1317ebc078f0d312c1b0f70994bb   \n",
       "126  25520185ee849a692be7feda43d91e4b04a1829b   \n",
       "\n",
       "    diagnostics_Image-original_Dimensionality  \\\n",
       "7                                          3D   \n",
       "6                                          3D   \n",
       "82                                         3D   \n",
       "105                                        3D   \n",
       "22                                         3D   \n",
       "..                                        ...   \n",
       "114                                        3D   \n",
       "121                                        3D   \n",
       "139                                        3D   \n",
       "11                                         3D   \n",
       "126                                        3D   \n",
       "\n",
       "    diagnostics_Image-original_Spacing  ...  \\\n",
       "7                      (1.0, 1.0, 1.0)  ...   \n",
       "6                      (1.0, 1.0, 1.0)  ...   \n",
       "82                     (1.0, 1.0, 1.0)  ...   \n",
       "105                    (1.0, 1.0, 1.0)  ...   \n",
       "22                     (1.0, 1.0, 1.0)  ...   \n",
       "..                                 ...  ...   \n",
       "114                    (1.0, 1.0, 1.0)  ...   \n",
       "121                    (1.0, 1.0, 1.0)  ...   \n",
       "139                    (1.0, 1.0, 1.0)  ...   \n",
       "11                     (1.0, 1.0, 1.0)  ...   \n",
       "126                    (1.0, 1.0, 1.0)  ...   \n",
       "\n",
       "    original_glszm_SmallAreaHighGrayLevelEmphasis  \\\n",
       "7                          2.3962656595960855e-08   \n",
       "6                           3.689175239719656e-09   \n",
       "82                         1.5018262206843523e-08   \n",
       "105                         7.372991462937051e-10   \n",
       "22                          3.439136014197634e-11   \n",
       "..                                            ...   \n",
       "114                         4.626005847948639e-12   \n",
       "121                        1.1361946416131293e-09   \n",
       "139                        2.1950700062262724e-09   \n",
       "11                         2.1128741237053181e-10   \n",
       "126                         7.307761670717544e-10   \n",
       "\n",
       "    original_glszm_SmallAreaLowGrayLevelEmphasis original_glszm_ZoneEntropy  \\\n",
       "7                         2.3962656595960855e-08     -3.203426503814917e-16   \n",
       "6                          3.689175239719656e-09     -3.203426503814917e-16   \n",
       "82                        1.5018262206843523e-08     -3.203426503814917e-16   \n",
       "105                        7.372991462937051e-10     -3.203426503814917e-16   \n",
       "22                         3.439136014197634e-11     -3.203426503814917e-16   \n",
       "..                                           ...                        ...   \n",
       "114                        4.626005847948639e-12     -3.203426503814917e-16   \n",
       "121                       1.1361946416131293e-09     -3.203426503814917e-16   \n",
       "139                       2.1950700062262724e-09     -3.203426503814917e-16   \n",
       "11                        2.1128741237053181e-10     -3.203426503814917e-16   \n",
       "126                        7.307761670717544e-10     -3.203426503814917e-16   \n",
       "\n",
       "    original_glszm_ZonePercentage original_glszm_ZoneVariance  \\\n",
       "7          0.00015479876160990713                         0.0   \n",
       "6           6.073858114674441e-05                         0.0   \n",
       "82         0.00012254901960784314                         0.0   \n",
       "105        2.7153252959704574e-05                         0.0   \n",
       "22          5.864414731409805e-06                         0.0   \n",
       "..                            ...                         ...   \n",
       "114        2.1508151589452404e-06                         0.0   \n",
       "121         3.370748643273671e-05                         0.0   \n",
       "139         4.685157421289355e-05                         0.0   \n",
       "11         1.4535728821443106e-05                         0.0   \n",
       "126         2.703287197231834e-05                         0.0   \n",
       "\n",
       "    original_ngtdm_Busyness original_ngtdm_Coarseness  \\\n",
       "7                       0.0                 1000000.0   \n",
       "6                       0.0                 1000000.0   \n",
       "82                      0.0                 1000000.0   \n",
       "105                     0.0                 1000000.0   \n",
       "22                      0.0                 1000000.0   \n",
       "..                      ...                       ...   \n",
       "114                     0.0                 1000000.0   \n",
       "121                     0.0                 1000000.0   \n",
       "139                     0.0                 1000000.0   \n",
       "11                      0.0                 1000000.0   \n",
       "126                     0.0                 1000000.0   \n",
       "\n",
       "    original_ngtdm_Complexity original_ngtdm_Contrast original_ngtdm_Strength  \n",
       "7                         0.0                     0.0                     0.0  \n",
       "6                         0.0                     0.0                     0.0  \n",
       "82                        0.0                     0.0                     0.0  \n",
       "105                       0.0                     0.0                     0.0  \n",
       "22                        0.0                     0.0                     0.0  \n",
       "..                        ...                     ...                     ...  \n",
       "114                       0.0                     0.0                     0.0  \n",
       "121                       0.0                     0.0                     0.0  \n",
       "139                       0.0                     0.0                     0.0  \n",
       "11                        0.0                     0.0                     0.0  \n",
       "126                       0.0                     0.0                     0.0  \n",
       "\n",
       "[138 rows x 129 columns]"
      ]
     },
     "execution_count": 8,
     "metadata": {},
     "output_type": "execute_result"
    }
   ],
   "source": [
    "df.T"
   ]
  },
  {
   "cell_type": "code",
   "execution_count": 9,
   "metadata": {},
   "outputs": [],
   "source": [
    "df = df.T"
   ]
  },
  {
   "cell_type": "code",
   "execution_count": 10,
   "metadata": {},
   "outputs": [],
   "source": [
    "df.index = pd.to_numeric(df.index)\n",
    "df.sort_index(inplace=True)"
   ]
  },
  {
   "cell_type": "code",
   "execution_count": 11,
   "metadata": {},
   "outputs": [],
   "source": [
    "df.to_csv('/mnt/data/psteinmetz/bb_results_40.csv')"
   ]
  },
  {
   "cell_type": "code",
   "execution_count": 59,
   "metadata": {},
   "outputs": [
    {
     "data": {
      "text/plain": [
       "diagnostics_Versions_PyRadiomics       v3.1.0\n",
       "diagnostics_Versions_Numpy             1.24.4\n",
       "diagnostics_Versions_SimpleITK          2.3.0\n",
       "diagnostics_Versions_PyWavelet          1.3.0\n",
       "diagnostics_Versions_Python            3.8.10\n",
       "                                      ...    \n",
       "original_ngtdm_Busyness                   0.0\n",
       "original_ngtdm_Coarseness           1000000.0\n",
       "original_ngtdm_Complexity                 0.0\n",
       "original_ngtdm_Contrast                   0.0\n",
       "original_ngtdm_Strength                   0.0\n",
       "Name: 112, Length: 129, dtype: object"
      ]
     },
     "execution_count": 59,
     "metadata": {},
     "output_type": "execute_result"
    }
   ],
   "source": [
    "df.iloc[110, :]"
   ]
  },
  {
   "cell_type": "code",
   "execution_count": 19,
   "metadata": {},
   "outputs": [],
   "source": [
    "path_to_csv = r'/mnt/data/psteinmetz/neotex/CSV/TUMOUR.csv'\n",
    "path_to_csv_ville = r'/mnt/data/psteinmetz/neotex/CSV/Tumour_ville.csv'\n",
    "\n",
    "data_train = pd.concat((dt.fread(path_to_csv).to_pandas(), dt.fread(path_to_csv_ville).to_pandas()), ignore_index=True)\n",
    "original_radiomic_train_data = data_train.filter(regex='original')\n",
    "originalT1_40_train_data = original_radiomic_train_data.filter(regex='40')\n",
    "original_shape_features_train_data_T1_40 = originalT1_40_train_data.filter(regex='shape')"
   ]
  },
  {
   "cell_type": "code",
   "execution_count": 23,
   "metadata": {},
   "outputs": [],
   "source": [
    "to_export = pd.concat((data_train[['Record_ID']], original_shape_features_train_data_T1_40), axis=1)"
   ]
  },
  {
   "cell_type": "code",
   "execution_count": 32,
   "metadata": {},
   "outputs": [
    {
     "data": {
      "text/html": [
       "<div>\n",
       "<style scoped>\n",
       "    .dataframe tbody tr th:only-of-type {\n",
       "        vertical-align: middle;\n",
       "    }\n",
       "\n",
       "    .dataframe tbody tr th {\n",
       "        vertical-align: top;\n",
       "    }\n",
       "\n",
       "    .dataframe thead th {\n",
       "        text-align: right;\n",
       "    }\n",
       "</style>\n",
       "<table border=\"1\" class=\"dataframe\">\n",
       "  <thead>\n",
       "    <tr style=\"text-align: right;\">\n",
       "      <th></th>\n",
       "      <th>Record_ID</th>\n",
       "      <th>original_shape_Elongation_40.0</th>\n",
       "      <th>original_shape_Flatness_40.0</th>\n",
       "      <th>original_shape_LeastAxisLength_40.0</th>\n",
       "      <th>original_shape_MajorAxisLength_40.0</th>\n",
       "      <th>original_shape_Maximum2DDiameterColumn_40.0</th>\n",
       "      <th>original_shape_Maximum2DDiameterRow_40.0</th>\n",
       "      <th>original_shape_Maximum2DDiameterSlice_40.0</th>\n",
       "      <th>original_shape_Maximum3DDiameter_40.0</th>\n",
       "      <th>original_shape_MeshVolume_40.0</th>\n",
       "      <th>original_shape_MinorAxisLength_40.0</th>\n",
       "      <th>original_shape_Sphericity_40.0</th>\n",
       "      <th>original_shape_SurfaceArea_40.0</th>\n",
       "      <th>original_shape_SurfaceVolumeRatio_40.0</th>\n",
       "      <th>original_shape_VoxelVolume_40.0</th>\n",
       "    </tr>\n",
       "  </thead>\n",
       "  <tbody>\n",
       "    <tr>\n",
       "      <th>0</th>\n",
       "      <td>1</td>\n",
       "      <td>0.895548</td>\n",
       "      <td>0.565147</td>\n",
       "      <td>14.339323</td>\n",
       "      <td>25.372732</td>\n",
       "      <td>30.016662</td>\n",
       "      <td>30.463092</td>\n",
       "      <td>29.832868</td>\n",
       "      <td>33.481338</td>\n",
       "      <td>5133.958333</td>\n",
       "      <td>22.722487</td>\n",
       "      <td>0.625324</td>\n",
       "      <td>2301.515215</td>\n",
       "      <td>0.448293</td>\n",
       "      <td>5178.0</td>\n",
       "    </tr>\n",
       "    <tr>\n",
       "      <th>1</th>\n",
       "      <td>2</td>\n",
       "      <td>0.843668</td>\n",
       "      <td>0.564483</td>\n",
       "      <td>15.991587</td>\n",
       "      <td>28.329629</td>\n",
       "      <td>29.068884</td>\n",
       "      <td>28.792360</td>\n",
       "      <td>33.970576</td>\n",
       "      <td>34.583233</td>\n",
       "      <td>6003.208333</td>\n",
       "      <td>23.900801</td>\n",
       "      <td>0.496682</td>\n",
       "      <td>3216.091472</td>\n",
       "      <td>0.535729</td>\n",
       "      <td>6070.0</td>\n",
       "    </tr>\n",
       "    <tr>\n",
       "      <th>2</th>\n",
       "      <td>4</td>\n",
       "      <td>0.939334</td>\n",
       "      <td>0.641285</td>\n",
       "      <td>25.829186</td>\n",
       "      <td>40.277256</td>\n",
       "      <td>51.971146</td>\n",
       "      <td>50.219518</td>\n",
       "      <td>51.971146</td>\n",
       "      <td>55.659680</td>\n",
       "      <td>14413.583333</td>\n",
       "      <td>37.833794</td>\n",
       "      <td>0.273335</td>\n",
       "      <td>10478.596433</td>\n",
       "      <td>0.726995</td>\n",
       "      <td>14590.0</td>\n",
       "    </tr>\n",
       "    <tr>\n",
       "      <th>3</th>\n",
       "      <td>5</td>\n",
       "      <td>0.522344</td>\n",
       "      <td>0.408749</td>\n",
       "      <td>19.814428</td>\n",
       "      <td>48.475759</td>\n",
       "      <td>34.669872</td>\n",
       "      <td>54.120237</td>\n",
       "      <td>54.009258</td>\n",
       "      <td>56.160484</td>\n",
       "      <td>9576.583333</td>\n",
       "      <td>25.321014</td>\n",
       "      <td>0.345585</td>\n",
       "      <td>6310.589573</td>\n",
       "      <td>0.658960</td>\n",
       "      <td>9666.0</td>\n",
       "    </tr>\n",
       "    <tr>\n",
       "      <th>4</th>\n",
       "      <td>6</td>\n",
       "      <td>0.679699</td>\n",
       "      <td>0.523767</td>\n",
       "      <td>13.203994</td>\n",
       "      <td>25.209674</td>\n",
       "      <td>26.925824</td>\n",
       "      <td>23.537205</td>\n",
       "      <td>27.802878</td>\n",
       "      <td>32.449961</td>\n",
       "      <td>3329.541667</td>\n",
       "      <td>17.134995</td>\n",
       "      <td>0.558138</td>\n",
       "      <td>1931.963073</td>\n",
       "      <td>0.580249</td>\n",
       "      <td>3382.0</td>\n",
       "    </tr>\n",
       "    <tr>\n",
       "      <th>5</th>\n",
       "      <td>7</td>\n",
       "      <td>0.881015</td>\n",
       "      <td>0.603982</td>\n",
       "      <td>10.848412</td>\n",
       "      <td>17.961469</td>\n",
       "      <td>20.124612</td>\n",
       "      <td>19.104973</td>\n",
       "      <td>21.095023</td>\n",
       "      <td>21.470911</td>\n",
       "      <td>2023.250000</td>\n",
       "      <td>15.824333</td>\n",
       "      <td>0.728581</td>\n",
       "      <td>1061.791831</td>\n",
       "      <td>0.524795</td>\n",
       "      <td>2037.0</td>\n",
       "    </tr>\n",
       "    <tr>\n",
       "      <th>6</th>\n",
       "      <td>8</td>\n",
       "      <td>0.608037</td>\n",
       "      <td>0.367255</td>\n",
       "      <td>27.437456</td>\n",
       "      <td>74.709652</td>\n",
       "      <td>84.214013</td>\n",
       "      <td>83.546394</td>\n",
       "      <td>71.386273</td>\n",
       "      <td>88.803153</td>\n",
       "      <td>24197.750000</td>\n",
       "      <td>45.426269</td>\n",
       "      <td>0.212454</td>\n",
       "      <td>19043.002024</td>\n",
       "      <td>0.786974</td>\n",
       "      <td>24376.0</td>\n",
       "    </tr>\n",
       "    <tr>\n",
       "      <th>7</th>\n",
       "      <td>9</td>\n",
       "      <td>0.916094</td>\n",
       "      <td>0.637692</td>\n",
       "      <td>19.473249</td>\n",
       "      <td>30.537095</td>\n",
       "      <td>40.804412</td>\n",
       "      <td>39.812058</td>\n",
       "      <td>33.970576</td>\n",
       "      <td>41.916584</td>\n",
       "      <td>8072.291667</td>\n",
       "      <td>27.974839</td>\n",
       "      <td>0.424611</td>\n",
       "      <td>4583.082954</td>\n",
       "      <td>0.567755</td>\n",
       "      <td>8117.0</td>\n",
       "    </tr>\n",
       "    <tr>\n",
       "      <th>8</th>\n",
       "      <td>10</td>\n",
       "      <td>0.909523</td>\n",
       "      <td>0.738325</td>\n",
       "      <td>17.117699</td>\n",
       "      <td>23.184510</td>\n",
       "      <td>24.698178</td>\n",
       "      <td>26.925824</td>\n",
       "      <td>28.792360</td>\n",
       "      <td>29.765752</td>\n",
       "      <td>5240.583333</td>\n",
       "      <td>21.086841</td>\n",
       "      <td>0.667545</td>\n",
       "      <td>2185.698728</td>\n",
       "      <td>0.417072</td>\n",
       "      <td>5263.0</td>\n",
       "    </tr>\n",
       "    <tr>\n",
       "      <th>9</th>\n",
       "      <td>12</td>\n",
       "      <td>0.889840</td>\n",
       "      <td>0.772762</td>\n",
       "      <td>19.171152</td>\n",
       "      <td>24.808625</td>\n",
       "      <td>31.304952</td>\n",
       "      <td>32.984845</td>\n",
       "      <td>28.301943</td>\n",
       "      <td>33.000000</td>\n",
       "      <td>4956.583333</td>\n",
       "      <td>22.075706</td>\n",
       "      <td>0.369045</td>\n",
       "      <td>3809.430243</td>\n",
       "      <td>0.768560</td>\n",
       "      <td>4949.0</td>\n",
       "    </tr>\n",
       "    <tr>\n",
       "      <th>10</th>\n",
       "      <td>13</td>\n",
       "      <td>0.888289</td>\n",
       "      <td>0.639091</td>\n",
       "      <td>11.989157</td>\n",
       "      <td>18.759712</td>\n",
       "      <td>21.095023</td>\n",
       "      <td>21.633308</td>\n",
       "      <td>20.099751</td>\n",
       "      <td>24.899799</td>\n",
       "      <td>2185.000000</td>\n",
       "      <td>16.664043</td>\n",
       "      <td>0.622540</td>\n",
       "      <td>1308.029795</td>\n",
       "      <td>0.598641</td>\n",
       "      <td>2213.0</td>\n",
       "    </tr>\n",
       "    <tr>\n",
       "      <th>11</th>\n",
       "      <td>14</td>\n",
       "      <td>0.849358</td>\n",
       "      <td>0.741944</td>\n",
       "      <td>15.129978</td>\n",
       "      <td>20.392354</td>\n",
       "      <td>20.615528</td>\n",
       "      <td>26.925824</td>\n",
       "      <td>26.476405</td>\n",
       "      <td>28.913665</td>\n",
       "      <td>3234.375000</td>\n",
       "      <td>17.320403</td>\n",
       "      <td>0.630991</td>\n",
       "      <td>1676.182531</td>\n",
       "      <td>0.518240</td>\n",
       "      <td>3253.0</td>\n",
       "    </tr>\n",
       "    <tr>\n",
       "      <th>12</th>\n",
       "      <td>15</td>\n",
       "      <td>0.734469</td>\n",
       "      <td>0.522639</td>\n",
       "      <td>23.221025</td>\n",
       "      <td>44.430316</td>\n",
       "      <td>42.190046</td>\n",
       "      <td>63.631753</td>\n",
       "      <td>49.193496</td>\n",
       "      <td>65.916614</td>\n",
       "      <td>4723.625000</td>\n",
       "      <td>32.632669</td>\n",
       "      <td>0.241494</td>\n",
       "      <td>5637.597139</td>\n",
       "      <td>1.193490</td>\n",
       "      <td>4938.0</td>\n",
       "    </tr>\n",
       "    <tr>\n",
       "      <th>13</th>\n",
       "      <td>16</td>\n",
       "      <td>0.796096</td>\n",
       "      <td>0.672145</td>\n",
       "      <td>21.487104</td>\n",
       "      <td>31.967970</td>\n",
       "      <td>37.696154</td>\n",
       "      <td>39.962482</td>\n",
       "      <td>33.615473</td>\n",
       "      <td>40.804412</td>\n",
       "      <td>8535.500000</td>\n",
       "      <td>25.449577</td>\n",
       "      <td>0.403994</td>\n",
       "      <td>4999.518270</td>\n",
       "      <td>0.585732</td>\n",
       "      <td>8591.0</td>\n",
       "    </tr>\n",
       "    <tr>\n",
       "      <th>14</th>\n",
       "      <td>17</td>\n",
       "      <td>0.883660</td>\n",
       "      <td>0.776078</td>\n",
       "      <td>11.136768</td>\n",
       "      <td>14.350059</td>\n",
       "      <td>16.155494</td>\n",
       "      <td>16.155494</td>\n",
       "      <td>15.132746</td>\n",
       "      <td>16.763055</td>\n",
       "      <td>818.125000</td>\n",
       "      <td>12.680579</td>\n",
       "      <td>0.487742</td>\n",
       "      <td>867.308133</td>\n",
       "      <td>1.060117</td>\n",
       "      <td>831.0</td>\n",
       "    </tr>\n",
       "  </tbody>\n",
       "</table>\n",
       "</div>"
      ],
      "text/plain": [
       "    Record_ID  original_shape_Elongation_40.0  original_shape_Flatness_40.0  \\\n",
       "0           1                        0.895548                      0.565147   \n",
       "1           2                        0.843668                      0.564483   \n",
       "2           4                        0.939334                      0.641285   \n",
       "3           5                        0.522344                      0.408749   \n",
       "4           6                        0.679699                      0.523767   \n",
       "5           7                        0.881015                      0.603982   \n",
       "6           8                        0.608037                      0.367255   \n",
       "7           9                        0.916094                      0.637692   \n",
       "8          10                        0.909523                      0.738325   \n",
       "9          12                        0.889840                      0.772762   \n",
       "10         13                        0.888289                      0.639091   \n",
       "11         14                        0.849358                      0.741944   \n",
       "12         15                        0.734469                      0.522639   \n",
       "13         16                        0.796096                      0.672145   \n",
       "14         17                        0.883660                      0.776078   \n",
       "\n",
       "    original_shape_LeastAxisLength_40.0  original_shape_MajorAxisLength_40.0  \\\n",
       "0                             14.339323                            25.372732   \n",
       "1                             15.991587                            28.329629   \n",
       "2                             25.829186                            40.277256   \n",
       "3                             19.814428                            48.475759   \n",
       "4                             13.203994                            25.209674   \n",
       "5                             10.848412                            17.961469   \n",
       "6                             27.437456                            74.709652   \n",
       "7                             19.473249                            30.537095   \n",
       "8                             17.117699                            23.184510   \n",
       "9                             19.171152                            24.808625   \n",
       "10                            11.989157                            18.759712   \n",
       "11                            15.129978                            20.392354   \n",
       "12                            23.221025                            44.430316   \n",
       "13                            21.487104                            31.967970   \n",
       "14                            11.136768                            14.350059   \n",
       "\n",
       "    original_shape_Maximum2DDiameterColumn_40.0  \\\n",
       "0                                     30.016662   \n",
       "1                                     29.068884   \n",
       "2                                     51.971146   \n",
       "3                                     34.669872   \n",
       "4                                     26.925824   \n",
       "5                                     20.124612   \n",
       "6                                     84.214013   \n",
       "7                                     40.804412   \n",
       "8                                     24.698178   \n",
       "9                                     31.304952   \n",
       "10                                    21.095023   \n",
       "11                                    20.615528   \n",
       "12                                    42.190046   \n",
       "13                                    37.696154   \n",
       "14                                    16.155494   \n",
       "\n",
       "    original_shape_Maximum2DDiameterRow_40.0  \\\n",
       "0                                  30.463092   \n",
       "1                                  28.792360   \n",
       "2                                  50.219518   \n",
       "3                                  54.120237   \n",
       "4                                  23.537205   \n",
       "5                                  19.104973   \n",
       "6                                  83.546394   \n",
       "7                                  39.812058   \n",
       "8                                  26.925824   \n",
       "9                                  32.984845   \n",
       "10                                 21.633308   \n",
       "11                                 26.925824   \n",
       "12                                 63.631753   \n",
       "13                                 39.962482   \n",
       "14                                 16.155494   \n",
       "\n",
       "    original_shape_Maximum2DDiameterSlice_40.0  \\\n",
       "0                                    29.832868   \n",
       "1                                    33.970576   \n",
       "2                                    51.971146   \n",
       "3                                    54.009258   \n",
       "4                                    27.802878   \n",
       "5                                    21.095023   \n",
       "6                                    71.386273   \n",
       "7                                    33.970576   \n",
       "8                                    28.792360   \n",
       "9                                    28.301943   \n",
       "10                                   20.099751   \n",
       "11                                   26.476405   \n",
       "12                                   49.193496   \n",
       "13                                   33.615473   \n",
       "14                                   15.132746   \n",
       "\n",
       "    original_shape_Maximum3DDiameter_40.0  original_shape_MeshVolume_40.0  \\\n",
       "0                               33.481338                     5133.958333   \n",
       "1                               34.583233                     6003.208333   \n",
       "2                               55.659680                    14413.583333   \n",
       "3                               56.160484                     9576.583333   \n",
       "4                               32.449961                     3329.541667   \n",
       "5                               21.470911                     2023.250000   \n",
       "6                               88.803153                    24197.750000   \n",
       "7                               41.916584                     8072.291667   \n",
       "8                               29.765752                     5240.583333   \n",
       "9                               33.000000                     4956.583333   \n",
       "10                              24.899799                     2185.000000   \n",
       "11                              28.913665                     3234.375000   \n",
       "12                              65.916614                     4723.625000   \n",
       "13                              40.804412                     8535.500000   \n",
       "14                              16.763055                      818.125000   \n",
       "\n",
       "    original_shape_MinorAxisLength_40.0  original_shape_Sphericity_40.0  \\\n",
       "0                             22.722487                        0.625324   \n",
       "1                             23.900801                        0.496682   \n",
       "2                             37.833794                        0.273335   \n",
       "3                             25.321014                        0.345585   \n",
       "4                             17.134995                        0.558138   \n",
       "5                             15.824333                        0.728581   \n",
       "6                             45.426269                        0.212454   \n",
       "7                             27.974839                        0.424611   \n",
       "8                             21.086841                        0.667545   \n",
       "9                             22.075706                        0.369045   \n",
       "10                            16.664043                        0.622540   \n",
       "11                            17.320403                        0.630991   \n",
       "12                            32.632669                        0.241494   \n",
       "13                            25.449577                        0.403994   \n",
       "14                            12.680579                        0.487742   \n",
       "\n",
       "    original_shape_SurfaceArea_40.0  original_shape_SurfaceVolumeRatio_40.0  \\\n",
       "0                       2301.515215                                0.448293   \n",
       "1                       3216.091472                                0.535729   \n",
       "2                      10478.596433                                0.726995   \n",
       "3                       6310.589573                                0.658960   \n",
       "4                       1931.963073                                0.580249   \n",
       "5                       1061.791831                                0.524795   \n",
       "6                      19043.002024                                0.786974   \n",
       "7                       4583.082954                                0.567755   \n",
       "8                       2185.698728                                0.417072   \n",
       "9                       3809.430243                                0.768560   \n",
       "10                      1308.029795                                0.598641   \n",
       "11                      1676.182531                                0.518240   \n",
       "12                      5637.597139                                1.193490   \n",
       "13                      4999.518270                                0.585732   \n",
       "14                       867.308133                                1.060117   \n",
       "\n",
       "    original_shape_VoxelVolume_40.0  \n",
       "0                            5178.0  \n",
       "1                            6070.0  \n",
       "2                           14590.0  \n",
       "3                            9666.0  \n",
       "4                            3382.0  \n",
       "5                            2037.0  \n",
       "6                           24376.0  \n",
       "7                            8117.0  \n",
       "8                            5263.0  \n",
       "9                            4949.0  \n",
       "10                           2213.0  \n",
       "11                           3253.0  \n",
       "12                           4938.0  \n",
       "13                           8591.0  \n",
       "14                            831.0  "
      ]
     },
     "execution_count": 32,
     "metadata": {},
     "output_type": "execute_result"
    }
   ],
   "source": [
    "to_export.head(15)"
   ]
  },
  {
   "cell_type": "code",
   "execution_count": 25,
   "metadata": {},
   "outputs": [],
   "source": [
    "to_export.to_csv('/mnt/data/psteinmetz/shape_40.csv')"
   ]
  },
  {
   "cell_type": "code",
   "execution_count": null,
   "metadata": {},
   "outputs": [],
   "source": []
  }
 ],
 "metadata": {
  "kernelspec": {
   "display_name": "Python 3",
   "language": "python",
   "name": "python3"
  },
  "language_info": {
   "codemirror_mode": {
    "name": "ipython",
    "version": 3
   },
   "file_extension": ".py",
   "mimetype": "text/x-python",
   "name": "python",
   "nbconvert_exporter": "python",
   "pygments_lexer": "ipython3",
   "version": "3.8.10"
  }
 },
 "nbformat": 4,
 "nbformat_minor": 2
}
