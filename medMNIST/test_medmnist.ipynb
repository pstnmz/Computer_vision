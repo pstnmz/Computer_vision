{
 "cells": [
  {
   "cell_type": "code",
   "execution_count": 4,
   "id": "1b07c0a1",
   "metadata": {},
   "outputs": [],
   "source": [
    "import medmnist\n",
    "from medmnist import INFO, Evaluator\n",
    "import torch\n",
    "import torch.nn as nn\n",
    "import torch.nn.functional as F\n",
    "from torch.utils.data import DataLoader, ConcatDataset, random_split\n",
    "import torchvision.transforms as transforms\n",
    "import numpy as np\n",
    "from torchvision.models import resnet18\n",
    "import matplotlib.pyplot as plt\n"
   ]
  },
  {
   "cell_type": "code",
   "execution_count": 5,
   "id": "c3a9c3db",
   "metadata": {},
   "outputs": [],
   "source": [
    "# Load organAMNIST dataset\n",
    "data_flag = 'breastmnist'\n",
    "download = True\n",
    "info = INFO[data_flag]\n",
    "DataClass = getattr(medmnist, info['python_class'])\n",
    "num_classes = len(info['label'])\n",
    "device = torch.device('cuda' if torch.cuda.is_available() else 'cpu')\n",
    "\n",
    "transform = transforms.Compose([\n",
    "    transforms.ToTensor(),\n",
    "    transforms.Lambda(lambda x: x.repeat(3, 1, 1))  # Repeat the single channel 3 times\n",
    "])\n",
    "\n",
    "train_dataset = DataClass(split='train', download=download, transform=transform)\n",
    "train_loader = DataLoader(dataset=train_dataset, batch_size=128, shuffle=False)\n",
    "test_dataset = DataClass(split='test', download=download, transform=transform)\n",
    "test_loader = DataLoader(dataset=test_dataset, batch_size=128, shuffle=False)\n",
    "val_dataset = DataClass(split='val', download=download, transform=transform)\n",
    "val_loader = DataLoader(dataset=val_dataset, batch_size=128, shuffle=False)"
   ]
  },
  {
   "cell_type": "code",
   "execution_count": 6,
   "id": "60fe9a6d",
   "metadata": {},
   "outputs": [
    {
     "data": {
      "text/plain": [
       "{'python_class': 'BreastMNIST',\n",
       " 'description': 'The BreastMNIST is based on a dataset of 780 breast ultrasound images. It is categorized into 3 classes: normal, benign, and malignant. As we use low-resolution images, we simplify the task into binary classification by combining normal and benign as positive and classifying them against malignant as negative. We split the source dataset with a ratio of 7:1:2 into training, validation and test set. The source images of 1×500×500 are resized into 1×28×28.',\n",
       " 'url': 'https://zenodo.org/records/10519652/files/breastmnist.npz?download=1',\n",
       " 'MD5': '750601b1f35ba3300ea97c75c52ff8f6',\n",
       " 'url_64': 'https://zenodo.org/records/10519652/files/breastmnist_64.npz?download=1',\n",
       " 'MD5_64': '742edef2a1fd1524b2efff4bd7ba9364',\n",
       " 'url_128': 'https://zenodo.org/records/10519652/files/breastmnist_128.npz?download=1',\n",
       " 'MD5_128': '363e4b3f8d712e9b5de15470a2aaadf1',\n",
       " 'url_224': 'https://zenodo.org/records/10519652/files/breastmnist_224.npz?download=1',\n",
       " 'MD5_224': 'b56378a6eefa9fed602bb16d192d4c8b',\n",
       " 'task': 'binary-class',\n",
       " 'label': {'0': 'malignant', '1': 'normal, benign'},\n",
       " 'n_channels': 1,\n",
       " 'n_samples': {'train': 546, 'val': 78, 'test': 156},\n",
       " 'license': 'CC BY 4.0'}"
      ]
     },
     "execution_count": 6,
     "metadata": {},
     "output_type": "execute_result"
    }
   ],
   "source": [
    "info"
   ]
  },
  {
   "cell_type": "code",
   "execution_count": 14,
   "id": "3322f9e7",
   "metadata": {},
   "outputs": [],
   "source": [
    "# Sum the unique counts of the three datasets\n",
    "unique_counts = (\n",
    "\tnp.unique_counts(train_dataset.labels)[1] +\n",
    "\tnp.unique_counts(val_dataset.labels)[1] +\n",
    "\tnp.unique_counts(test_dataset.labels)[1]\n",
    ")"
   ]
  },
  {
   "cell_type": "code",
   "execution_count": 13,
   "id": "60f81a98",
   "metadata": {},
   "outputs": [
    {
     "data": {
      "image/png": "[encoded data removed]",
      "text/plain": [
       "<Figure size 640x480 with 1 Axes>"
      ]
     },
     "metadata": {},
     "output_type": "display_data"
    }
   ],
   "source": [
    "labels = ['Label 0', 'Label 1']\n",
    "plt.bar(labels, unique_counts, color='blue')\n",
    "plt.xlabel('Labels')\n",
    "plt.ylabel('Count')\n",
    "plt.title('Count of Labels')\n",
    "plt.show()"
   ]
  },
  {
   "cell_type": "code",
   "execution_count": 8,
   "id": "7b617c42",
   "metadata": {},
   "outputs": [
    {
     "data": {
      "text/plain": [
       "array([210, 570])"
      ]
     },
     "execution_count": 8,
     "metadata": {},
     "output_type": "execute_result"
    }
   ],
   "source": [
    "unique_counts"
   ]
  },
  {
   "cell_type": "code",
   "execution_count": null,
   "id": "1a79395b",
   "metadata": {},
   "outputs": [
    {
     "ename": "TypeError",
     "evalue": "barh() missing 1 required positional argument: 'width'",
     "output_type": "error",
     "traceback": [
      "\u001b[0;31m---------------------------------------------------------------------------\u001b[0m",
      "\u001b[0;31mTypeError\u001b[0m                                 Traceback (most recent call last)",
      "Cell \u001b[0;32mIn[12], line 1\u001b[0m\n\u001b[0;32m----> 1\u001b[0m \u001b[43mplt\u001b[49m\u001b[38;5;241;43m.\u001b[39;49m\u001b[43mbarh\u001b[49m\u001b[43m(\u001b[49m\u001b[43munique_counts\u001b[49m\u001b[43m,\u001b[49m\u001b[43m \u001b[49m\u001b[43mcolor\u001b[49m\u001b[38;5;241;43m=\u001b[39;49m\u001b[38;5;124;43m'\u001b[39;49m\u001b[38;5;124;43mblue\u001b[39;49m\u001b[38;5;124;43m'\u001b[39;49m\u001b[43m)\u001b[49m\n",
      "\u001b[0;31mTypeError\u001b[0m: barh() missing 1 required positional argument: 'width'"
     ]
    }
   ],
   "source": [
    "plt.bar(unique_counts, color='blue')"
   ]
  },
  {
   "cell_type": "code",
   "execution_count": null,
   "id": "3ac0a3fb",
   "metadata": {},
   "outputs": [],
   "source": []
  }
 ],
 "metadata": {
  "kernelspec": {
   "display_name": "venv_medMNIST",
   "language": "python",
   "name": "python3"
  },
  "language_info": {
   "codemirror_mode": {
    "name": "ipython",
    "version": 3
   },
   "file_extension": ".py",
   "mimetype": "text/x-python",
   "name": "python",
   "nbconvert_exporter": "python",
   "pygments_lexer": "ipython3",
   "version": "3.12.3"
  }
 },
 "nbformat": 4,
 "nbformat_minor": 5
}
